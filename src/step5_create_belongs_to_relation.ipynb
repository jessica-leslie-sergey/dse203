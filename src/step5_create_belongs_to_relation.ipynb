{
 "cells": [
  {
   "cell_type": "markdown",
   "id": "oADh7hEn7vZ5",
   "metadata": {
    "id": "oADh7hEn7vZ5"
   },
   "source": [
    "# Notebook 5: Match Occupations and Listings and Produce Relations between them:\n",
    "\n",
    "```\n",
    "[BELONGS_TO] RELATION\t\t\t\t\tbelongs_to__relation.csv\n",
    ":START_ID = listing_id\n",
    ":END_ID =  occupation_id\n",
    ":TYPE = \"BELONGS_TO\"\n",
    "```"
   ]
  },
  {
   "cell_type": "markdown",
   "id": "sxzFYy_q7zW1",
   "metadata": {
    "id": "sxzFYy_q7zW1"
   },
   "source": [
    "## Imports"
   ]
  },
  {
   "cell_type": "code",
   "execution_count": 1,
   "id": "a230f417",
   "metadata": {
    "colab": {
     "base_uri": "https://localhost:8080/"
    },
    "executionInfo": {
     "elapsed": 28198,
     "status": "ok",
     "timestamp": 1670617136158,
     "user": {
      "displayName": "Jessica Allen",
      "userId": "15627582710344148622"
     },
     "user_tz": 480
    },
    "id": "a230f417",
    "outputId": "a7374004-3e67-4502-8bef-d168a74cc49c"
   },
   "outputs": [],
   "source": [
    "# %pip install py_stringmatching\n",
    "# %pip install xmltodict\n",
    "\n",
    "import pandas as pd\n",
    "import numpy as np\n",
    "import xmltodict\n",
    "import py_stringmatching as sm\n",
    "import requests"
   ]
  },
  {
   "cell_type": "code",
   "execution_count": 2,
   "id": "x7RDAiv-6vP1",
   "metadata": {
    "colab": {
     "base_uri": "https://localhost:8080/"
    },
    "executionInfo": {
     "elapsed": 88587,
     "status": "ok",
     "timestamp": 1670617224741,
     "user": {
      "displayName": "Jessica Allen",
      "userId": "15627582710344148622"
     },
     "user_tz": 480
    },
    "id": "x7RDAiv-6vP1",
    "outputId": "2e090ed2-1c5c-4a25-c512-181b0800ed00"
   },
   "outputs": [],
   "source": [
    "# this cell is to support running the notebook in Google Colab \n",
    "\n",
    "mydrive = \"\"  # this is when we run locally\n",
    "\n",
    "# Google Colab:\n",
    "# from google.colab import drive\n",
    "# drive.mount('/content/drive')\n",
    "# mydrive = \"/content/drive/MyDrive/DSE 203 — etl/DSE203_Project/\"  # this is when we run on COLAB Leslie\n",
    "# mydrive = \"/content/drive/MyDrive/DSE203/DSE203_Project/\"  # this is when we run on COLAB Jessica\n",
    "# mydrive = \"/content/drive/MyDrive/DSE203_Project/\"  # this is when we run on COLAB Sergey\n",
    "\n",
    "input_dir = mydrive+\"input_datasets/\"\n",
    "output_dir = mydrive+\"output_datasets/\"\n",
    "temp_dir = mydrive+\"temp_datasets/\""
   ]
  },
  {
   "cell_type": "markdown",
   "id": "N3GsFbtE9tXJ",
   "metadata": {
    "id": "N3GsFbtE9tXJ"
   },
   "source": [
    "## Read Data"
   ]
  },
  {
   "cell_type": "code",
   "execution_count": 3,
   "id": "2W-qL7Fxw3gT",
   "metadata": {
    "colab": {
     "base_uri": "https://localhost:8080/",
     "height": 322
    },
    "executionInfo": {
     "elapsed": 2341,
     "status": "ok",
     "timestamp": 1670617227077,
     "user": {
      "displayName": "Jessica Allen",
      "userId": "15627582710344148622"
     },
     "user_tz": 480
    },
    "id": "2W-qL7Fxw3gT",
    "outputId": "9acb57d1-f595-453a-b446-ae1ac977ebed"
   },
   "outputs": [
    {
     "name": "stdout",
     "output_type": "stream",
     "text": [
      "     listing_id                               skill_name\n",
      "180          13                         pdf resume pdfwe\n",
      "181          13  skills, knowledge and abilities handson\n",
      "    listing_id             listing_title  \\\n",
      "12          12  LMS (Saba) Administrator   \n",
      "13          13       Front End Developer   \n",
      "\n",
      "                                          description   :LABEL  \n",
      "12  LMS SABA ADMINISTRATOR  Waltham, MAKelly Servi...  LISTING  \n",
      "13  Job Title Front End DeveloperPosition SummaryT...  LISTING  \n"
     ]
    },
    {
     "data": {
      "text/html": [
       "<div>\n",
       "<style scoped>\n",
       "    .dataframe tbody tr th:only-of-type {\n",
       "        vertical-align: middle;\n",
       "    }\n",
       "\n",
       "    .dataframe tbody tr th {\n",
       "        vertical-align: top;\n",
       "    }\n",
       "\n",
       "    .dataframe thead th {\n",
       "        text-align: right;\n",
       "    }\n",
       "</style>\n",
       "<table border=\"1\" class=\"dataframe\">\n",
       "  <thead>\n",
       "    <tr style=\"text-align: right;\">\n",
       "      <th></th>\n",
       "      <th>occupation_id</th>\n",
       "      <th>onet_code</th>\n",
       "      <th>occupation_title</th>\n",
       "      <th>occupation_synonyms</th>\n",
       "      <th>occupation_description</th>\n",
       "      <th>occupation_salary</th>\n",
       "      <th>:LABEL</th>\n",
       "    </tr>\n",
       "  </thead>\n",
       "  <tbody>\n",
       "    <tr>\n",
       "      <th>1013</th>\n",
       "      <td>1013</td>\n",
       "      <td>43-9022.00</td>\n",
       "      <td>Word Processors and Typists</td>\n",
       "      <td>['Clerk Specialist', 'Clerk Typist', 'Keyboard...</td>\n",
       "      <td>Use word processor, computer, or typewriter to...</td>\n",
       "      <td>44030.0</td>\n",
       "      <td>OCCUPATION</td>\n",
       "    </tr>\n",
       "    <tr>\n",
       "      <th>1014</th>\n",
       "      <td>1014</td>\n",
       "      <td>27-3043.00</td>\n",
       "      <td>Writers and Authors</td>\n",
       "      <td>['Advertisement Agency Copywriter (Ad Agency C...</td>\n",
       "      <td>Originate and prepare written material, such a...</td>\n",
       "      <td>69510.0</td>\n",
       "      <td>OCCUPATION</td>\n",
       "    </tr>\n",
       "    <tr>\n",
       "      <th>1015</th>\n",
       "      <td>1015</td>\n",
       "      <td>19-1023.00</td>\n",
       "      <td>Zoologists and Wildlife Biologists</td>\n",
       "      <td>['Aquatic Biologist', 'Conservation Resources ...</td>\n",
       "      <td>Study the origins, behavior, diseases, genetic...</td>\n",
       "      <td>64650.0</td>\n",
       "      <td>OCCUPATION</td>\n",
       "    </tr>\n",
       "  </tbody>\n",
       "</table>\n",
       "</div>"
      ],
      "text/plain": [
       "      occupation_id   onet_code                    occupation_title  \\\n",
       "1013           1013  43-9022.00         Word Processors and Typists   \n",
       "1014           1014  27-3043.00                 Writers and Authors   \n",
       "1015           1015  19-1023.00  Zoologists and Wildlife Biologists   \n",
       "\n",
       "                                    occupation_synonyms  \\\n",
       "1013  ['Clerk Specialist', 'Clerk Typist', 'Keyboard...   \n",
       "1014  ['Advertisement Agency Copywriter (Ad Agency C...   \n",
       "1015  ['Aquatic Biologist', 'Conservation Resources ...   \n",
       "\n",
       "                                 occupation_description  occupation_salary  \\\n",
       "1013  Use word processor, computer, or typewriter to...            44030.0   \n",
       "1014  Originate and prepare written material, such a...            69510.0   \n",
       "1015  Study the origins, behavior, diseases, genetic...            64650.0   \n",
       "\n",
       "          :LABEL  \n",
       "1013  OCCUPATION  \n",
       "1014  OCCUPATION  \n",
       "1015  OCCUPATION  "
      ]
     },
     "execution_count": 3,
     "metadata": {},
     "output_type": "execute_result"
    }
   ],
   "source": [
    "## Create dataframes for skills and listings\n",
    "needs_df = pd.read_csv(output_dir+'needs__relation.csv')\n",
    "needs_df = needs_df.rename(columns={\":START_ID\": \"listing_id\", \":END_ID\": \"skill_id\"})\n",
    "skill_df = pd.read_csv(output_dir+'skill__node.csv')\n",
    "skill_df = skill_df.rename(columns={\"skill_id:ID\": \"skill_id\"})\n",
    "skill_df = skill_df.merge(needs_df, on='skill_id', how='left')\n",
    "skill_df = skill_df[['listing_id', 'skill_name']]\n",
    "listing_df = pd.read_csv(output_dir+'listing__node.csv')\n",
    "listing_df = listing_df.rename(columns={\"listing_id:ID\": \"listing_id\"})\n",
    "\n",
    "occupation_df =  pd.read_csv(output_dir+'occupation__node.csv')\n",
    "occupation_df = occupation_df.rename(columns={\"occupation_id:ID\": 'occupation_id'})\n",
    "occupation_df.tail(3)\n",
    "print(skill_df.tail(2))\n",
    "print(listing_df.tail(2))\n",
    "occupation_df.tail(3)"
   ]
  },
  {
   "cell_type": "markdown",
   "id": "qV8iqcHT9zRf",
   "metadata": {
    "id": "qV8iqcHT9zRf"
   },
   "source": [
    "## Preprocess before Matching"
   ]
  },
  {
   "cell_type": "code",
   "execution_count": 4,
   "id": "z-7mIWhV2cEB",
   "metadata": {
    "colab": {
     "base_uri": "https://localhost:8080/",
     "height": 358
    },
    "executionInfo": {
     "elapsed": 219,
     "status": "ok",
     "timestamp": 1670617227292,
     "user": {
      "displayName": "Jessica Allen",
      "userId": "15627582710344148622"
     },
     "user_tz": 480
    },
    "id": "z-7mIWhV2cEB",
    "outputId": "0780fc99-9427-4d17-a4a3-2c079a4fa6de"
   },
   "outputs": [
    {
     "name": "stderr",
     "output_type": "stream",
     "text": [
      "/Users/sergeygurvich/anaconda3/envs/textprocessing/lib/python3.7/site-packages/ipykernel_launcher.py:6: SettingWithCopyWarning: \n",
      "A value is trying to be set on a copy of a slice from a DataFrame.\n",
      "Try using .loc[row_indexer,col_indexer] = value instead\n",
      "\n",
      "See the caveats in the documentation: https://pandas.pydata.org/pandas-docs/stable/user_guide/indexing.html#returning-a-view-versus-a-copy\n",
      "  \n",
      "/Users/sergeygurvich/anaconda3/envs/textprocessing/lib/python3.7/site-packages/ipykernel_launcher.py:7: SettingWithCopyWarning: \n",
      "A value is trying to be set on a copy of a slice from a DataFrame.\n",
      "Try using .loc[row_indexer,col_indexer] = value instead\n",
      "\n",
      "See the caveats in the documentation: https://pandas.pydata.org/pandas-docs/stable/user_guide/indexing.html#returning-a-view-versus-a-copy\n",
      "  import sys\n"
     ]
    },
    {
     "data": {
      "text/html": [
       "<div>\n",
       "<style scoped>\n",
       "    .dataframe tbody tr th:only-of-type {\n",
       "        vertical-align: middle;\n",
       "    }\n",
       "\n",
       "    .dataframe tbody tr th {\n",
       "        vertical-align: top;\n",
       "    }\n",
       "\n",
       "    .dataframe thead th {\n",
       "        text-align: right;\n",
       "    }\n",
       "</style>\n",
       "<table border=\"1\" class=\"dataframe\">\n",
       "  <thead>\n",
       "    <tr style=\"text-align: right;\">\n",
       "      <th></th>\n",
       "      <th>occupation_id</th>\n",
       "      <th>occupation_title</th>\n",
       "    </tr>\n",
       "  </thead>\n",
       "  <tbody>\n",
       "    <tr>\n",
       "      <th>1014</th>\n",
       "      <td>1014</td>\n",
       "      <td>authors</td>\n",
       "    </tr>\n",
       "    <tr>\n",
       "      <th>1015</th>\n",
       "      <td>1015</td>\n",
       "      <td>zoologists</td>\n",
       "    </tr>\n",
       "    <tr>\n",
       "      <th>1015</th>\n",
       "      <td>1015</td>\n",
       "      <td>wildlife biologists</td>\n",
       "    </tr>\n",
       "  </tbody>\n",
       "</table>\n",
       "</div>"
      ],
      "text/plain": [
       "      occupation_id      occupation_title\n",
       "1014           1014               authors\n",
       "1015           1015           zoologists \n",
       "1015           1015   wildlife biologists"
      ]
     },
     "execution_count": 4,
     "metadata": {},
     "output_type": "execute_result"
    }
   ],
   "source": [
    "#explode the occupation dataframe in a way that all synonyms and titles are used as occupation_titles\n",
    "\n",
    "# Grab all main job titles and job codes\n",
    "# Some titles contain multiple titles so they are split by the comma\n",
    "occupation_part_one = occupation_df[['occupation_id', 'occupation_title']]\n",
    "occupation_part_one['occupation_title'] = occupation_part_one['occupation_title'].str.replace(\"and\", ',')\n",
    "occupation_part_one['occupation_title'] = occupation_part_one['occupation_title'].apply(lambda x: str(x).split(','))\n",
    "occupation_part_one = occupation_part_one.explode('occupation_title')\n",
    "occupation_part_one['occupation_title'] = occupation_part_one['occupation_title'].str.lower()\n",
    "occupation_part_one.tail(3)"
   ]
  },
  {
   "cell_type": "markdown",
   "id": "BOlf0qsm94Me",
   "metadata": {
    "id": "BOlf0qsm94Me"
   },
   "source": [
    "## Matching and Saving to Output Files"
   ]
  },
  {
   "cell_type": "code",
   "execution_count": 5,
   "id": "r3u685mC6auQ",
   "metadata": {
    "colab": {
     "base_uri": "https://localhost:8080/",
     "height": 771
    },
    "executionInfo": {
     "elapsed": 9,
     "status": "ok",
     "timestamp": 1670617227293,
     "user": {
      "displayName": "Jessica Allen",
      "userId": "15627582710344148622"
     },
     "user_tz": 480
    },
    "id": "r3u685mC6auQ",
    "outputId": "d1f2709b-647d-41a9-f601-a20ab7b5702a"
   },
   "outputs": [
    {
     "name": "stderr",
     "output_type": "stream",
     "text": [
      "/Users/sergeygurvich/anaconda3/envs/textprocessing/lib/python3.7/site-packages/ipykernel_launcher.py:3: FutureWarning: The default value of regex will change from True to False in a future version. In addition, single character regular expressions will *not* be treated as literal strings when regex=True.\n",
      "  This is separate from the ipykernel package so we can avoid doing imports until\n",
      "/Users/sergeygurvich/anaconda3/envs/textprocessing/lib/python3.7/site-packages/ipykernel_launcher.py:3: SettingWithCopyWarning: \n",
      "A value is trying to be set on a copy of a slice from a DataFrame.\n",
      "Try using .loc[row_indexer,col_indexer] = value instead\n",
      "\n",
      "See the caveats in the documentation: https://pandas.pydata.org/pandas-docs/stable/user_guide/indexing.html#returning-a-view-versus-a-copy\n",
      "  This is separate from the ipykernel package so we can avoid doing imports until\n",
      "/Users/sergeygurvich/anaconda3/envs/textprocessing/lib/python3.7/site-packages/ipykernel_launcher.py:4: FutureWarning: The default value of regex will change from True to False in a future version. In addition, single character regular expressions will *not* be treated as literal strings when regex=True.\n",
      "  after removing the cwd from sys.path.\n",
      "/Users/sergeygurvich/anaconda3/envs/textprocessing/lib/python3.7/site-packages/ipykernel_launcher.py:4: SettingWithCopyWarning: \n",
      "A value is trying to be set on a copy of a slice from a DataFrame.\n",
      "Try using .loc[row_indexer,col_indexer] = value instead\n",
      "\n",
      "See the caveats in the documentation: https://pandas.pydata.org/pandas-docs/stable/user_guide/indexing.html#returning-a-view-versus-a-copy\n",
      "  after removing the cwd from sys.path.\n",
      "/Users/sergeygurvich/anaconda3/envs/textprocessing/lib/python3.7/site-packages/ipykernel_launcher.py:5: SettingWithCopyWarning: \n",
      "A value is trying to be set on a copy of a slice from a DataFrame.\n",
      "Try using .loc[row_indexer,col_indexer] = value instead\n",
      "\n",
      "See the caveats in the documentation: https://pandas.pydata.org/pandas-docs/stable/user_guide/indexing.html#returning-a-view-versus-a-copy\n",
      "  \"\"\"\n",
      "/Users/sergeygurvich/anaconda3/envs/textprocessing/lib/python3.7/site-packages/ipykernel_launcher.py:6: SettingWithCopyWarning: \n",
      "A value is trying to be set on a copy of a slice from a DataFrame.\n",
      "Try using .loc[row_indexer,col_indexer] = value instead\n",
      "\n",
      "See the caveats in the documentation: https://pandas.pydata.org/pandas-docs/stable/user_guide/indexing.html#returning-a-view-versus-a-copy\n",
      "  \n",
      "/Users/sergeygurvich/anaconda3/envs/textprocessing/lib/python3.7/site-packages/ipykernel_launcher.py:7: SettingWithCopyWarning: \n",
      "A value is trying to be set on a copy of a slice from a DataFrame.\n",
      "Try using .loc[row_indexer,col_indexer] = value instead\n",
      "\n",
      "See the caveats in the documentation: https://pandas.pydata.org/pandas-docs/stable/user_guide/indexing.html#returning-a-view-versus-a-copy\n",
      "  import sys\n"
     ]
    },
    {
     "data": {
      "text/html": [
       "<div>\n",
       "<style scoped>\n",
       "    .dataframe tbody tr th:only-of-type {\n",
       "        vertical-align: middle;\n",
       "    }\n",
       "\n",
       "    .dataframe tbody tr th {\n",
       "        vertical-align: top;\n",
       "    }\n",
       "\n",
       "    .dataframe thead th {\n",
       "        text-align: right;\n",
       "    }\n",
       "</style>\n",
       "<table border=\"1\" class=\"dataframe\">\n",
       "  <thead>\n",
       "    <tr style=\"text-align: right;\">\n",
       "      <th></th>\n",
       "      <th>occupation_id</th>\n",
       "      <th>occupation_title</th>\n",
       "    </tr>\n",
       "  </thead>\n",
       "  <tbody>\n",
       "    <tr>\n",
       "      <th>9748</th>\n",
       "      <td>1015</td>\n",
       "      <td>migratory game bird biologist</td>\n",
       "    </tr>\n",
       "    <tr>\n",
       "      <th>9749</th>\n",
       "      <td>1015</td>\n",
       "      <td>wildlife biologist</td>\n",
       "    </tr>\n",
       "    <tr>\n",
       "      <th>9750</th>\n",
       "      <td>1015</td>\n",
       "      <td>zoologist</td>\n",
       "    </tr>\n",
       "  </tbody>\n",
       "</table>\n",
       "</div>"
      ],
      "text/plain": [
       "      occupation_id                occupation_title\n",
       "9748           1015   migratory game bird biologist\n",
       "9749           1015              wildlife biologist\n",
       "9750           1015                       zoologist"
      ]
     },
     "execution_count": 5,
     "metadata": {},
     "output_type": "execute_result"
    }
   ],
   "source": [
    "# Match each synonym to respective job code\n",
    "occupation_part_two = occupation_df[['occupation_id', 'occupation_synonyms']]\n",
    "occupation_part_two['occupation_synonyms'] = occupation_part_two['occupation_synonyms'].str.replace(\"[\", '')\n",
    "occupation_part_two['occupation_synonyms'] = occupation_part_two['occupation_synonyms'].str.replace(\"]\", '')\n",
    "occupation_part_two['occupation_synonyms'] = occupation_part_two['occupation_synonyms'].str.replace(\"'\", '')\n",
    "occupation_part_two['occupation_synonyms'] = occupation_part_two['occupation_synonyms'].str.lower()\n",
    "occupation_part_two['occupation_synonyms'] = occupation_part_two['occupation_synonyms'].apply(lambda x: str(x).split(','))\n",
    "occupation_part_two = occupation_part_two.explode('occupation_synonyms')\n",
    "occupation_part_two = occupation_part_two.rename(columns={\"occupation_synonyms\": \"occupation_title\"})\n",
    "\n",
    "## Combine for df used for matching \n",
    "all_occupation_names_df = pd.concat([occupation_part_one, occupation_part_two], ignore_index=True)\n",
    "all_occupation_names_df = all_occupation_names_df[all_occupation_names_df['occupation_title'] != ' ']\n",
    "all_occupation_names_df.tail(3)"
   ]
  },
  {
   "cell_type": "code",
   "execution_count": 6,
   "id": "hppjLPur8YZZ",
   "metadata": {
    "colab": {
     "base_uri": "https://localhost:8080/"
    },
    "executionInfo": {
     "elapsed": 6,
     "status": "ok",
     "timestamp": 1670617227293,
     "user": {
      "displayName": "Jessica Allen",
      "userId": "15627582710344148622"
     },
     "user_tz": 480
    },
    "id": "hppjLPur8YZZ",
    "outputId": "347bd8ab-b447-40ff-d026-1b0cedc7661d"
   },
   "outputs": [
    {
     "name": "stderr",
     "output_type": "stream",
     "text": [
      "/Users/sergeygurvich/anaconda3/envs/textprocessing/lib/python3.7/site-packages/ipykernel_launcher.py:2: SettingWithCopyWarning: \n",
      "A value is trying to be set on a copy of a slice from a DataFrame.\n",
      "Try using .loc[row_indexer,col_indexer] = value instead\n",
      "\n",
      "See the caveats in the documentation: https://pandas.pydata.org/pandas-docs/stable/user_guide/indexing.html#returning-a-view-versus-a-copy\n",
      "  \n"
     ]
    }
   ],
   "source": [
    "listing_clean = listing_df[['listing_id', 'listing_title']]\n",
    "listing_clean['listing_title'] = listing_clean['listing_title'].str.lower()"
   ]
  },
  {
   "cell_type": "code",
   "execution_count": 7,
   "id": "fbvsphpQ7JB5",
   "metadata": {
    "colab": {
     "base_uri": "https://localhost:8080/",
     "height": 143
    },
    "executionInfo": {
     "elapsed": 2133024,
     "status": "ok",
     "timestamp": 1670619360312,
     "user": {
      "displayName": "Jessica Allen",
      "userId": "15627582710344148622"
     },
     "user_tz": 480
    },
    "id": "fbvsphpQ7JB5",
    "outputId": "37cbdea6-8876-4375-9e70-e27025bc72ef"
   },
   "outputs": [
    {
     "data": {
      "text/html": [
       "<div>\n",
       "<style scoped>\n",
       "    .dataframe tbody tr th:only-of-type {\n",
       "        vertical-align: middle;\n",
       "    }\n",
       "\n",
       "    .dataframe tbody tr th {\n",
       "        vertical-align: top;\n",
       "    }\n",
       "\n",
       "    .dataframe thead th {\n",
       "        text-align: right;\n",
       "    }\n",
       "</style>\n",
       "<table border=\"1\" class=\"dataframe\">\n",
       "  <thead>\n",
       "    <tr style=\"text-align: right;\">\n",
       "      <th></th>\n",
       "      <th>occupation_id</th>\n",
       "      <th>occupation_title</th>\n",
       "      <th>listing_title</th>\n",
       "      <th>listing_id</th>\n",
       "      <th>jaccard_3_gram_score</th>\n",
       "    </tr>\n",
       "  </thead>\n",
       "  <tbody>\n",
       "    <tr>\n",
       "      <th>11</th>\n",
       "      <td>117.0</td>\n",
       "      <td>data analyst</td>\n",
       "      <td>mdm data analyst</td>\n",
       "      <td>11.0</td>\n",
       "      <td>0.650000</td>\n",
       "    </tr>\n",
       "    <tr>\n",
       "      <th>12</th>\n",
       "      <td>8.0</td>\n",
       "      <td>administrator</td>\n",
       "      <td>lms (saba) administrator</td>\n",
       "      <td>12.0</td>\n",
       "      <td>0.500000</td>\n",
       "    </tr>\n",
       "    <tr>\n",
       "      <th>13</th>\n",
       "      <td>889.0</td>\n",
       "      <td>developer</td>\n",
       "      <td>front end developer</td>\n",
       "      <td>13.0</td>\n",
       "      <td>0.434783</td>\n",
       "    </tr>\n",
       "  </tbody>\n",
       "</table>\n",
       "</div>"
      ],
      "text/plain": [
       "    occupation_id occupation_title             listing_title  listing_id  \\\n",
       "11          117.0     data analyst          mdm data analyst        11.0   \n",
       "12            8.0    administrator  lms (saba) administrator        12.0   \n",
       "13          889.0        developer       front end developer        13.0   \n",
       "\n",
       "    jaccard_3_gram_score  \n",
       "11              0.650000  \n",
       "12              0.500000  \n",
       "13              0.434783  "
      ]
     },
     "execution_count": 7,
     "metadata": {},
     "output_type": "execute_result"
    }
   ],
   "source": [
    "def jaccard_n_gram(df, test_string):\n",
    "    \"\"\" function for calculating the jaccard similarity between the column \n",
    "    labeled 3_gram_string in the dataframe and the string passed as an argument\"\"\"\n",
    "    jaccard_test_string = tok.tokenize(test_string.lower())\n",
    "    jac = sm.Jaccard()\n",
    "    df['jaccard_3_gram_score'] = df.apply(lambda row: jac.get_sim_score(row['3_gram_string'], jaccard_test_string), axis=1)\n",
    "    max_id = df['jaccard_3_gram_score'].idxmax()\n",
    "    return df.iloc[[max_id]]\n",
    "\n",
    "\n",
    "all_occupation_names_df = pd.DataFrame(data = all_occupation_names_df[['occupation_id', 'occupation_title']]).reset_index()\n",
    "tok = sm.QgramTokenizer(qval=3)\n",
    "all_occupation_names_df['3_gram_string'] = all_occupation_names_df.apply(lambda row: tok.tokenize(row['occupation_title']), axis=1)\n",
    "\n",
    "\n",
    "occupation_best_guess_df = pd.DataFrame( data = {'occupation_id': [],\n",
    "                                        'occupation_title': [], \n",
    "                                        'listing_title': [],\n",
    "                                        'listing_id': [],\n",
    "                                        'jaccard_3_gram_score': []})\n",
    "\n",
    "\n",
    "#Loop through every listing title and best match it to the exploded list of occupation titles\n",
    "for i in range(len(listing_clean)):\n",
    "    listing_title = listing_clean['listing_title'].iloc[i]\n",
    "    listing_id = listing_clean['listing_id'].iloc[i]   \n",
    "    highest_jaccard_score = jaccard_n_gram(all_occupation_names_df, listing_title)\n",
    "    append_df = pd.DataFrame( data = {'occupation_id': [highest_jaccard_score['occupation_id'].iloc[0]],\n",
    "                                          'occupation_title': [highest_jaccard_score['occupation_title'].iloc[0]], \n",
    "                                          'listing_title': [listing_title],\n",
    "                                          'listing_id': [listing_id],\n",
    "                                          'jaccard_3_gram_score': [highest_jaccard_score['jaccard_3_gram_score'].iloc[0]]})\n",
    "    occupation_best_guess_df = pd.concat([occupation_best_guess_df, append_df], ignore_index=True)\n",
    "\n",
    "occupation_best_guess_df.tail(3)"
   ]
  },
  {
   "cell_type": "code",
   "execution_count": 8,
   "id": "P__vkH9c9z-1",
   "metadata": {
    "colab": {
     "base_uri": "https://localhost:8080/",
     "height": 233
    },
    "executionInfo": {
     "elapsed": 655102,
     "status": "ok",
     "timestamp": 1670620015410,
     "user": {
      "displayName": "Jessica Allen",
      "userId": "15627582710344148622"
     },
     "user_tz": 480
    },
    "id": "P__vkH9c9z-1",
    "outputId": "ee4080e3-acc9-4a11-f985-8007b524f2fa"
   },
   "outputs": [
    {
     "name": "stderr",
     "output_type": "stream",
     "text": [
      "/Users/sergeygurvich/anaconda3/envs/textprocessing/lib/python3.7/site-packages/pandas/core/indexing.py:1732: SettingWithCopyWarning: \n",
      "A value is trying to be set on a copy of a slice from a DataFrame\n",
      "\n",
      "See the caveats in the documentation: https://pandas.pydata.org/pandas-docs/stable/user_guide/indexing.html#returning-a-view-versus-a-copy\n",
      "  self._setitem_single_block(indexer, value, name)\n"
     ]
    },
    {
     "data": {
      "text/html": [
       "<div>\n",
       "<style scoped>\n",
       "    .dataframe tbody tr th:only-of-type {\n",
       "        vertical-align: middle;\n",
       "    }\n",
       "\n",
       "    .dataframe tbody tr th {\n",
       "        vertical-align: top;\n",
       "    }\n",
       "\n",
       "    .dataframe thead th {\n",
       "        text-align: right;\n",
       "    }\n",
       "</style>\n",
       "<table border=\"1\" class=\"dataframe\">\n",
       "  <thead>\n",
       "    <tr style=\"text-align: right;\">\n",
       "      <th></th>\n",
       "      <th>START_ID</th>\n",
       "      <th>:END_ID</th>\n",
       "      <th>:TYPE</th>\n",
       "    </tr>\n",
       "  </thead>\n",
       "  <tbody>\n",
       "    <tr>\n",
       "      <th>11</th>\n",
       "      <td>13.0</td>\n",
       "      <td>889.0</td>\n",
       "      <td>BELONGS_TO</td>\n",
       "    </tr>\n",
       "    <tr>\n",
       "      <th>12</th>\n",
       "      <td>4.0</td>\n",
       "      <td>889.0</td>\n",
       "      <td>BELONGS_TO</td>\n",
       "    </tr>\n",
       "    <tr>\n",
       "      <th>13</th>\n",
       "      <td>6.0</td>\n",
       "      <td>660.0</td>\n",
       "      <td>BELONGS_TO</td>\n",
       "    </tr>\n",
       "  </tbody>\n",
       "</table>\n",
       "</div>"
      ],
      "text/plain": [
       "    START_ID  :END_ID       :TYPE\n",
       "11      13.0    889.0  BELONGS_TO\n",
       "12       4.0    889.0  BELONGS_TO\n",
       "13       6.0    660.0  BELONGS_TO"
      ]
     },
     "execution_count": 8,
     "metadata": {},
     "output_type": "execute_result"
    }
   ],
   "source": [
    "##for the occupation_ids with a jaccard_3_gram_score <= .1, use the cleaned skills to request from ONET API the\n",
    "##most matching the occupation title\n",
    "\n",
    "good_guesses_df = occupation_best_guess_df[occupation_best_guess_df.jaccard_3_gram_score > .3]\n",
    "bad_guesses_df = occupation_best_guess_df[occupation_best_guess_df.jaccard_3_gram_score <= .3]\n",
    "\n",
    "for guess in range(len(bad_guesses_df)):\n",
    "  listing_skills = skill_df[skill_df.listing_id == bad_guesses_df['listing_id'].iloc[guess]]\n",
    "  listing_skills_string = ''\n",
    "  for skill in listing_skills['skill_name']:\n",
    "    listing_skills_string += ' '\n",
    "    listing_skills_string += skill\n",
    "  response = requests.get(f'https://services.onetcenter.org/ws/online/search?keyword={listing_skills_string}', auth=('ucsd', '2835jxp'))\n",
    "  new_guess = xmltodict.parse(response.content)\n",
    "\n",
    "  if 'occupation' in new_guess['occupations']:\n",
    "    for index in new_guess['occupations']['occupation']:\n",
    "      if isinstance(index, dict):\n",
    "        onet_code = new_guess['occupations']['occupation'][0]['code']\n",
    "        if len(occupation_df[occupation_df.onet_code == onet_code]['occupation_title']) > 0:\n",
    "          new_occupation_title_guess = occupation_df[occupation_df.onet_code == onet_code]['occupation_title'].iloc[0]\n",
    "          new_occupation_id_guess = occupation_df[occupation_df.onet_code == onet_code]['occupation_id'].iloc[0]\n",
    "          bad_guesses_df['occupation_title'].iloc[guess] = new_occupation_title_guess\n",
    "          bad_guesses_df['occupation_id'].iloc[guess] = new_occupation_id_guess\n",
    "\n",
    "bad_guesses_df.tail(10)\n",
    "\n",
    "belongs_to_df = pd.concat([good_guesses_df, bad_guesses_df]).reset_index()\n",
    "belongs_to_df = belongs_to_df.rename(columns={\"listing_id\":\"START_ID\", \"occupation_id\": \":END_ID\"})\n",
    "belongs_to_df = belongs_to_df[[\"START_ID\", \":END_ID\"]]\n",
    "belongs_to_df[\":TYPE\"] = \"BELONGS_TO\"\n",
    "belongs_to_df.tail(3)"
   ]
  },
  {
   "cell_type": "code",
   "execution_count": 9,
   "id": "jugTUb-qiIM4",
   "metadata": {
    "executionInfo": {
     "elapsed": 10,
     "status": "ok",
     "timestamp": 1670620015410,
     "user": {
      "displayName": "Jessica Allen",
      "userId": "15627582710344148622"
     },
     "user_tz": 480
    },
    "id": "jugTUb-qiIM4"
   },
   "outputs": [],
   "source": [
    "belongs_to_df.to_csv(output_dir+'belongs_to__relation.csv', index=False)"
   ]
  },
  {
   "cell_type": "code",
   "execution_count": null,
   "id": "fc18b9e7-ad20-4266-9a94-ad64226c0831",
   "metadata": {},
   "outputs": [],
   "source": []
  }
 ],
 "metadata": {
  "colab": {
   "provenance": []
  },
  "kernelspec": {
   "display_name": "Python 3 (ipykernel)",
   "language": "python",
   "name": "python3"
  },
  "language_info": {
   "codemirror_mode": {
    "name": "ipython",
    "version": 3
   },
   "file_extension": ".py",
   "mimetype": "text/x-python",
   "name": "python",
   "nbconvert_exporter": "python",
   "pygments_lexer": "ipython3",
   "version": "3.7.13"
  }
 },
 "nbformat": 4,
 "nbformat_minor": 5
}
