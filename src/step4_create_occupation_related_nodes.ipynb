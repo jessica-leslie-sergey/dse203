{
 "cells": [
  {
   "cell_type": "markdown",
   "id": "f1uGkj3N-15_",
   "metadata": {
    "id": "f1uGkj3N-15_"
   },
   "source": [
    "# Notebook 4: Download Occupations and Carrer Outlook Data from ONET API and Produce Nodes and Relations:\n",
    "\n",
    "```\n",
    "(OCCUPATION) NODE\t\t\t\t\t\toccupation__node.csv\n",
    "occupation_id:ID\n",
    "occupation_title\n",
    "onet_code\n",
    "occupation_synonyms[]\n",
    "occupation_description\n",
    "occupation_salary\n",
    ":LABEL = \"OCCUPATION\"\n",
    "\n",
    "[HAS_FUTURE] RELATION\t\t\t\t\thas_future__relation.csv\n",
    ":START_ID = occupation_id\n",
    ":END_ID = career_outlook_id\n",
    ":TYPE = \"HAS_FUTURE\"\n",
    "\n",
    "(CAREER_OUTLOOK) NODE\t\t\t\t\tcareer_outlook__node.csv\n",
    "career_outlook_id:ID\n",
    "career_outlook\n",
    ":LABEL = \"CAREER_OUTLOOK\"\n",
    "```"
   ]
  },
  {
   "cell_type": "markdown",
   "id": "0X_aLnD0-1Wg",
   "metadata": {
    "id": "0X_aLnD0-1Wg"
   },
   "source": [
    "## Imports"
   ]
  },
  {
   "cell_type": "code",
   "execution_count": 1,
   "id": "707553d1",
   "metadata": {
    "colab": {
     "base_uri": "https://localhost:8080/"
    },
    "executionInfo": {
     "elapsed": 3435,
     "status": "ok",
     "timestamp": 1670474339999,
     "user": {
      "displayName": "Jessica Allen",
      "userId": "15627582710344148622"
     },
     "user_tz": 480
    },
    "id": "707553d1",
    "outputId": "422291ec-a35c-4483-8791-20ec1e4bc596"
   },
   "outputs": [],
   "source": [
    "# %pip install xmltodict\n",
    "\n",
    "import requests\n",
    "import json\n",
    "import xmltodict\n",
    "import pandas as pd"
   ]
  },
  {
   "cell_type": "code",
   "execution_count": 2,
   "id": "UBUEU6Z5-8Q4",
   "metadata": {
    "colab": {
     "base_uri": "https://localhost:8080/"
    },
    "executionInfo": {
     "elapsed": 1008,
     "status": "ok",
     "timestamp": 1670474340991,
     "user": {
      "displayName": "Jessica Allen",
      "userId": "15627582710344148622"
     },
     "user_tz": 480
    },
    "id": "UBUEU6Z5-8Q4",
    "outputId": "0230c9d0-721d-42fc-cc53-df389e8c270a"
   },
   "outputs": [],
   "source": [
    "# this cell is to support running the notebook in Google Colab\n",
    "\n",
    "mydrive = \"\"  # this is when we run locally\n",
    "\n",
    "# Google Colab:\n",
    "# from google.colab import drive\n",
    "# drive.mount('/content/drive')\n",
    "# mydrive = \"/content/drive/MyDrive/DSE 203 — etl/DSE203_Project/\"  # this is when we run on COLAB Leslie\n",
    "# mydrive = \"/content/drive/MyDrive/DSE203/DSE203_Project/\"  # this is when we run on COLAB Jessica\n",
    "# mydrive = \"/content/drive/MyDrive/DSE203_Project/\"  # this is when we run on COLAB Sergey\n",
    "\n",
    "input_dir = mydrive+\"input_datasets/\"\n",
    "output_dir = mydrive+\"output_datasets/\"\n",
    "temp_dir = mydrive+\"temp_datasets/\""
   ]
  },
  {
   "cell_type": "code",
   "execution_count": null,
   "id": "0f48c15d-57af-4b35-bd74-69084b186c8d",
   "metadata": {},
   "outputs": [],
   "source": []
  },
  {
   "cell_type": "markdown",
   "id": "4becdec5-d266-43a5-b818-46ff55802209",
   "metadata": {},
   "source": [
    "# !!! NOTE !!!\n",
    "## The data has been already downloaded and can be read from 'input_data' folder. You can directly go to cell\n",
    "\n",
    "[SKIP DOWNLOAD](#read)"
   ]
  },
  {
   "cell_type": "markdown",
   "id": "MvH9UCyp_Ann",
   "metadata": {
    "id": "MvH9UCyp_Ann"
   },
   "source": [
    "## Download Data from ONET API"
   ]
  },
  {
   "cell_type": "code",
   "execution_count": 3,
   "id": "f64eaf9f",
   "metadata": {
    "executionInfo": {
     "elapsed": 862,
     "status": "ok",
     "timestamp": 1670474341850,
     "user": {
      "displayName": "Jessica Allen",
      "userId": "15627582710344148622"
     },
     "user_tz": 480
    },
    "id": "f64eaf9f"
   },
   "outputs": [],
   "source": [
    "#Request from ONET API all occupations\n",
    "\n",
    "onet_username = 'ucsd' \n",
    "onet_password = '2835jxp'\n",
    "\n",
    "response = requests.get('https://services.onetcenter.org/ws/online/occupations?start=1&end=1020', auth=(onet_username, onet_password))\n",
    "job_dict = xmltodict.parse(response.content)\n",
    "\n",
    "job_codes = []\n",
    "job_titles = []\n",
    "for code in job_dict['occupations']['occupation']:\n",
    "    job_codes += [code['code']]\n",
    "    job_titles += [code['title']]\n",
    "      \n",
    "#dataframe of jobs\n",
    "occupation_df = pd.DataFrame({'job_code': job_codes, \n",
    "                            'occupation_title': job_titles}) \n"
   ]
  },
  {
   "cell_type": "code",
   "execution_count": 4,
   "id": "a63ec389",
   "metadata": {
    "colab": {
     "base_uri": "https://localhost:8080/",
     "height": 206
    },
    "executionInfo": {
     "elapsed": 6,
     "status": "ok",
     "timestamp": 1670474341851,
     "user": {
      "displayName": "Jessica Allen",
      "userId": "15627582710344148622"
     },
     "user_tz": 480
    },
    "id": "a63ec389",
    "outputId": "bbc9ed26-83b5-44dd-d0af-06d707b29a0d"
   },
   "outputs": [
    {
     "data": {
      "text/html": [
       "<div>\n",
       "<style scoped>\n",
       "    .dataframe tbody tr th:only-of-type {\n",
       "        vertical-align: middle;\n",
       "    }\n",
       "\n",
       "    .dataframe tbody tr th {\n",
       "        vertical-align: top;\n",
       "    }\n",
       "\n",
       "    .dataframe thead th {\n",
       "        text-align: right;\n",
       "    }\n",
       "</style>\n",
       "<table border=\"1\" class=\"dataframe\">\n",
       "  <thead>\n",
       "    <tr style=\"text-align: right;\">\n",
       "      <th></th>\n",
       "      <th>job_code</th>\n",
       "      <th>occupation_title</th>\n",
       "    </tr>\n",
       "  </thead>\n",
       "  <tbody>\n",
       "    <tr>\n",
       "      <th>1011</th>\n",
       "      <td>51-7099.00</td>\n",
       "      <td>Woodworkers, All Other</td>\n",
       "    </tr>\n",
       "    <tr>\n",
       "      <th>1012</th>\n",
       "      <td>51-7042.00</td>\n",
       "      <td>Woodworking Machine Setters, Operators, and Te...</td>\n",
       "    </tr>\n",
       "    <tr>\n",
       "      <th>1013</th>\n",
       "      <td>43-9022.00</td>\n",
       "      <td>Word Processors and Typists</td>\n",
       "    </tr>\n",
       "    <tr>\n",
       "      <th>1014</th>\n",
       "      <td>27-3043.00</td>\n",
       "      <td>Writers and Authors</td>\n",
       "    </tr>\n",
       "    <tr>\n",
       "      <th>1015</th>\n",
       "      <td>19-1023.00</td>\n",
       "      <td>Zoologists and Wildlife Biologists</td>\n",
       "    </tr>\n",
       "  </tbody>\n",
       "</table>\n",
       "</div>"
      ],
      "text/plain": [
       "        job_code                                   occupation_title\n",
       "1011  51-7099.00                             Woodworkers, All Other\n",
       "1012  51-7042.00  Woodworking Machine Setters, Operators, and Te...\n",
       "1013  43-9022.00                        Word Processors and Typists\n",
       "1014  27-3043.00                                Writers and Authors\n",
       "1015  19-1023.00                 Zoologists and Wildlife Biologists"
      ]
     },
     "execution_count": 4,
     "metadata": {},
     "output_type": "execute_result"
    }
   ],
   "source": [
    "occupation_df.tail(5)"
   ]
  },
  {
   "cell_type": "code",
   "execution_count": 5,
   "id": "b676864c",
   "metadata": {
    "executionInfo": {
     "elapsed": 435234,
     "status": "ok",
     "timestamp": 1670474777081,
     "user": {
      "displayName": "Jessica Allen",
      "userId": "15627582710344148622"
     },
     "user_tz": 480
    },
    "id": "b676864c"
   },
   "outputs": [
    {
     "name": "stdout",
     "output_type": "stream",
     "text": [
      "Got response for Reports 1015 out of 1016"
     ]
    }
   ],
   "source": [
    "# For each occupation, grab the career descriptions, synonyms, expected salary and the career outlook\n",
    "\n",
    "occupation_synonyms = []\n",
    "occupation_description = []\n",
    "occupation_growth = []\n",
    "occupation_salary = []\n",
    "\n",
    "occ_len = len(occupation_df['job_code'])\n",
    "\n",
    "for i, job_code in enumerate(occupation_df['job_code']):\n",
    "    \n",
    "    career_response = requests.get(f'https://services.onetcenter.org/ws/online/occupations/{job_code}/summary', auth=(onet_username, onet_password))\n",
    "    print(f\"\\rGot response for Summary {i} out of {occ_len}\", end=\"\")\n",
    "    career_dict = xmltodict.parse(career_response.content)\n",
    "    \n",
    "    if 'summary_report' in career_dict and 'occupation' in career_dict['summary_report'] and 'sample_of_reported_job_titles' in career_dict['summary_report']['occupation']:\n",
    "        occupation_synonyms += [career_dict['summary_report']['occupation']['sample_of_reported_job_titles']['title']]\n",
    "    else:\n",
    "        occupation_synonyms += ['']\n",
    "\n",
    "    if 'summary_report' in career_dict:\n",
    "        occupation_description += [career_dict['summary_report']['occupation']['description']]\n",
    "    else:\n",
    "        occupation_description += ['']\n",
    "        \n",
    "    report_response = requests.get(f'https://services.onetcenter.org/ws/mnm/careers/{job_code}/report', auth=(onet_username, onet_password))\n",
    "    print(f\"\\rGot response for Reports {i} out of {occ_len}\", end=\"\")\n",
    "    report_dict = xmltodict.parse(report_response.content)\n",
    "    if 'report' in report_dict:\n",
    "        occupation_growth += [report_dict['report']['job_outlook']['outlook']['category']]\n",
    "        if 'salary' in report_dict['report']['job_outlook']:\n",
    "            if 'annual_median' in report_dict['report']['job_outlook']['salary']:\n",
    "                occupation_salary += [report_dict['report']['job_outlook']['salary']['annual_median']]\n",
    "            else:\n",
    "                occupation_salary += ['']\n",
    "        else:\n",
    "            occupation_salary += ['']\n",
    "    else: \n",
    "        occupation_growth += ['']\n",
    "        occupation_salary += ['']\n"
   ]
  },
  {
   "cell_type": "code",
   "execution_count": 6,
   "id": "a9891f0f",
   "metadata": {
    "colab": {
     "base_uri": "https://localhost:8080/",
     "height": 206
    },
    "executionInfo": {
     "elapsed": 30,
     "status": "ok",
     "timestamp": 1670474777081,
     "user": {
      "displayName": "Jessica Allen",
      "userId": "15627582710344148622"
     },
     "user_tz": 480
    },
    "id": "a9891f0f",
    "outputId": "78d42b33-f6d8-45c3-86e1-71033f32befc"
   },
   "outputs": [
    {
     "data": {
      "text/html": [
       "<div>\n",
       "<style scoped>\n",
       "    .dataframe tbody tr th:only-of-type {\n",
       "        vertical-align: middle;\n",
       "    }\n",
       "\n",
       "    .dataframe tbody tr th {\n",
       "        vertical-align: top;\n",
       "    }\n",
       "\n",
       "    .dataframe thead th {\n",
       "        text-align: right;\n",
       "    }\n",
       "</style>\n",
       "<table border=\"1\" class=\"dataframe\">\n",
       "  <thead>\n",
       "    <tr style=\"text-align: right;\">\n",
       "      <th></th>\n",
       "      <th>occupation_id:ID</th>\n",
       "      <th>job_code</th>\n",
       "      <th>occupation_title</th>\n",
       "      <th>occupation_synonyms</th>\n",
       "      <th>occupation_description</th>\n",
       "      <th>occupation_growth</th>\n",
       "      <th>occupation_salary</th>\n",
       "    </tr>\n",
       "  </thead>\n",
       "  <tbody>\n",
       "    <tr>\n",
       "      <th>0</th>\n",
       "      <td>0</td>\n",
       "      <td>13-2011.00</td>\n",
       "      <td>Accountants and Auditors</td>\n",
       "      <td>[Accountant, Accounting Officer, Audit Partner...</td>\n",
       "      <td>Examine, analyze, and interpret accounting rec...</td>\n",
       "      <td>Bright</td>\n",
       "      <td>77250</td>\n",
       "    </tr>\n",
       "    <tr>\n",
       "      <th>1</th>\n",
       "      <td>1</td>\n",
       "      <td>27-2011.00</td>\n",
       "      <td>Actors</td>\n",
       "      <td>[Actor, Actress, Comedian, Comic, Community Th...</td>\n",
       "      <td>Play parts in stage, television, radio, video,...</td>\n",
       "      <td>Bright</td>\n",
       "      <td></td>\n",
       "    </tr>\n",
       "    <tr>\n",
       "      <th>2</th>\n",
       "      <td>2</td>\n",
       "      <td>15-2011.00</td>\n",
       "      <td>Actuaries</td>\n",
       "      <td>[Actuarial Analyst, Actuarial Associate, Actua...</td>\n",
       "      <td>Analyze statistical data, such as mortality, a...</td>\n",
       "      <td>Bright</td>\n",
       "      <td>105900</td>\n",
       "    </tr>\n",
       "    <tr>\n",
       "      <th>3</th>\n",
       "      <td>3</td>\n",
       "      <td>29-1291.00</td>\n",
       "      <td>Acupuncturists</td>\n",
       "      <td>[Acupuncture Physician, Acupuncture Provider, ...</td>\n",
       "      <td>Diagnose, treat, and prevent disorders by stim...</td>\n",
       "      <td>Average</td>\n",
       "      <td>60570</td>\n",
       "    </tr>\n",
       "    <tr>\n",
       "      <th>4</th>\n",
       "      <td>4</td>\n",
       "      <td>29-1141.01</td>\n",
       "      <td>Acute Care Nurses</td>\n",
       "      <td>[Cardiac Interventional Care Nurse, Charge Nur...</td>\n",
       "      <td>Provide advanced nursing care for patients wit...</td>\n",
       "      <td>Bright</td>\n",
       "      <td>77600</td>\n",
       "    </tr>\n",
       "  </tbody>\n",
       "</table>\n",
       "</div>"
      ],
      "text/plain": [
       "   occupation_id:ID    job_code          occupation_title  \\\n",
       "0                 0  13-2011.00  Accountants and Auditors   \n",
       "1                 1  27-2011.00                    Actors   \n",
       "2                 2  15-2011.00                 Actuaries   \n",
       "3                 3  29-1291.00            Acupuncturists   \n",
       "4                 4  29-1141.01         Acute Care Nurses   \n",
       "\n",
       "                                 occupation_synonyms  \\\n",
       "0  [Accountant, Accounting Officer, Audit Partner...   \n",
       "1  [Actor, Actress, Comedian, Comic, Community Th...   \n",
       "2  [Actuarial Analyst, Actuarial Associate, Actua...   \n",
       "3  [Acupuncture Physician, Acupuncture Provider, ...   \n",
       "4  [Cardiac Interventional Care Nurse, Charge Nur...   \n",
       "\n",
       "                              occupation_description occupation_growth  \\\n",
       "0  Examine, analyze, and interpret accounting rec...            Bright   \n",
       "1  Play parts in stage, television, radio, video,...            Bright   \n",
       "2  Analyze statistical data, such as mortality, a...            Bright   \n",
       "3  Diagnose, treat, and prevent disorders by stim...           Average   \n",
       "4  Provide advanced nursing care for patients wit...            Bright   \n",
       "\n",
       "  occupation_salary  \n",
       "0             77250  \n",
       "1                    \n",
       "2            105900  \n",
       "3             60570  \n",
       "4             77600  "
      ]
     },
     "execution_count": 6,
     "metadata": {},
     "output_type": "execute_result"
    }
   ],
   "source": [
    "#Put all responses into a dataframe\n",
    "occupation_df['occupation_synonyms'] = occupation_synonyms\n",
    "occupation_df['occupation_description'] = occupation_description\n",
    "occupation_df['occupation_growth'] = occupation_growth\n",
    "occupation_df['occupation_salary'] = occupation_salary\n",
    "occupation_df.reset_index(inplace=True)\n",
    "occupation_df = occupation_df.rename(columns={\"index\": \"occupation_id:ID\"})\n",
    "occupation_df.head(5)"
   ]
  },
  {
   "cell_type": "code",
   "execution_count": null,
   "id": "78f03f01-ba94-4eb3-8539-ab508e3c9a79",
   "metadata": {},
   "outputs": [],
   "source": [
    "# save to csv, so we don't need to re-download\n",
    "# occupation_df.to_csv(input_dir+'occupations_dataset_downloaded.csv',index=False)"
   ]
  },
  {
   "cell_type": "markdown",
   "id": "f9ef743d-f353-4775-87cc-5964660de7e6",
   "metadata": {},
   "source": [
    "# RUN THIS CELL IF YOU WANT TO SKIP THE DOWNLOAD PART <a id=\"read\"></a>"
   ]
  },
  {
   "cell_type": "code",
   "execution_count": 3,
   "id": "f0689b91-df5c-4bec-aa68-ab9e26601e52",
   "metadata": {},
   "outputs": [
    {
     "data": {
      "text/html": [
       "<div>\n",
       "<style scoped>\n",
       "    .dataframe tbody tr th:only-of-type {\n",
       "        vertical-align: middle;\n",
       "    }\n",
       "\n",
       "    .dataframe tbody tr th {\n",
       "        vertical-align: top;\n",
       "    }\n",
       "\n",
       "    .dataframe thead th {\n",
       "        text-align: right;\n",
       "    }\n",
       "</style>\n",
       "<table border=\"1\" class=\"dataframe\">\n",
       "  <thead>\n",
       "    <tr style=\"text-align: right;\">\n",
       "      <th></th>\n",
       "      <th>occupation_id:ID</th>\n",
       "      <th>job_code</th>\n",
       "      <th>occupation_title</th>\n",
       "      <th>occupation_synonyms</th>\n",
       "      <th>occupation_description</th>\n",
       "      <th>occupation_growth</th>\n",
       "      <th>occupation_salary</th>\n",
       "    </tr>\n",
       "  </thead>\n",
       "  <tbody>\n",
       "    <tr>\n",
       "      <th>0</th>\n",
       "      <td>0</td>\n",
       "      <td>13-2011.00</td>\n",
       "      <td>Accountants and Auditors</td>\n",
       "      <td>['Accountant', 'Accounting Officer', 'Audit Pa...</td>\n",
       "      <td>Examine, analyze, and interpret accounting rec...</td>\n",
       "      <td>Bright</td>\n",
       "      <td>77250.0</td>\n",
       "    </tr>\n",
       "    <tr>\n",
       "      <th>1</th>\n",
       "      <td>1</td>\n",
       "      <td>27-2011.00</td>\n",
       "      <td>Actors</td>\n",
       "      <td>['Actor', 'Actress', 'Comedian', 'Comic', 'Com...</td>\n",
       "      <td>Play parts in stage, television, radio, video,...</td>\n",
       "      <td>Bright</td>\n",
       "      <td>NaN</td>\n",
       "    </tr>\n",
       "    <tr>\n",
       "      <th>2</th>\n",
       "      <td>2</td>\n",
       "      <td>15-2011.00</td>\n",
       "      <td>Actuaries</td>\n",
       "      <td>['Actuarial Analyst', 'Actuarial Associate', '...</td>\n",
       "      <td>Analyze statistical data, such as mortality, a...</td>\n",
       "      <td>Bright</td>\n",
       "      <td>105900.0</td>\n",
       "    </tr>\n",
       "  </tbody>\n",
       "</table>\n",
       "</div>"
      ],
      "text/plain": [
       "   occupation_id:ID    job_code          occupation_title  \\\n",
       "0                 0  13-2011.00  Accountants and Auditors   \n",
       "1                 1  27-2011.00                    Actors   \n",
       "2                 2  15-2011.00                 Actuaries   \n",
       "\n",
       "                                 occupation_synonyms  \\\n",
       "0  ['Accountant', 'Accounting Officer', 'Audit Pa...   \n",
       "1  ['Actor', 'Actress', 'Comedian', 'Comic', 'Com...   \n",
       "2  ['Actuarial Analyst', 'Actuarial Associate', '...   \n",
       "\n",
       "                              occupation_description occupation_growth  \\\n",
       "0  Examine, analyze, and interpret accounting rec...            Bright   \n",
       "1  Play parts in stage, television, radio, video,...            Bright   \n",
       "2  Analyze statistical data, such as mortality, a...            Bright   \n",
       "\n",
       "   occupation_salary  \n",
       "0            77250.0  \n",
       "1                NaN  \n",
       "2           105900.0  "
      ]
     },
     "execution_count": 3,
     "metadata": {},
     "output_type": "execute_result"
    }
   ],
   "source": [
    "occupation_df = pd.read_csv(input_dir+'occupations_dataset_downloaded.csv')\n",
    "occupation_df.head(3)"
   ]
  },
  {
   "cell_type": "markdown",
   "id": "zMa2bdOZ_Hke",
   "metadata": {
    "id": "zMa2bdOZ_Hke"
   },
   "source": [
    "## Save to Files"
   ]
  },
  {
   "cell_type": "code",
   "execution_count": 4,
   "id": "hcc9-QlS6uYb",
   "metadata": {
    "executionInfo": {
     "elapsed": 29,
     "status": "ok",
     "timestamp": 1670474777082,
     "user": {
      "displayName": "Jessica Allen",
      "userId": "15627582710344148622"
     },
     "user_tz": 480
    },
    "id": "hcc9-QlS6uYb"
   },
   "outputs": [],
   "source": [
    "## Create job outlook nodes by finding unique values and assigning an id\n",
    "career_outlook = occupation_df.occupation_growth.unique()\n",
    "career_outlook_df = pd.DataFrame({'career_outlook': career_outlook}).dropna()\n",
    "career_outlook_df = career_outlook_df[career_outlook_df.career_outlook != '']\n",
    "career_outlook_df.reset_index(inplace=True)\n",
    "career_outlook_df = career_outlook_df.rename(columns={\"index\": \"career_outlook_id:ID\", \"career_growth\": \"career_outlook\"})\n",
    "career_outlook_df[':LABEL'] = \"CAREER_OUTLOOK\""
   ]
  },
  {
   "cell_type": "code",
   "execution_count": 5,
   "id": "ZtQ_8WQH6uaf",
   "metadata": {
    "colab": {
     "base_uri": "https://localhost:8080/",
     "height": 143
    },
    "executionInfo": {
     "elapsed": 28,
     "status": "ok",
     "timestamp": 1670474777082,
     "user": {
      "displayName": "Jessica Allen",
      "userId": "15627582710344148622"
     },
     "user_tz": 480
    },
    "id": "ZtQ_8WQH6uaf",
    "outputId": "730d6b01-7009-46e0-8184-cd28da70d154"
   },
   "outputs": [
    {
     "data": {
      "text/html": [
       "<div>\n",
       "<style scoped>\n",
       "    .dataframe tbody tr th:only-of-type {\n",
       "        vertical-align: middle;\n",
       "    }\n",
       "\n",
       "    .dataframe tbody tr th {\n",
       "        vertical-align: top;\n",
       "    }\n",
       "\n",
       "    .dataframe thead th {\n",
       "        text-align: right;\n",
       "    }\n",
       "</style>\n",
       "<table border=\"1\" class=\"dataframe\">\n",
       "  <thead>\n",
       "    <tr style=\"text-align: right;\">\n",
       "      <th></th>\n",
       "      <th>career_outlook_id:ID</th>\n",
       "      <th>career_outlook</th>\n",
       "      <th>:LABEL</th>\n",
       "    </tr>\n",
       "  </thead>\n",
       "  <tbody>\n",
       "    <tr>\n",
       "      <th>0</th>\n",
       "      <td>0</td>\n",
       "      <td>Bright</td>\n",
       "      <td>CAREER_OUTLOOK</td>\n",
       "    </tr>\n",
       "    <tr>\n",
       "      <th>1</th>\n",
       "      <td>1</td>\n",
       "      <td>Average</td>\n",
       "      <td>CAREER_OUTLOOK</td>\n",
       "    </tr>\n",
       "    <tr>\n",
       "      <th>2</th>\n",
       "      <td>2</td>\n",
       "      <td>Below Average</td>\n",
       "      <td>CAREER_OUTLOOK</td>\n",
       "    </tr>\n",
       "  </tbody>\n",
       "</table>\n",
       "</div>"
      ],
      "text/plain": [
       "   career_outlook_id:ID career_outlook          :LABEL\n",
       "0                     0         Bright  CAREER_OUTLOOK\n",
       "1                     1        Average  CAREER_OUTLOOK\n",
       "2                     2  Below Average  CAREER_OUTLOOK"
      ]
     },
     "execution_count": 5,
     "metadata": {},
     "output_type": "execute_result"
    }
   ],
   "source": [
    "career_outlook_df.to_csv(output_dir+'career_outlook__node.csv', index=False)\n",
    "career_outlook_df.tail(4)"
   ]
  },
  {
   "cell_type": "code",
   "execution_count": 6,
   "id": "77f7e0f4",
   "metadata": {
    "colab": {
     "base_uri": "https://localhost:8080/",
     "height": 206
    },
    "executionInfo": {
     "elapsed": 28,
     "status": "ok",
     "timestamp": 1670474777083,
     "user": {
      "displayName": "Jessica Allen",
      "userId": "15627582710344148622"
     },
     "user_tz": 480
    },
    "id": "77f7e0f4",
    "outputId": "13e36a32-5289-4bf0-b844-3a485077f50a"
   },
   "outputs": [
    {
     "data": {
      "text/html": [
       "<div>\n",
       "<style scoped>\n",
       "    .dataframe tbody tr th:only-of-type {\n",
       "        vertical-align: middle;\n",
       "    }\n",
       "\n",
       "    .dataframe tbody tr th {\n",
       "        vertical-align: top;\n",
       "    }\n",
       "\n",
       "    .dataframe thead th {\n",
       "        text-align: right;\n",
       "    }\n",
       "</style>\n",
       "<table border=\"1\" class=\"dataframe\">\n",
       "  <thead>\n",
       "    <tr style=\"text-align: right;\">\n",
       "      <th></th>\n",
       "      <th>:START_ID</th>\n",
       "      <th>:END_ID</th>\n",
       "      <th>:TYPE</th>\n",
       "    </tr>\n",
       "  </thead>\n",
       "  <tbody>\n",
       "    <tr>\n",
       "      <th>0</th>\n",
       "      <td>0</td>\n",
       "      <td>0</td>\n",
       "      <td>HAS_FUTURE</td>\n",
       "    </tr>\n",
       "    <tr>\n",
       "      <th>1</th>\n",
       "      <td>1</td>\n",
       "      <td>0</td>\n",
       "      <td>HAS_FUTURE</td>\n",
       "    </tr>\n",
       "    <tr>\n",
       "      <th>2</th>\n",
       "      <td>2</td>\n",
       "      <td>0</td>\n",
       "      <td>HAS_FUTURE</td>\n",
       "    </tr>\n",
       "    <tr>\n",
       "      <th>3</th>\n",
       "      <td>4</td>\n",
       "      <td>0</td>\n",
       "      <td>HAS_FUTURE</td>\n",
       "    </tr>\n",
       "    <tr>\n",
       "      <th>4</th>\n",
       "      <td>10</td>\n",
       "      <td>0</td>\n",
       "      <td>HAS_FUTURE</td>\n",
       "    </tr>\n",
       "  </tbody>\n",
       "</table>\n",
       "</div>"
      ],
      "text/plain": [
       "   :START_ID  :END_ID       :TYPE\n",
       "0          0        0  HAS_FUTURE\n",
       "1          1        0  HAS_FUTURE\n",
       "2          2        0  HAS_FUTURE\n",
       "3          4        0  HAS_FUTURE\n",
       "4         10        0  HAS_FUTURE"
      ]
     },
     "execution_count": 6,
     "metadata": {},
     "output_type": "execute_result"
    }
   ],
   "source": [
    "## create has_future relation by finding unique values and assigning an id\n",
    "career_outlook_df = career_outlook_df.rename(columns={ \"career_outlook\": \"occupation_growth\"})\n",
    "has_future_df = pd.merge(occupation_df, career_outlook_df, on='occupation_growth', how='inner')\n",
    "has_future_df[':TYPE'] = 'HAS_FUTURE'\n",
    "has_future_df = has_future_df[['occupation_id:ID', 'career_outlook_id:ID', ':TYPE']]\n",
    "has_future_df = has_future_df.rename(columns={ 'occupation_id:ID': \":START_ID\", 'career_outlook_id:ID': \":END_ID\"})\n",
    "# has_future_df.drop(has_future_df.columns[1], axis=1, inplace=True)\n",
    "has_future_df.head(5)"
   ]
  },
  {
   "cell_type": "code",
   "execution_count": 7,
   "id": "bDLMm3pN-Tb1",
   "metadata": {
    "colab": {
     "base_uri": "https://localhost:8080/",
     "height": 112
    },
    "executionInfo": {
     "elapsed": 27,
     "status": "ok",
     "timestamp": 1670474777083,
     "user": {
      "displayName": "Jessica Allen",
      "userId": "15627582710344148622"
     },
     "user_tz": 480
    },
    "id": "bDLMm3pN-Tb1",
    "outputId": "77d1e4b5-320b-4e95-b604-a4ea878fe7fb"
   },
   "outputs": [
    {
     "data": {
      "text/html": [
       "<div>\n",
       "<style scoped>\n",
       "    .dataframe tbody tr th:only-of-type {\n",
       "        vertical-align: middle;\n",
       "    }\n",
       "\n",
       "    .dataframe tbody tr th {\n",
       "        vertical-align: top;\n",
       "    }\n",
       "\n",
       "    .dataframe thead th {\n",
       "        text-align: right;\n",
       "    }\n",
       "</style>\n",
       "<table border=\"1\" class=\"dataframe\">\n",
       "  <thead>\n",
       "    <tr style=\"text-align: right;\">\n",
       "      <th></th>\n",
       "      <th>:START_ID</th>\n",
       "      <th>:END_ID</th>\n",
       "      <th>:TYPE</th>\n",
       "    </tr>\n",
       "  </thead>\n",
       "  <tbody>\n",
       "    <tr>\n",
       "      <th>0</th>\n",
       "      <td>0</td>\n",
       "      <td>0</td>\n",
       "      <td>HAS_FUTURE</td>\n",
       "    </tr>\n",
       "    <tr>\n",
       "      <th>1</th>\n",
       "      <td>1</td>\n",
       "      <td>0</td>\n",
       "      <td>HAS_FUTURE</td>\n",
       "    </tr>\n",
       "  </tbody>\n",
       "</table>\n",
       "</div>"
      ],
      "text/plain": [
       "   :START_ID  :END_ID       :TYPE\n",
       "0          0        0  HAS_FUTURE\n",
       "1          1        0  HAS_FUTURE"
      ]
     },
     "execution_count": 7,
     "metadata": {},
     "output_type": "execute_result"
    }
   ],
   "source": [
    "has_future_df.to_csv(output_dir+'has_future__relation.csv',  index=False)\n",
    "has_future_df.head(2)"
   ]
  },
  {
   "cell_type": "code",
   "execution_count": 8,
   "id": "qDD0AE_g-eKh",
   "metadata": {
    "colab": {
     "base_uri": "https://localhost:8080/",
     "height": 250
    },
    "executionInfo": {
     "elapsed": 27,
     "status": "ok",
     "timestamp": 1670474777084,
     "user": {
      "displayName": "Jessica Allen",
      "userId": "15627582710344148622"
     },
     "user_tz": 480
    },
    "id": "qDD0AE_g-eKh",
    "outputId": "ba5a9c55-9343-480a-f33e-b13bd5d13eb5"
   },
   "outputs": [
    {
     "data": {
      "text/html": [
       "<div>\n",
       "<style scoped>\n",
       "    .dataframe tbody tr th:only-of-type {\n",
       "        vertical-align: middle;\n",
       "    }\n",
       "\n",
       "    .dataframe tbody tr th {\n",
       "        vertical-align: top;\n",
       "    }\n",
       "\n",
       "    .dataframe thead th {\n",
       "        text-align: right;\n",
       "    }\n",
       "</style>\n",
       "<table border=\"1\" class=\"dataframe\">\n",
       "  <thead>\n",
       "    <tr style=\"text-align: right;\">\n",
       "      <th></th>\n",
       "      <th>occupation_id:ID</th>\n",
       "      <th>onet_code</th>\n",
       "      <th>occupation_title</th>\n",
       "      <th>occupation_synonyms</th>\n",
       "      <th>occupation_description</th>\n",
       "      <th>occupation_salary</th>\n",
       "      <th>:LABEL</th>\n",
       "    </tr>\n",
       "  </thead>\n",
       "  <tbody>\n",
       "    <tr>\n",
       "      <th>1011</th>\n",
       "      <td>1011</td>\n",
       "      <td>51-7099.00</td>\n",
       "      <td>Woodworkers, All Other</td>\n",
       "      <td>NaN</td>\n",
       "      <td>All woodworkers not listed separately.</td>\n",
       "      <td>NaN</td>\n",
       "      <td>OCCUPATION</td>\n",
       "    </tr>\n",
       "    <tr>\n",
       "      <th>1012</th>\n",
       "      <td>1012</td>\n",
       "      <td>51-7042.00</td>\n",
       "      <td>Woodworking Machine Setters, Operators, and Te...</td>\n",
       "      <td>['Boring Machine Operator', 'Cabinet Maker', '...</td>\n",
       "      <td>Set up, operate, or tend woodworking machines,...</td>\n",
       "      <td>36090.0</td>\n",
       "      <td>OCCUPATION</td>\n",
       "    </tr>\n",
       "    <tr>\n",
       "      <th>1013</th>\n",
       "      <td>1013</td>\n",
       "      <td>43-9022.00</td>\n",
       "      <td>Word Processors and Typists</td>\n",
       "      <td>['Clerk Specialist', 'Clerk Typist', 'Keyboard...</td>\n",
       "      <td>Use word processor, computer, or typewriter to...</td>\n",
       "      <td>44030.0</td>\n",
       "      <td>OCCUPATION</td>\n",
       "    </tr>\n",
       "    <tr>\n",
       "      <th>1014</th>\n",
       "      <td>1014</td>\n",
       "      <td>27-3043.00</td>\n",
       "      <td>Writers and Authors</td>\n",
       "      <td>['Advertisement Agency Copywriter (Ad Agency C...</td>\n",
       "      <td>Originate and prepare written material, such a...</td>\n",
       "      <td>69510.0</td>\n",
       "      <td>OCCUPATION</td>\n",
       "    </tr>\n",
       "    <tr>\n",
       "      <th>1015</th>\n",
       "      <td>1015</td>\n",
       "      <td>19-1023.00</td>\n",
       "      <td>Zoologists and Wildlife Biologists</td>\n",
       "      <td>['Aquatic Biologist', 'Conservation Resources ...</td>\n",
       "      <td>Study the origins, behavior, diseases, genetic...</td>\n",
       "      <td>64650.0</td>\n",
       "      <td>OCCUPATION</td>\n",
       "    </tr>\n",
       "  </tbody>\n",
       "</table>\n",
       "</div>"
      ],
      "text/plain": [
       "      occupation_id:ID   onet_code  \\\n",
       "1011              1011  51-7099.00   \n",
       "1012              1012  51-7042.00   \n",
       "1013              1013  43-9022.00   \n",
       "1014              1014  27-3043.00   \n",
       "1015              1015  19-1023.00   \n",
       "\n",
       "                                       occupation_title  \\\n",
       "1011                             Woodworkers, All Other   \n",
       "1012  Woodworking Machine Setters, Operators, and Te...   \n",
       "1013                        Word Processors and Typists   \n",
       "1014                                Writers and Authors   \n",
       "1015                 Zoologists and Wildlife Biologists   \n",
       "\n",
       "                                    occupation_synonyms  \\\n",
       "1011                                                NaN   \n",
       "1012  ['Boring Machine Operator', 'Cabinet Maker', '...   \n",
       "1013  ['Clerk Specialist', 'Clerk Typist', 'Keyboard...   \n",
       "1014  ['Advertisement Agency Copywriter (Ad Agency C...   \n",
       "1015  ['Aquatic Biologist', 'Conservation Resources ...   \n",
       "\n",
       "                                 occupation_description  occupation_salary  \\\n",
       "1011             All woodworkers not listed separately.                NaN   \n",
       "1012  Set up, operate, or tend woodworking machines,...            36090.0   \n",
       "1013  Use word processor, computer, or typewriter to...            44030.0   \n",
       "1014  Originate and prepare written material, such a...            69510.0   \n",
       "1015  Study the origins, behavior, diseases, genetic...            64650.0   \n",
       "\n",
       "          :LABEL  \n",
       "1011  OCCUPATION  \n",
       "1012  OCCUPATION  \n",
       "1013  OCCUPATION  \n",
       "1014  OCCUPATION  \n",
       "1015  OCCUPATION  "
      ]
     },
     "execution_count": 8,
     "metadata": {},
     "output_type": "execute_result"
    }
   ],
   "source": [
    "occupation_df = occupation_df.loc[:, occupation_df.columns != 'occupation_growth']\n",
    "occupation_df = occupation_df.rename(columns={\"job_code\": \"onet_code\"})\n",
    "occupation_df[':LABEL'] = 'OCCUPATION'\n",
    "occupation_df.tail(5)"
   ]
  },
  {
   "cell_type": "code",
   "execution_count": 9,
   "id": "FkVPq9fYBmTP",
   "metadata": {
    "executionInfo": {
     "elapsed": 324,
     "status": "ok",
     "timestamp": 1670474777382,
     "user": {
      "displayName": "Jessica Allen",
      "userId": "15627582710344148622"
     },
     "user_tz": 480
    },
    "id": "FkVPq9fYBmTP"
   },
   "outputs": [],
   "source": [
    "occupation_df.to_csv(output_dir+'occupation__node.csv', index=False)"
   ]
  },
  {
   "cell_type": "code",
   "execution_count": null,
   "id": "068c3d45-37f9-49b9-b846-529534c863da",
   "metadata": {},
   "outputs": [],
   "source": []
  },
  {
   "cell_type": "code",
   "execution_count": null,
   "id": "519f75c0-7a8f-486a-b38a-74a78015c494",
   "metadata": {},
   "outputs": [],
   "source": []
  }
 ],
 "metadata": {
  "colab": {
   "provenance": []
  },
  "kernelspec": {
   "display_name": "Python 3 (ipykernel)",
   "language": "python",
   "name": "python3"
  },
  "language_info": {
   "codemirror_mode": {
    "name": "ipython",
    "version": 3
   },
   "file_extension": ".py",
   "mimetype": "text/x-python",
   "name": "python",
   "nbconvert_exporter": "python",
   "pygments_lexer": "ipython3",
   "version": "3.7.13"
  }
 },
 "nbformat": 4,
 "nbformat_minor": 5
}
