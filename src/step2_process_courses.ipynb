{
 "cells": [
  {
   "cell_type": "markdown",
   "id": "946b0e8a",
   "metadata": {
    "id": "946b0e8a"
   },
   "source": [
    "# Notebook 2: Process Courses Dataset \n",
    "Coursera.csv  \n",
    "https://www.kaggle.com/datasets/khusheekapoor/coursera-courses-dataset-2021\n",
    "\n",
    "#### This notebook produces the following data into the _output_datasets_ folder:\n",
    "```\n",
    "(COURSE) NODE\t\t\t\t\t\tcourse__node.csv\n",
    "course_id:ID\n",
    "course_name\n",
    "course_difficulty_level\n",
    "course_url\n",
    ":LABEL = \"COURSE”\n",
    "```\n",
    "#### Also, it produces intermediate datasets, used for further Skill Matching steps into the _temp_datasets_ folder:\n",
    "```\n",
    "(COURSE_SKILL) NODE\t\t\t\t\tcourses_skills_TEMP.csv\n",
    "course_skill_id\n",
    "course_skill_name\n",
    "\n",
    "(COURSE_SKILL) RELATION\t\t\t\t\tcourses_skills_relationship_TEMP.csv\n",
    "course_id\n",
    "course_skill_id\n",
    "```\n",
    "\n"
   ]
  },
  {
   "cell_type": "markdown",
   "id": "f380866f-5ecf-464d-8fd5-25d7c53dc088",
   "metadata": {
    "id": "f380866f-5ecf-464d-8fd5-25d7c53dc088"
   },
   "source": [
    "## Imports"
   ]
  },
  {
   "cell_type": "code",
   "execution_count": 1,
   "id": "69d7b105",
   "metadata": {
    "colab": {
     "base_uri": "https://localhost:8080/",
     "height": 324,
     "referenced_widgets": [
      "7015c3e262ff40ab9c827ef0685f95db",
      "c5ec82f06ed944888e093615c11ef9eb",
      "f4dde8a674184e2dbf32caa17ba33c44",
      "5ac30af5af0f45d18bebb71ad0f29af2",
      "43c84dbbd4e440a8b7d7ecf741f0b2af",
      "647f6fda4e4543879994dc6e96343080",
      "382354ac2b06481b9c3722c87f0ec20c",
      "e910d42625704bbb9e83e5088b83db28",
      "536b5afa82d24164b1c035ef34248701",
      "74a75288b35240fc87329f633c88e44a",
      "571dec860bbf4a078e47a8614d844cc7",
      "ca0ceaccb441471fa5aea5b7ff5f8a0e",
      "309079ce4c794f3bba00a059feb1e4a0",
      "ff87c26d9a2043c29ff1bb6ba9070a7b",
      "f37a00c4e8f84672952c7d63b2d89a9c",
      "93a6c958bf954ac79ffdf5e0892924de",
      "fff3f3c84c50427bb1f1c4be817d49da",
      "25d85416db66406790490801a6ac7bc7",
      "4a800b0694f34a5aabb769aa2f01c1f6",
      "5498512f10bd4c319764f4e6f0de8f1b",
      "d1ae2eff20dc49d3bd0a0a524a6cd751",
      "72ff5c0f303f425a8db62e809f67289e"
     ]
    },
    "executionInfo": {
     "elapsed": 26447,
     "status": "ok",
     "timestamp": 1670362166718,
     "user": {
      "displayName": "Sergey Gurvich",
      "userId": "03582118786368818507"
     },
     "user_tz": 480
    },
    "id": "69d7b105",
    "outputId": "27d72363-99ee-4375-d5ba-f00b858155de"
   },
   "outputs": [
    {
     "name": "stderr",
     "output_type": "stream",
     "text": [
      "/Users/sergeygurvich/anaconda3/envs/textprocessing/lib/python3.7/site-packages/tqdm/auto.py:22: TqdmWarning: IProgress not found. Please update jupyter and ipywidgets. See https://ipywidgets.readthedocs.io/en/stable/user_install.html\n",
      "  from .autonotebook import tqdm as notebook_tqdm\n",
      "Downloading https://raw.githubusercontent.com/stanfordnlp/stanza-resources/main/resources_1.4.1.json: 193kB [00:00, 50.1MB/s]\n",
      "2022-12-10 11:31:20 INFO: Downloading default packages for language: en (English) ...\n",
      "2022-12-10 11:31:22 INFO: File exists: /Users/sergeygurvich/stanza_resources/en/default.zip\n",
      "2022-12-10 11:31:26 INFO: Finished downloading models and saved to /Users/sergeygurvich/stanza_resources.\n",
      "2022-12-10 11:31:26 INFO: Loading these models for language: en (English):\n",
      "=========================\n",
      "| Processor | Package   |\n",
      "-------------------------\n",
      "| tokenize  | combined  |\n",
      "| ner       | ontonotes |\n",
      "=========================\n",
      "\n",
      "2022-12-10 11:31:26 INFO: Use device: cpu\n",
      "2022-12-10 11:31:26 INFO: Loading: tokenize\n",
      "2022-12-10 11:31:26 INFO: Loading: ner\n",
      "2022-12-10 11:31:27 INFO: Done loading processors!\n"
     ]
    }
   ],
   "source": [
    "# %pip install stanza\n",
    "# %pip install spacy\n",
    "# %pip install nltk\n",
    "# !python -m spacy download en_core_web_sm\n",
    "\n",
    "import pandas as pd\n",
    "import numpy as np\n",
    "import stanza\n",
    "import spacy\n",
    "import re\n",
    "stanza.download('en') \n",
    "nlp_spacy = spacy.load(\"en_core_web_sm\")\n",
    "nlp_stanza = stanza.Pipeline('en', processors='tokenize, ner', use_gpu=False, pos_batch_size=3000, download_method=None)"
   ]
  },
  {
   "cell_type": "code",
   "execution_count": 2,
   "id": "38360f85-26a5-476d-a1b6-5cf3c1974893",
   "metadata": {
    "colab": {
     "base_uri": "https://localhost:8080/"
    },
    "executionInfo": {
     "elapsed": 19297,
     "status": "ok",
     "timestamp": 1670362185997,
     "user": {
      "displayName": "Sergey Gurvich",
      "userId": "03582118786368818507"
     },
     "user_tz": 480
    },
    "id": "38360f85-26a5-476d-a1b6-5cf3c1974893",
    "outputId": "4fdc7729-0959-4dc2-f182-c36ac4bfb073"
   },
   "outputs": [],
   "source": [
    "# this cell is to support running the notebook in Google Colab\n",
    "\n",
    "mydrive = \"\"  # this is when we run locally\n",
    "\n",
    "# Google Colab:\n",
    "# from google.colab import drive\n",
    "# drive.mount('/content/drive')\n",
    "# mydrive = \"/content/drive/MyDrive/DSE 203 — etl/DSE203_Project/\"  # this is when we run on COLAB Leslie\n",
    "# mydrive = \"/content/drive/MyDrive/DSE203_Project/\"  # this is when we run on COLAB Sergey\n",
    "\n",
    "input_dir = mydrive+\"input_datasets/\"\n",
    "output_dir = mydrive+\"output_datasets/\"\n",
    "temp_dir = mydrive+\"temp_datasets/\""
   ]
  },
  {
   "cell_type": "markdown",
   "id": "82aad698-e8ae-453e-92e8-97dc654e5d8d",
   "metadata": {
    "id": "82aad698-e8ae-453e-92e8-97dc654e5d8d"
   },
   "source": [
    "## Read Data"
   ]
  },
  {
   "cell_type": "code",
   "execution_count": 3,
   "id": "36ccd7e1",
   "metadata": {
    "colab": {
     "base_uri": "https://localhost:8080/"
    },
    "executionInfo": {
     "elapsed": 965,
     "status": "ok",
     "timestamp": 1670362186957,
     "user": {
      "displayName": "Sergey Gurvich",
      "userId": "03582118786368818507"
     },
     "user_tz": 480
    },
    "id": "36ccd7e1",
    "outputId": "d3207847-36ee-4388-e7bb-884c962314fc"
   },
   "outputs": [
    {
     "name": "stdout",
     "output_type": "stream",
     "text": [
      "<class 'pandas.core.frame.DataFrame'>\n",
      "RangeIndex: 20 entries, 0 to 19\n",
      "Data columns (total 7 columns):\n",
      " #   Column              Non-Null Count  Dtype \n",
      "---  ------              --------------  ----- \n",
      " 0   Course Name         20 non-null     object\n",
      " 1   University          20 non-null     object\n",
      " 2   Difficulty Level    20 non-null     object\n",
      " 3   Course Rating       20 non-null     object\n",
      " 4   Course URL          20 non-null     object\n",
      " 5   Course Description  20 non-null     object\n",
      " 6   Skills              20 non-null     object\n",
      "dtypes: object(7)\n",
      "memory usage: 1.2+ KB\n"
     ]
    }
   ],
   "source": [
    "# SMALL, SAMPLED DATASET FOR TESTING:\n",
    "# courses_df = pd.read_csv(input_dir+'coursera_small.csv')\n",
    "\n",
    "# FULL DATASET:\n",
    "courses_df = pd.read_csv(input_dir+'Coursera.csv')\n",
    "\n",
    "courses_df.info()"
   ]
  },
  {
   "cell_type": "code",
   "execution_count": 4,
   "id": "821bd74c-cda1-4cc0-9837-343d553e2d37",
   "metadata": {
    "id": "821bd74c-cda1-4cc0-9837-343d553e2d37"
   },
   "outputs": [],
   "source": [
    "courses_df.rename(columns = {\"Course Name\":\"course_name\",\n",
    "                     \"Course Rating\": \"course_rating\",\n",
    "                     \"Difficulty Level\": \"course_difficulty_level\",\n",
    "                     \"Course URL\": \"course_url\",\n",
    "                     \"Course Description\": \"course_description\",\n",
    "                     \"Skills\": \"course_skills\"\n",
    "                    }, inplace=True)"
   ]
  },
  {
   "cell_type": "code",
   "execution_count": 5,
   "id": "5c339e93-a6f3-45d1-8b2e-a64f3bf767a7",
   "metadata": {
    "colab": {
     "base_uri": "https://localhost:8080/"
    },
    "executionInfo": {
     "elapsed": 9,
     "status": "ok",
     "timestamp": 1670362186958,
     "user": {
      "displayName": "Sergey Gurvich",
      "userId": "03582118786368818507"
     },
     "user_tz": 480
    },
    "id": "5c339e93-a6f3-45d1-8b2e-a64f3bf767a7",
    "outputId": "708e8fdd-62a2-4d03-a2f6-2d0ca1a1436f"
   },
   "outputs": [
    {
     "data": {
      "text/plain": [
       "Index(['course_name', 'course_description', 'course_difficulty_level',\n",
       "       'course_url', 'course_skills'],\n",
       "      dtype='object')"
      ]
     },
     "execution_count": 5,
     "metadata": {},
     "output_type": "execute_result"
    }
   ],
   "source": [
    "columns_to_leave = [\"course_name\", \n",
    "                    \"course_description\",\n",
    "                    \"course_difficulty_level\",\n",
    "                    \"course_url\",\n",
    "                    \"course_skills\"]\n",
    "courses_df = courses_df[columns_to_leave]\n",
    "courses_df.columns"
   ]
  },
  {
   "cell_type": "markdown",
   "id": "dd325380",
   "metadata": {
    "id": "dd325380"
   },
   "source": [
    "## Text Cleaning"
   ]
  },
  {
   "cell_type": "code",
   "execution_count": 6,
   "id": "d3fd3c88",
   "metadata": {
    "id": "d3fd3c88"
   },
   "outputs": [],
   "source": [
    "def clean_text(string):\n",
    "    '''\n",
    "    remove everything but the alphabetic letters\n",
    "    '''\n",
    "    string = re.sub('[^a-zA-Z,.?! ]+', '', string)\n",
    "    return string\n",
    "\n",
    "\n",
    "columns_to_clean = ['course_name', 'course_description', 'course_skills']\n",
    "\n",
    "for column in columns_to_clean:\n",
    "    courses_df[column] = courses_df[column].apply(clean_text)"
   ]
  },
  {
   "cell_type": "markdown",
   "id": "84335668",
   "metadata": {
    "id": "84335668"
   },
   "source": [
    "### Convert Skills string to list"
   ]
  },
  {
   "cell_type": "code",
   "execution_count": 7,
   "id": "3c101a1a",
   "metadata": {
    "colab": {
     "base_uri": "https://localhost:8080/",
     "height": 143
    },
    "executionInfo": {
     "elapsed": 198,
     "status": "ok",
     "timestamp": 1670362187150,
     "user": {
      "displayName": "Sergey Gurvich",
      "userId": "03582118786368818507"
     },
     "user_tz": 480
    },
    "id": "3c101a1a",
    "outputId": "758acfb0-25ea-47ce-8f77-f008ce33bbb0"
   },
   "outputs": [
    {
     "data": {
      "text/html": [
       "<div>\n",
       "<style scoped>\n",
       "    .dataframe tbody tr th:only-of-type {\n",
       "        vertical-align: middle;\n",
       "    }\n",
       "\n",
       "    .dataframe tbody tr th {\n",
       "        vertical-align: top;\n",
       "    }\n",
       "\n",
       "    .dataframe thead th {\n",
       "        text-align: right;\n",
       "    }\n",
       "</style>\n",
       "<table border=\"1\" class=\"dataframe\">\n",
       "  <thead>\n",
       "    <tr style=\"text-align: right;\">\n",
       "      <th></th>\n",
       "      <th>course_name</th>\n",
       "      <th>course_description</th>\n",
       "      <th>course_difficulty_level</th>\n",
       "      <th>course_url</th>\n",
       "      <th>course_skills</th>\n",
       "    </tr>\n",
       "  </thead>\n",
       "  <tbody>\n",
       "    <tr>\n",
       "      <th>0</th>\n",
       "      <td>Python and Statistics for Financial Analysis</td>\n",
       "      <td>Course Overview httpsyoutu.beJgFVqzAYno  Pytho...</td>\n",
       "      <td>Advanced</td>\n",
       "      <td>https://www.coursera.org/learn/python-statisti...</td>\n",
       "      <td>[Data Analysis, Python, Python Programming, fi...</td>\n",
       "    </tr>\n",
       "    <tr>\n",
       "      <th>1</th>\n",
       "      <td>Parallel programming</td>\n",
       "      <td>With every smartphone and computer now boastin...</td>\n",
       "      <td>Beginner</td>\n",
       "      <td>https://www.coursera.org/learn/parprog1</td>\n",
       "      <td>[Data Structures, parallel algorithm, openfabr...</td>\n",
       "    </tr>\n",
       "    <tr>\n",
       "      <th>2</th>\n",
       "      <td>Getting Started with Go</td>\n",
       "      <td>Learn the basics of Go, an open source program...</td>\n",
       "      <td>Intermediate</td>\n",
       "      <td>https://www.coursera.org/learn/golang-getting-...</td>\n",
       "      <td>[record computer science, language, structured...</td>\n",
       "    </tr>\n",
       "  </tbody>\n",
       "</table>\n",
       "</div>"
      ],
      "text/plain": [
       "                                    course_name  \\\n",
       "0  Python and Statistics for Financial Analysis   \n",
       "1                          Parallel programming   \n",
       "2                       Getting Started with Go   \n",
       "\n",
       "                                  course_description course_difficulty_level  \\\n",
       "0  Course Overview httpsyoutu.beJgFVqzAYno  Pytho...                Advanced   \n",
       "1  With every smartphone and computer now boastin...                Beginner   \n",
       "2  Learn the basics of Go, an open source program...            Intermediate   \n",
       "\n",
       "                                          course_url  \\\n",
       "0  https://www.coursera.org/learn/python-statisti...   \n",
       "1            https://www.coursera.org/learn/parprog1   \n",
       "2  https://www.coursera.org/learn/golang-getting-...   \n",
       "\n",
       "                                       course_skills  \n",
       "0  [Data Analysis, Python, Python Programming, fi...  \n",
       "1  [Data Structures, parallel algorithm, openfabr...  \n",
       "2  [record computer science, language, structured...  "
      ]
     },
     "execution_count": 7,
     "metadata": {},
     "output_type": "execute_result"
    }
   ],
   "source": [
    "courses_df.course_skills = courses_df.course_skills.str.split('  ')\n",
    "courses_df.head(3)"
   ]
  },
  {
   "cell_type": "markdown",
   "id": "4ed6d334",
   "metadata": {
    "id": "4ed6d334"
   },
   "source": [
    "## Apply NER to extract skills"
   ]
  },
  {
   "cell_type": "code",
   "execution_count": 8,
   "id": "336e43ad",
   "metadata": {
    "id": "336e43ad"
   },
   "outputs": [],
   "source": [
    "def extract_entities_stanza(series):\n",
    "    '''\n",
    "    This function will get a dataframe column (series) and will extract skills from the text\n",
    "    using Stanza library.\n",
    "    '''\n",
    "    \n",
    "    doc = nlp_stanza(series)\n",
    "    entities_skills = doc.entities\n",
    "    \n",
    "    result = list({x.text for x in entities_skills if (x.type == 'ORG') or (x.type == 'PRODUCT')})\n",
    "    \n",
    "    return result"
   ]
  },
  {
   "cell_type": "code",
   "execution_count": 9,
   "id": "50e3df3b",
   "metadata": {
    "id": "50e3df3b"
   },
   "outputs": [],
   "source": [
    "def extract_entities_spacy(series):\n",
    "    '''\n",
    "    This function will get a dataframe column (series) and will extract skills from the text\n",
    "    using Spacy library.\n",
    "    '''\n",
    "\n",
    "    doc = nlp_spacy(series, disable=[\"tok2vec\", \"parser\"])\n",
    "    entities_skills = doc.ents\n",
    "    \n",
    "    result = list({x.text for x in entities_skills if (x.label_ == 'ORG') or (x.label_ == 'PRODUCT')})\n",
    "    \n",
    "    return result"
   ]
  },
  {
   "cell_type": "code",
   "execution_count": 10,
   "id": "6e7bc2d6",
   "metadata": {
    "id": "6e7bc2d6"
   },
   "outputs": [],
   "source": [
    "def extend_lists(df):\n",
    "    '''\n",
    "    This function will get a Courses dataframe and will combine lists of skills \n",
    "    from different columns, will remove duplicates and then will produce a final skills list.\n",
    "    '''\n",
    "    # for simplicity\n",
    "    one  = df.course_name_stanza\n",
    "    two = df.course_name_spacy\n",
    "    three = df.description_stanza\n",
    "    four = df.description_spacy\n",
    "    five = df.course_skills\n",
    "    \n",
    "    # combine into one and eliminate dups\n",
    "    result = one + two + three + four + five\n",
    "    \n",
    "    # lowercase all skills\n",
    "    result = [x.lower() for x in result]\n",
    "    \n",
    "    result = list(set(result))\n",
    "    \n",
    "    return result"
   ]
  },
  {
   "cell_type": "code",
   "execution_count": 11,
   "id": "39771a01",
   "metadata": {
    "colab": {
     "base_uri": "https://localhost:8080/",
     "height": 344
    },
    "executionInfo": {
     "elapsed": 7385768,
     "status": "ok",
     "timestamp": 1670369572917,
     "user": {
      "displayName": "Sergey Gurvich",
      "userId": "03582118786368818507"
     },
     "user_tz": 480
    },
    "id": "39771a01",
    "outputId": "b8d31f21-ad10-4d48-ee9f-5bb0537ed4fa"
   },
   "outputs": [
    {
     "name": "stdout",
     "output_type": "stream",
     "text": [
      "CPU times: user 2min 12s, sys: 25.5 s, total: 2min 38s\n",
      "Wall time: 21.9 s\n"
     ]
    },
    {
     "data": {
      "text/html": [
       "<div>\n",
       "<style scoped>\n",
       "    .dataframe tbody tr th:only-of-type {\n",
       "        vertical-align: middle;\n",
       "    }\n",
       "\n",
       "    .dataframe tbody tr th {\n",
       "        vertical-align: top;\n",
       "    }\n",
       "\n",
       "    .dataframe thead th {\n",
       "        text-align: right;\n",
       "    }\n",
       "</style>\n",
       "<table border=\"1\" class=\"dataframe\">\n",
       "  <thead>\n",
       "    <tr style=\"text-align: right;\">\n",
       "      <th></th>\n",
       "      <th>course_name</th>\n",
       "      <th>course_description</th>\n",
       "      <th>course_difficulty_level</th>\n",
       "      <th>course_url</th>\n",
       "      <th>course_skills</th>\n",
       "      <th>course_name_stanza</th>\n",
       "      <th>description_stanza</th>\n",
       "      <th>course_name_spacy</th>\n",
       "      <th>description_spacy</th>\n",
       "      <th>all_course_skills</th>\n",
       "    </tr>\n",
       "  </thead>\n",
       "  <tbody>\n",
       "    <tr>\n",
       "      <th>0</th>\n",
       "      <td>Python and Statistics for Financial Analysis</td>\n",
       "      <td>Course Overview httpsyoutu.beJgFVqzAYno  Pytho...</td>\n",
       "      <td>Advanced</td>\n",
       "      <td>https://www.coursera.org/learn/python-statisti...</td>\n",
       "      <td>[Data Analysis, Python, Python Programming, fi...</td>\n",
       "      <td>[]</td>\n",
       "      <td>[Jupyter Notebook]</td>\n",
       "      <td>[]</td>\n",
       "      <td>[linear, Dataframe   Manipulate]</td>\n",
       "      <td>[statistical analysis, jupyter notebook, data ...</td>\n",
       "    </tr>\n",
       "    <tr>\n",
       "      <th>1</th>\n",
       "      <td>Parallel programming</td>\n",
       "      <td>With every smartphone and computer now boastin...</td>\n",
       "      <td>Beginner</td>\n",
       "      <td>https://www.coursera.org/learn/parprog1</td>\n",
       "      <td>[Data Structures, parallel algorithm, openfabr...</td>\n",
       "      <td>[]</td>\n",
       "      <td>[Scala, Ruby, CC, Functional Program Design]</td>\n",
       "      <td>[]</td>\n",
       "      <td>[Scala, Recommended, Learning Outcomes, Functi...</td>\n",
       "      <td>[computer programming computerscience software...</td>\n",
       "    </tr>\n",
       "    <tr>\n",
       "      <th>2</th>\n",
       "      <td>Getting Started with Go</td>\n",
       "      <td>Learn the basics of Go, an open source program...</td>\n",
       "      <td>Intermediate</td>\n",
       "      <td>https://www.coursera.org/learn/golang-getting-...</td>\n",
       "      <td>[record computer science, language, structured...</td>\n",
       "      <td>[]</td>\n",
       "      <td>[Google, Java]</td>\n",
       "      <td>[]</td>\n",
       "      <td>[Google]</td>\n",
       "      <td>[subroutine computerscience softwaredevelopmen...</td>\n",
       "    </tr>\n",
       "  </tbody>\n",
       "</table>\n",
       "</div>"
      ],
      "text/plain": [
       "                                    course_name  \\\n",
       "0  Python and Statistics for Financial Analysis   \n",
       "1                          Parallel programming   \n",
       "2                       Getting Started with Go   \n",
       "\n",
       "                                  course_description course_difficulty_level  \\\n",
       "0  Course Overview httpsyoutu.beJgFVqzAYno  Pytho...                Advanced   \n",
       "1  With every smartphone and computer now boastin...                Beginner   \n",
       "2  Learn the basics of Go, an open source program...            Intermediate   \n",
       "\n",
       "                                          course_url  \\\n",
       "0  https://www.coursera.org/learn/python-statisti...   \n",
       "1            https://www.coursera.org/learn/parprog1   \n",
       "2  https://www.coursera.org/learn/golang-getting-...   \n",
       "\n",
       "                                       course_skills course_name_stanza  \\\n",
       "0  [Data Analysis, Python, Python Programming, fi...                 []   \n",
       "1  [Data Structures, parallel algorithm, openfabr...                 []   \n",
       "2  [record computer science, language, structured...                 []   \n",
       "\n",
       "                             description_stanza course_name_spacy  \\\n",
       "0                            [Jupyter Notebook]                []   \n",
       "1  [Scala, Ruby, CC, Functional Program Design]                []   \n",
       "2                                [Google, Java]                []   \n",
       "\n",
       "                                   description_spacy  \\\n",
       "0                   [linear, Dataframe   Manipulate]   \n",
       "1  [Scala, Recommended, Learning Outcomes, Functi...   \n",
       "2                                           [Google]   \n",
       "\n",
       "                                   all_course_skills  \n",
       "0  [statistical analysis, jupyter notebook, data ...  \n",
       "1  [computer programming computerscience software...  \n",
       "2  [subroutine computerscience softwaredevelopmen...  "
      ]
     },
     "execution_count": 11,
     "metadata": {},
     "output_type": "execute_result"
    }
   ],
   "source": [
    "%%time\n",
    "\n",
    "# extract with Stanza\n",
    "courses_df['course_name_stanza'] = courses_df['course_name'].apply(extract_entities_stanza)\n",
    "courses_df['description_stanza'] = courses_df['course_description'].apply(extract_entities_stanza)\n",
    "\n",
    "# extract with Space\n",
    "courses_df['course_name_spacy'] = courses_df['course_name'].apply(extract_entities_spacy)\n",
    "courses_df['description_spacy'] = courses_df['course_description'].apply(extract_entities_spacy)\n",
    "\n",
    "# Combine everything together and remove duplicate skills\n",
    "courses_df['all_course_skills'] = courses_df.apply(extend_lists,axis=1)\n",
    "\n",
    "courses_df.head(3)"
   ]
  },
  {
   "cell_type": "markdown",
   "id": "4f4930d5-c532-46ed-8b01-0feddd61531b",
   "metadata": {
    "id": "4f4930d5-c532-46ed-8b01-0feddd61531b"
   },
   "source": [
    "## Create relational tables"
   ]
  },
  {
   "cell_type": "markdown",
   "id": "a693819d-863a-4672-a001-81ef302f7037",
   "metadata": {
    "id": "a693819d-863a-4672-a001-81ef302f7037"
   },
   "source": [
    "### Explode table by all skills"
   ]
  },
  {
   "cell_type": "code",
   "execution_count": 12,
   "id": "23e0f037",
   "metadata": {
    "id": "23e0f037"
   },
   "outputs": [],
   "source": [
    "courses_exploded_df = courses_df[['course_name', 'all_course_skills']].explode('all_course_skills')"
   ]
  },
  {
   "cell_type": "code",
   "execution_count": 13,
   "id": "a0114483",
   "metadata": {
    "colab": {
     "base_uri": "https://localhost:8080/",
     "height": 424
    },
    "executionInfo": {
     "elapsed": 220,
     "status": "ok",
     "timestamp": 1670369573132,
     "user": {
      "displayName": "Sergey Gurvich",
      "userId": "03582118786368818507"
     },
     "user_tz": 480
    },
    "id": "a0114483",
    "outputId": "69287168-9e6e-4e25-aa80-cbfb8a0124fe"
   },
   "outputs": [
    {
     "data": {
      "text/html": [
       "<div>\n",
       "<style scoped>\n",
       "    .dataframe tbody tr th:only-of-type {\n",
       "        vertical-align: middle;\n",
       "    }\n",
       "\n",
       "    .dataframe tbody tr th {\n",
       "        vertical-align: top;\n",
       "    }\n",
       "\n",
       "    .dataframe thead th {\n",
       "        text-align: right;\n",
       "    }\n",
       "</style>\n",
       "<table border=\"1\" class=\"dataframe\">\n",
       "  <thead>\n",
       "    <tr style=\"text-align: right;\">\n",
       "      <th></th>\n",
       "      <th>course_id</th>\n",
       "      <th>course_name</th>\n",
       "      <th>course_skill</th>\n",
       "    </tr>\n",
       "  </thead>\n",
       "  <tbody>\n",
       "    <tr>\n",
       "      <th>6</th>\n",
       "      <td>0</td>\n",
       "      <td>Python and Statistics for Financial Analysis</td>\n",
       "      <td>python</td>\n",
       "    </tr>\n",
       "    <tr>\n",
       "      <th>10</th>\n",
       "      <td>0</td>\n",
       "      <td>Python and Statistics for Financial Analysis</td>\n",
       "      <td>python programming</td>\n",
       "    </tr>\n",
       "    <tr>\n",
       "      <th>50</th>\n",
       "      <td>3</td>\n",
       "      <td>TensorFlow for CNNs Transfer Learning</td>\n",
       "      <td>python</td>\n",
       "    </tr>\n",
       "    <tr>\n",
       "      <th>62</th>\n",
       "      <td>4</td>\n",
       "      <td>Image Classification with CNNs using Keras</td>\n",
       "      <td>python programming</td>\n",
       "    </tr>\n",
       "    <tr>\n",
       "      <th>66</th>\n",
       "      <td>4</td>\n",
       "      <td>Image Classification with CNNs using Keras</td>\n",
       "      <td>python</td>\n",
       "    </tr>\n",
       "  </tbody>\n",
       "</table>\n",
       "</div>"
      ],
      "text/plain": [
       "    course_id                                   course_name  \\\n",
       "6           0  Python and Statistics for Financial Analysis   \n",
       "10          0  Python and Statistics for Financial Analysis   \n",
       "50          3         TensorFlow for CNNs Transfer Learning   \n",
       "62          4    Image Classification with CNNs using Keras   \n",
       "66          4    Image Classification with CNNs using Keras   \n",
       "\n",
       "          course_skill  \n",
       "6               python  \n",
       "10  python programming  \n",
       "50              python  \n",
       "62  python programming  \n",
       "66              python  "
      ]
     },
     "execution_count": 13,
     "metadata": {},
     "output_type": "execute_result"
    }
   ],
   "source": [
    "courses_exploded_df.columns = ['course_name', 'course_skill']\n",
    "courses_exploded_df = courses_exploded_df.drop_duplicates(subset=['course_name','course_skill'])\n",
    "courses_exploded_df.reset_index(inplace=True)\n",
    "courses_exploded_df.columns = ['course_id', 'course_name', 'course_skill']\n",
    "courses_exploded_df[courses_exploded_df.course_skill.str.contains('ython')]"
   ]
  },
  {
   "cell_type": "markdown",
   "id": "38aa2148-3a26-46b5-a73f-40bcebd2b0e2",
   "metadata": {
    "id": "38aa2148-3a26-46b5-a73f-40bcebd2b0e2"
   },
   "source": [
    "## Create table of course skills (without duplicates)"
   ]
  },
  {
   "cell_type": "code",
   "execution_count": 14,
   "id": "76bb20e4-3585-4cc8-848a-d4583cd4de18",
   "metadata": {
    "colab": {
     "base_uri": "https://localhost:8080/",
     "height": 424
    },
    "executionInfo": {
     "elapsed": 4,
     "status": "ok",
     "timestamp": 1670369573132,
     "user": {
      "displayName": "Sergey Gurvich",
      "userId": "03582118786368818507"
     },
     "user_tz": 480
    },
    "id": "76bb20e4-3585-4cc8-848a-d4583cd4de18",
    "outputId": "a1db585a-e8b5-4eb3-c231-4f308223bbc9"
   },
   "outputs": [
    {
     "data": {
      "text/html": [
       "<div>\n",
       "<style scoped>\n",
       "    .dataframe tbody tr th:only-of-type {\n",
       "        vertical-align: middle;\n",
       "    }\n",
       "\n",
       "    .dataframe tbody tr th {\n",
       "        vertical-align: top;\n",
       "    }\n",
       "\n",
       "    .dataframe thead th {\n",
       "        text-align: right;\n",
       "    }\n",
       "</style>\n",
       "<table border=\"1\" class=\"dataframe\">\n",
       "  <thead>\n",
       "    <tr style=\"text-align: right;\">\n",
       "      <th></th>\n",
       "      <th>course_skill_id</th>\n",
       "      <th>course_skill_name</th>\n",
       "    </tr>\n",
       "  </thead>\n",
       "  <tbody>\n",
       "    <tr>\n",
       "      <th>6</th>\n",
       "      <td>6</td>\n",
       "      <td>python</td>\n",
       "    </tr>\n",
       "    <tr>\n",
       "      <th>10</th>\n",
       "      <td>10</td>\n",
       "      <td>python programming</td>\n",
       "    </tr>\n",
       "  </tbody>\n",
       "</table>\n",
       "</div>"
      ],
      "text/plain": [
       "    course_skill_id   course_skill_name\n",
       "6                 6              python\n",
       "10               10  python programming"
      ]
     },
     "execution_count": 14,
     "metadata": {},
     "output_type": "execute_result"
    }
   ],
   "source": [
    "courses_skills_df = courses_exploded_df[['course_skill']].copy()\n",
    "courses_skills_df = courses_skills_df.drop_duplicates() \\\n",
    "               .reset_index(drop=True) \\\n",
    "               .reset_index() \\\n",
    "               .rename(columns={'course_skill':'course_skill_name', 'index':'course_skill_id'})\n",
    "courses_skills_df.course_skill_id = courses_skills_df.course_skill_id.astype('int')\n",
    "\n",
    "courses_skills_df[courses_skills_df.course_skill_name.str.contains('ython')]"
   ]
  },
  {
   "cell_type": "code",
   "execution_count": 15,
   "id": "0965e800-d76e-47d7-8e0f-7727ad0c562a",
   "metadata": {
    "id": "0965e800-d76e-47d7-8e0f-7727ad0c562a"
   },
   "outputs": [],
   "source": [
    "courses_skills_df.to_csv(temp_dir+\"courses_skills_TEMP.csv\", index=False)"
   ]
  },
  {
   "cell_type": "markdown",
   "id": "149986c5-de90-4f8b-8334-0117e5e1cc85",
   "metadata": {
    "id": "149986c5-de90-4f8b-8334-0117e5e1cc85"
   },
   "source": [
    "## Map course skills back to the courses to for creating the intermedite (temp) relationships table"
   ]
  },
  {
   "cell_type": "code",
   "execution_count": 16,
   "id": "821d9ae3-90ee-466f-8eee-61fb579b9ac3",
   "metadata": {
    "colab": {
     "base_uri": "https://localhost:8080/",
     "height": 424
    },
    "executionInfo": {
     "elapsed": 6,
     "status": "ok",
     "timestamp": 1670369573460,
     "user": {
      "displayName": "Sergey Gurvich",
      "userId": "03582118786368818507"
     },
     "user_tz": 480
    },
    "id": "821d9ae3-90ee-466f-8eee-61fb579b9ac3",
    "outputId": "e60f3215-eaf3-4381-e480-455bd23f72be"
   },
   "outputs": [
    {
     "data": {
      "text/html": [
       "<div>\n",
       "<style scoped>\n",
       "    .dataframe tbody tr th:only-of-type {\n",
       "        vertical-align: middle;\n",
       "    }\n",
       "\n",
       "    .dataframe tbody tr th {\n",
       "        vertical-align: top;\n",
       "    }\n",
       "\n",
       "    .dataframe thead th {\n",
       "        text-align: right;\n",
       "    }\n",
       "</style>\n",
       "<table border=\"1\" class=\"dataframe\">\n",
       "  <thead>\n",
       "    <tr style=\"text-align: right;\">\n",
       "      <th></th>\n",
       "      <th>course_id</th>\n",
       "      <th>course_name</th>\n",
       "      <th>course_skill</th>\n",
       "      <th>course_skill_id</th>\n",
       "      <th>course_skill_name</th>\n",
       "    </tr>\n",
       "  </thead>\n",
       "  <tbody>\n",
       "    <tr>\n",
       "      <th>0</th>\n",
       "      <td>0</td>\n",
       "      <td>Python and Statistics for Financial Analysis</td>\n",
       "      <td>statistical analysis</td>\n",
       "      <td>0</td>\n",
       "      <td>statistical analysis</td>\n",
       "    </tr>\n",
       "    <tr>\n",
       "      <th>1</th>\n",
       "      <td>0</td>\n",
       "      <td>Python and Statistics for Financial Analysis</td>\n",
       "      <td>jupyter notebook</td>\n",
       "      <td>1</td>\n",
       "      <td>jupyter notebook</td>\n",
       "    </tr>\n",
       "    <tr>\n",
       "      <th>2</th>\n",
       "      <td>0</td>\n",
       "      <td>Python and Statistics for Financial Analysis</td>\n",
       "      <td>data analysis</td>\n",
       "      <td>2</td>\n",
       "      <td>data analysis</td>\n",
       "    </tr>\n",
       "    <tr>\n",
       "      <th>3</th>\n",
       "      <td>6</td>\n",
       "      <td>Behavior Driven Development with Selenium and ...</td>\n",
       "      <td>data analysis</td>\n",
       "      <td>2</td>\n",
       "      <td>data analysis</td>\n",
       "    </tr>\n",
       "    <tr>\n",
       "      <th>4</th>\n",
       "      <td>19</td>\n",
       "      <td>The Product Lifecycle A Guide from start to fi...</td>\n",
       "      <td>data analysis</td>\n",
       "      <td>2</td>\n",
       "      <td>data analysis</td>\n",
       "    </tr>\n",
       "    <tr>\n",
       "      <th>...</th>\n",
       "      <td>...</td>\n",
       "      <td>...</td>\n",
       "      <td>...</td>\n",
       "      <td>...</td>\n",
       "      <td>...</td>\n",
       "    </tr>\n",
       "    <tr>\n",
       "      <th>269</th>\n",
       "      <td>19</td>\n",
       "      <td>The Product Lifecycle A Guide from start to fi...</td>\n",
       "      <td>microsoft excel</td>\n",
       "      <td>228</td>\n",
       "      <td>microsoft excel</td>\n",
       "    </tr>\n",
       "    <tr>\n",
       "      <th>270</th>\n",
       "      <td>19</td>\n",
       "      <td>The Product Lifecycle A Guide from start to fi...</td>\n",
       "      <td>product lifecycle</td>\n",
       "      <td>229</td>\n",
       "      <td>product lifecycle</td>\n",
       "    </tr>\n",
       "    <tr>\n",
       "      <th>271</th>\n",
       "      <td>19</td>\n",
       "      <td>The Product Lifecycle A Guide from start to fi...</td>\n",
       "      <td>tracking</td>\n",
       "      <td>230</td>\n",
       "      <td>tracking</td>\n",
       "    </tr>\n",
       "    <tr>\n",
       "      <th>272</th>\n",
       "      <td>19</td>\n",
       "      <td>The Product Lifecycle A Guide from start to fi...</td>\n",
       "      <td>product sales</td>\n",
       "      <td>231</td>\n",
       "      <td>product sales</td>\n",
       "    </tr>\n",
       "    <tr>\n",
       "      <th>273</th>\n",
       "      <td>19</td>\n",
       "      <td>The Product Lifecycle A Guide from start to fi...</td>\n",
       "      <td>strategy business marketing</td>\n",
       "      <td>232</td>\n",
       "      <td>strategy business marketing</td>\n",
       "    </tr>\n",
       "  </tbody>\n",
       "</table>\n",
       "<p>274 rows × 5 columns</p>\n",
       "</div>"
      ],
      "text/plain": [
       "     course_id                                        course_name  \\\n",
       "0            0       Python and Statistics for Financial Analysis   \n",
       "1            0       Python and Statistics for Financial Analysis   \n",
       "2            0       Python and Statistics for Financial Analysis   \n",
       "3            6  Behavior Driven Development with Selenium and ...   \n",
       "4           19  The Product Lifecycle A Guide from start to fi...   \n",
       "..         ...                                                ...   \n",
       "269         19  The Product Lifecycle A Guide from start to fi...   \n",
       "270         19  The Product Lifecycle A Guide from start to fi...   \n",
       "271         19  The Product Lifecycle A Guide from start to fi...   \n",
       "272         19  The Product Lifecycle A Guide from start to fi...   \n",
       "273         19  The Product Lifecycle A Guide from start to fi...   \n",
       "\n",
       "                    course_skill  course_skill_id            course_skill_name  \n",
       "0           statistical analysis                0         statistical analysis  \n",
       "1               jupyter notebook                1             jupyter notebook  \n",
       "2                  data analysis                2                data analysis  \n",
       "3                  data analysis                2                data analysis  \n",
       "4                  data analysis                2                data analysis  \n",
       "..                           ...              ...                          ...  \n",
       "269              microsoft excel              228              microsoft excel  \n",
       "270            product lifecycle              229            product lifecycle  \n",
       "271                     tracking              230                     tracking  \n",
       "272                product sales              231                product sales  \n",
       "273  strategy business marketing              232  strategy business marketing  \n",
       "\n",
       "[274 rows x 5 columns]"
      ]
     },
     "execution_count": 16,
     "metadata": {},
     "output_type": "execute_result"
    }
   ],
   "source": [
    "courses_exploded_df = courses_exploded_df.merge(courses_skills_df, how='outer', left_on='course_skill', right_on='course_skill_name')\n",
    "courses_exploded_df"
   ]
  },
  {
   "cell_type": "code",
   "execution_count": 17,
   "id": "5af93b3f-7abc-4f75-8f06-66da3de61e68",
   "metadata": {
    "id": "5af93b3f-7abc-4f75-8f06-66da3de61e68"
   },
   "outputs": [],
   "source": [
    "courses_exploded_df[[\"course_id\", \"course_skill_id\"]].to_csv(temp_dir+\"courses_skills_relationship_TEMP.csv\",index=False)"
   ]
  },
  {
   "cell_type": "markdown",
   "id": "311917b2-857a-4986-955b-7b46a728b1a7",
   "metadata": {
    "id": "311917b2-857a-4986-955b-7b46a728b1a7"
   },
   "source": [
    "### (node) COURSE"
   ]
  },
  {
   "cell_type": "code",
   "execution_count": 18,
   "id": "46cc6e27-06b4-4b47-b9bd-c4a0bf0f847a",
   "metadata": {
    "colab": {
     "base_uri": "https://localhost:8080/",
     "height": 528
    },
    "executionInfo": {
     "elapsed": 7,
     "status": "ok",
     "timestamp": 1670369573648,
     "user": {
      "displayName": "Sergey Gurvich",
      "userId": "03582118786368818507"
     },
     "user_tz": 480
    },
    "id": "46cc6e27-06b4-4b47-b9bd-c4a0bf0f847a",
    "outputId": "213d2ede-01a4-4e2b-f297-22fdd2fc3444"
   },
   "outputs": [
    {
     "data": {
      "text/html": [
       "<div>\n",
       "<style scoped>\n",
       "    .dataframe tbody tr th:only-of-type {\n",
       "        vertical-align: middle;\n",
       "    }\n",
       "\n",
       "    .dataframe tbody tr th {\n",
       "        vertical-align: top;\n",
       "    }\n",
       "\n",
       "    .dataframe thead th {\n",
       "        text-align: right;\n",
       "    }\n",
       "</style>\n",
       "<table border=\"1\" class=\"dataframe\">\n",
       "  <thead>\n",
       "    <tr style=\"text-align: right;\">\n",
       "      <th></th>\n",
       "      <th>course_name</th>\n",
       "      <th>course_difficulty_level</th>\n",
       "      <th>course_url</th>\n",
       "      <th>:LABEL</th>\n",
       "    </tr>\n",
       "  </thead>\n",
       "  <tbody>\n",
       "    <tr>\n",
       "      <th>0</th>\n",
       "      <td>Python and Statistics for Financial Analysis</td>\n",
       "      <td>Advanced</td>\n",
       "      <td>https://www.coursera.org/learn/python-statisti...</td>\n",
       "      <td>COURSE</td>\n",
       "    </tr>\n",
       "    <tr>\n",
       "      <th>1</th>\n",
       "      <td>Parallel programming</td>\n",
       "      <td>Beginner</td>\n",
       "      <td>https://www.coursera.org/learn/parprog1</td>\n",
       "      <td>COURSE</td>\n",
       "    </tr>\n",
       "    <tr>\n",
       "      <th>2</th>\n",
       "      <td>Getting Started with Go</td>\n",
       "      <td>Intermediate</td>\n",
       "      <td>https://www.coursera.org/learn/golang-getting-...</td>\n",
       "      <td>COURSE</td>\n",
       "    </tr>\n",
       "    <tr>\n",
       "      <th>3</th>\n",
       "      <td>TensorFlow for CNNs Transfer Learning</td>\n",
       "      <td>Beginner</td>\n",
       "      <td>https://www.coursera.org/learn/tensorflow-for-...</td>\n",
       "      <td>COURSE</td>\n",
       "    </tr>\n",
       "    <tr>\n",
       "      <th>4</th>\n",
       "      <td>Image Classification with CNNs using Keras</td>\n",
       "      <td>Beginner</td>\n",
       "      <td>https://www.coursera.org/learn/image-classific...</td>\n",
       "      <td>COURSE</td>\n",
       "    </tr>\n",
       "    <tr>\n",
       "      <th>5</th>\n",
       "      <td>Create your first test automation script  Sele...</td>\n",
       "      <td>Beginner</td>\n",
       "      <td>https://www.coursera.org/learn/create-first-te...</td>\n",
       "      <td>COURSE</td>\n",
       "    </tr>\n",
       "    <tr>\n",
       "      <th>6</th>\n",
       "      <td>Behavior Driven Development with Selenium and ...</td>\n",
       "      <td>Intermediate</td>\n",
       "      <td>https://www.coursera.org/learn/behavior-driven...</td>\n",
       "      <td>COURSE</td>\n",
       "    </tr>\n",
       "    <tr>\n",
       "      <th>7</th>\n",
       "      <td>Building Test Automation Framework using Selen...</td>\n",
       "      <td>Beginner</td>\n",
       "      <td>https://www.coursera.org/learn/building-test-a...</td>\n",
       "      <td>COURSE</td>\n",
       "    </tr>\n",
       "    <tr>\n",
       "      <th>8</th>\n",
       "      <td>Advanced TestNG Framework and Integration with...</td>\n",
       "      <td>Beginner</td>\n",
       "      <td>https://www.coursera.org/learn/Advanced-testng...</td>\n",
       "      <td>COURSE</td>\n",
       "    </tr>\n",
       "    <tr>\n",
       "      <th>9</th>\n",
       "      <td>Automate an ecommerce web application using Se...</td>\n",
       "      <td>Beginner</td>\n",
       "      <td>https://www.coursera.org/learn/automate-e-comm...</td>\n",
       "      <td>COURSE</td>\n",
       "    </tr>\n",
       "    <tr>\n",
       "      <th>10</th>\n",
       "      <td>Organisational design Know your organisation</td>\n",
       "      <td>Beginner</td>\n",
       "      <td>https://www.coursera.org/learn/organisational-...</td>\n",
       "      <td>COURSE</td>\n",
       "    </tr>\n",
       "    <tr>\n",
       "      <th>11</th>\n",
       "      <td>NonCommunicable Diseases in Humanitarian Settings</td>\n",
       "      <td>Beginner</td>\n",
       "      <td>https://www.coursera.org/learn/non-communicabl...</td>\n",
       "      <td>COURSE</td>\n",
       "    </tr>\n",
       "    <tr>\n",
       "      <th>12</th>\n",
       "      <td>Agile Projects  Developing Tasks with Taiga</td>\n",
       "      <td>Beginner</td>\n",
       "      <td>https://www.coursera.org/learn/developing-agil...</td>\n",
       "      <td>COURSE</td>\n",
       "    </tr>\n",
       "    <tr>\n",
       "      <th>13</th>\n",
       "      <td>Anticipating Your Next Battle, in Business and...</td>\n",
       "      <td>Advanced</td>\n",
       "      <td>https://www.coursera.org/learn/anticipate</td>\n",
       "      <td>COURSE</td>\n",
       "    </tr>\n",
       "    <tr>\n",
       "      <th>14</th>\n",
       "      <td>Agile Analytics</td>\n",
       "      <td>Beginner</td>\n",
       "      <td>https://www.coursera.org/learn/uva-darden-agil...</td>\n",
       "      <td>COURSE</td>\n",
       "    </tr>\n",
       "    <tr>\n",
       "      <th>15</th>\n",
       "      <td>Federal Taxation II Property Transactions of B...</td>\n",
       "      <td>Advanced</td>\n",
       "      <td>https://www.coursera.org/learn/federal-taxatio...</td>\n",
       "      <td>COURSE</td>\n",
       "    </tr>\n",
       "    <tr>\n",
       "      <th>16</th>\n",
       "      <td>Build a Linear Layout App in Android Studio</td>\n",
       "      <td>Beginner</td>\n",
       "      <td>https://www.coursera.org/learn/build-linear-la...</td>\n",
       "      <td>COURSE</td>\n",
       "    </tr>\n",
       "    <tr>\n",
       "      <th>17</th>\n",
       "      <td>Mind Control Managing Your Mental Health Durin...</td>\n",
       "      <td>Beginner</td>\n",
       "      <td>https://www.coursera.org/learn/manage-health-c...</td>\n",
       "      <td>COURSE</td>\n",
       "    </tr>\n",
       "    <tr>\n",
       "      <th>18</th>\n",
       "      <td>Financial Regulation in Emerging Markets and t...</td>\n",
       "      <td>Intermediate</td>\n",
       "      <td>https://www.coursera.org/learn/financial-regul...</td>\n",
       "      <td>COURSE</td>\n",
       "    </tr>\n",
       "    <tr>\n",
       "      <th>19</th>\n",
       "      <td>The Product Lifecycle A Guide from start to fi...</td>\n",
       "      <td>Beginner</td>\n",
       "      <td>https://www.coursera.org/learn/the-product-lif...</td>\n",
       "      <td>COURSE</td>\n",
       "    </tr>\n",
       "  </tbody>\n",
       "</table>\n",
       "</div>"
      ],
      "text/plain": [
       "                                          course_name course_difficulty_level  \\\n",
       "0        Python and Statistics for Financial Analysis                Advanced   \n",
       "1                                Parallel programming                Beginner   \n",
       "2                             Getting Started with Go            Intermediate   \n",
       "3               TensorFlow for CNNs Transfer Learning                Beginner   \n",
       "4          Image Classification with CNNs using Keras                Beginner   \n",
       "5   Create your first test automation script  Sele...                Beginner   \n",
       "6   Behavior Driven Development with Selenium and ...            Intermediate   \n",
       "7   Building Test Automation Framework using Selen...                Beginner   \n",
       "8   Advanced TestNG Framework and Integration with...                Beginner   \n",
       "9   Automate an ecommerce web application using Se...                Beginner   \n",
       "10       Organisational design Know your organisation                Beginner   \n",
       "11  NonCommunicable Diseases in Humanitarian Settings                Beginner   \n",
       "12        Agile Projects  Developing Tasks with Taiga                Beginner   \n",
       "13  Anticipating Your Next Battle, in Business and...                Advanced   \n",
       "14                                    Agile Analytics                Beginner   \n",
       "15  Federal Taxation II Property Transactions of B...                Advanced   \n",
       "16        Build a Linear Layout App in Android Studio                Beginner   \n",
       "17  Mind Control Managing Your Mental Health Durin...                Beginner   \n",
       "18  Financial Regulation in Emerging Markets and t...            Intermediate   \n",
       "19  The Product Lifecycle A Guide from start to fi...                Beginner   \n",
       "\n",
       "                                           course_url  :LABEL  \n",
       "0   https://www.coursera.org/learn/python-statisti...  COURSE  \n",
       "1             https://www.coursera.org/learn/parprog1  COURSE  \n",
       "2   https://www.coursera.org/learn/golang-getting-...  COURSE  \n",
       "3   https://www.coursera.org/learn/tensorflow-for-...  COURSE  \n",
       "4   https://www.coursera.org/learn/image-classific...  COURSE  \n",
       "5   https://www.coursera.org/learn/create-first-te...  COURSE  \n",
       "6   https://www.coursera.org/learn/behavior-driven...  COURSE  \n",
       "7   https://www.coursera.org/learn/building-test-a...  COURSE  \n",
       "8   https://www.coursera.org/learn/Advanced-testng...  COURSE  \n",
       "9   https://www.coursera.org/learn/automate-e-comm...  COURSE  \n",
       "10  https://www.coursera.org/learn/organisational-...  COURSE  \n",
       "11  https://www.coursera.org/learn/non-communicabl...  COURSE  \n",
       "12  https://www.coursera.org/learn/developing-agil...  COURSE  \n",
       "13          https://www.coursera.org/learn/anticipate  COURSE  \n",
       "14  https://www.coursera.org/learn/uva-darden-agil...  COURSE  \n",
       "15  https://www.coursera.org/learn/federal-taxatio...  COURSE  \n",
       "16  https://www.coursera.org/learn/build-linear-la...  COURSE  \n",
       "17  https://www.coursera.org/learn/manage-health-c...  COURSE  \n",
       "18  https://www.coursera.org/learn/financial-regul...  COURSE  \n",
       "19  https://www.coursera.org/learn/the-product-lif...  COURSE  "
      ]
     },
     "execution_count": 18,
     "metadata": {},
     "output_type": "execute_result"
    }
   ],
   "source": [
    "columns_to_leave = [\"course_name\", \n",
    "                    \"course_difficulty_level\",\n",
    "                    \"course_url\"]\n",
    "courses_df = courses_df[columns_to_leave]\n",
    "courses_df[\":LABEL\"] = \"COURSE\"\n",
    "courses_df"
   ]
  },
  {
   "cell_type": "code",
   "execution_count": 19,
   "id": "5823fbf4-fded-4314-9e76-f923dbdf5f0f",
   "metadata": {
    "id": "5823fbf4-fded-4314-9e76-f923dbdf5f0f"
   },
   "outputs": [],
   "source": [
    "courses_df.to_csv(output_dir+\"course__node.csv\", index_label=\"course_id:ID\")"
   ]
  },
  {
   "cell_type": "code",
   "execution_count": null,
   "id": "8aa2f787-c23a-4cd1-9612-5c60e5fdf71f",
   "metadata": {
    "id": "8aa2f787-c23a-4cd1-9612-5c60e5fdf71f"
   },
   "outputs": [],
   "source": []
  }
 ],
 "metadata": {
  "colab": {
   "provenance": []
  },
  "gpuClass": "standard",
  "kernelspec": {
   "display_name": "Python 3 (ipykernel)",
   "language": "python",
   "name": "python3"
  },
  "language_info": {
   "codemirror_mode": {
    "name": "ipython",
    "version": 3
   },
   "file_extension": ".py",
   "mimetype": "text/x-python",
   "name": "python",
   "nbconvert_exporter": "python",
   "pygments_lexer": "ipython3",
   "version": "3.7.13"
  },
  "widgets": {
   "application/vnd.jupyter.widget-state+json": {
    "25d85416db66406790490801a6ac7bc7": {
     "model_module": "@jupyter-widgets/controls",
     "model_module_version": "1.5.0",
     "model_name": "DescriptionStyleModel",
     "state": {
      "_model_module": "@jupyter-widgets/controls",
      "_model_module_version": "1.5.0",
      "_model_name": "DescriptionStyleModel",
      "_view_count": null,
      "_view_module": "@jupyter-widgets/base",
      "_view_module_version": "1.2.0",
      "_view_name": "StyleView",
      "description_width": ""
     }
    },
    "309079ce4c794f3bba00a059feb1e4a0": {
     "model_module": "@jupyter-widgets/controls",
     "model_module_version": "1.5.0",
     "model_name": "HTMLModel",
     "state": {
      "_dom_classes": [],
      "_model_module": "@jupyter-widgets/controls",
      "_model_module_version": "1.5.0",
      "_model_name": "HTMLModel",
      "_view_count": null,
      "_view_module": "@jupyter-widgets/controls",
      "_view_module_version": "1.5.0",
      "_view_name": "HTMLView",
      "description": "",
      "description_tooltip": null,
      "layout": "IPY_MODEL_fff3f3c84c50427bb1f1c4be817d49da",
      "placeholder": "​",
      "style": "IPY_MODEL_25d85416db66406790490801a6ac7bc7",
      "value": "Downloading https://huggingface.co/stanfordnlp/stanza-en/resolve/v1.4.1/models/default.zip: 100%"
     }
    },
    "382354ac2b06481b9c3722c87f0ec20c": {
     "model_module": "@jupyter-widgets/controls",
     "model_module_version": "1.5.0",
     "model_name": "DescriptionStyleModel",
     "state": {
      "_model_module": "@jupyter-widgets/controls",
      "_model_module_version": "1.5.0",
      "_model_name": "DescriptionStyleModel",
      "_view_count": null,
      "_view_module": "@jupyter-widgets/base",
      "_view_module_version": "1.2.0",
      "_view_name": "StyleView",
      "description_width": ""
     }
    },
    "43c84dbbd4e440a8b7d7ecf741f0b2af": {
     "model_module": "@jupyter-widgets/base",
     "model_module_version": "1.2.0",
     "model_name": "LayoutModel",
     "state": {
      "_model_module": "@jupyter-widgets/base",
      "_model_module_version": "1.2.0",
      "_model_name": "LayoutModel",
      "_view_count": null,
      "_view_module": "@jupyter-widgets/base",
      "_view_module_version": "1.2.0",
      "_view_name": "LayoutView",
      "align_content": null,
      "align_items": null,
      "align_self": null,
      "border": null,
      "bottom": null,
      "display": null,
      "flex": null,
      "flex_flow": null,
      "grid_area": null,
      "grid_auto_columns": null,
      "grid_auto_flow": null,
      "grid_auto_rows": null,
      "grid_column": null,
      "grid_gap": null,
      "grid_row": null,
      "grid_template_areas": null,
      "grid_template_columns": null,
      "grid_template_rows": null,
      "height": null,
      "justify_content": null,
      "justify_items": null,
      "left": null,
      "margin": null,
      "max_height": null,
      "max_width": null,
      "min_height": null,
      "min_width": null,
      "object_fit": null,
      "object_position": null,
      "order": null,
      "overflow": null,
      "overflow_x": null,
      "overflow_y": null,
      "padding": null,
      "right": null,
      "top": null,
      "visibility": null,
      "width": null
     }
    },
    "4a800b0694f34a5aabb769aa2f01c1f6": {
     "model_module": "@jupyter-widgets/base",
     "model_module_version": "1.2.0",
     "model_name": "LayoutModel",
     "state": {
      "_model_module": "@jupyter-widgets/base",
      "_model_module_version": "1.2.0",
      "_model_name": "LayoutModel",
      "_view_count": null,
      "_view_module": "@jupyter-widgets/base",
      "_view_module_version": "1.2.0",
      "_view_name": "LayoutView",
      "align_content": null,
      "align_items": null,
      "align_self": null,
      "border": null,
      "bottom": null,
      "display": null,
      "flex": null,
      "flex_flow": null,
      "grid_area": null,
      "grid_auto_columns": null,
      "grid_auto_flow": null,
      "grid_auto_rows": null,
      "grid_column": null,
      "grid_gap": null,
      "grid_row": null,
      "grid_template_areas": null,
      "grid_template_columns": null,
      "grid_template_rows": null,
      "height": null,
      "justify_content": null,
      "justify_items": null,
      "left": null,
      "margin": null,
      "max_height": null,
      "max_width": null,
      "min_height": null,
      "min_width": null,
      "object_fit": null,
      "object_position": null,
      "order": null,
      "overflow": null,
      "overflow_x": null,
      "overflow_y": null,
      "padding": null,
      "right": null,
      "top": null,
      "visibility": null,
      "width": null
     }
    },
    "536b5afa82d24164b1c035ef34248701": {
     "model_module": "@jupyter-widgets/controls",
     "model_module_version": "1.5.0",
     "model_name": "ProgressStyleModel",
     "state": {
      "_model_module": "@jupyter-widgets/controls",
      "_model_module_version": "1.5.0",
      "_model_name": "ProgressStyleModel",
      "_view_count": null,
      "_view_module": "@jupyter-widgets/base",
      "_view_module_version": "1.2.0",
      "_view_name": "StyleView",
      "bar_color": null,
      "description_width": ""
     }
    },
    "5498512f10bd4c319764f4e6f0de8f1b": {
     "model_module": "@jupyter-widgets/controls",
     "model_module_version": "1.5.0",
     "model_name": "ProgressStyleModel",
     "state": {
      "_model_module": "@jupyter-widgets/controls",
      "_model_module_version": "1.5.0",
      "_model_name": "ProgressStyleModel",
      "_view_count": null,
      "_view_module": "@jupyter-widgets/base",
      "_view_module_version": "1.2.0",
      "_view_name": "StyleView",
      "bar_color": null,
      "description_width": ""
     }
    },
    "571dec860bbf4a078e47a8614d844cc7": {
     "model_module": "@jupyter-widgets/controls",
     "model_module_version": "1.5.0",
     "model_name": "DescriptionStyleModel",
     "state": {
      "_model_module": "@jupyter-widgets/controls",
      "_model_module_version": "1.5.0",
      "_model_name": "DescriptionStyleModel",
      "_view_count": null,
      "_view_module": "@jupyter-widgets/base",
      "_view_module_version": "1.2.0",
      "_view_name": "StyleView",
      "description_width": ""
     }
    },
    "5ac30af5af0f45d18bebb71ad0f29af2": {
     "model_module": "@jupyter-widgets/controls",
     "model_module_version": "1.5.0",
     "model_name": "HTMLModel",
     "state": {
      "_dom_classes": [],
      "_model_module": "@jupyter-widgets/controls",
      "_model_module_version": "1.5.0",
      "_model_name": "HTMLModel",
      "_view_count": null,
      "_view_module": "@jupyter-widgets/controls",
      "_view_module_version": "1.5.0",
      "_view_name": "HTMLView",
      "description": "",
      "description_tooltip": null,
      "layout": "IPY_MODEL_74a75288b35240fc87329f633c88e44a",
      "placeholder": "​",
      "style": "IPY_MODEL_571dec860bbf4a078e47a8614d844cc7",
      "value": " 193k/? [00:00&lt;00:00, 2.34MB/s]"
     }
    },
    "647f6fda4e4543879994dc6e96343080": {
     "model_module": "@jupyter-widgets/base",
     "model_module_version": "1.2.0",
     "model_name": "LayoutModel",
     "state": {
      "_model_module": "@jupyter-widgets/base",
      "_model_module_version": "1.2.0",
      "_model_name": "LayoutModel",
      "_view_count": null,
      "_view_module": "@jupyter-widgets/base",
      "_view_module_version": "1.2.0",
      "_view_name": "LayoutView",
      "align_content": null,
      "align_items": null,
      "align_self": null,
      "border": null,
      "bottom": null,
      "display": null,
      "flex": null,
      "flex_flow": null,
      "grid_area": null,
      "grid_auto_columns": null,
      "grid_auto_flow": null,
      "grid_auto_rows": null,
      "grid_column": null,
      "grid_gap": null,
      "grid_row": null,
      "grid_template_areas": null,
      "grid_template_columns": null,
      "grid_template_rows": null,
      "height": null,
      "justify_content": null,
      "justify_items": null,
      "left": null,
      "margin": null,
      "max_height": null,
      "max_width": null,
      "min_height": null,
      "min_width": null,
      "object_fit": null,
      "object_position": null,
      "order": null,
      "overflow": null,
      "overflow_x": null,
      "overflow_y": null,
      "padding": null,
      "right": null,
      "top": null,
      "visibility": null,
      "width": null
     }
    },
    "7015c3e262ff40ab9c827ef0685f95db": {
     "model_module": "@jupyter-widgets/controls",
     "model_module_version": "1.5.0",
     "model_name": "HBoxModel",
     "state": {
      "_dom_classes": [],
      "_model_module": "@jupyter-widgets/controls",
      "_model_module_version": "1.5.0",
      "_model_name": "HBoxModel",
      "_view_count": null,
      "_view_module": "@jupyter-widgets/controls",
      "_view_module_version": "1.5.0",
      "_view_name": "HBoxView",
      "box_style": "",
      "children": [
       "IPY_MODEL_c5ec82f06ed944888e093615c11ef9eb",
       "IPY_MODEL_f4dde8a674184e2dbf32caa17ba33c44",
       "IPY_MODEL_5ac30af5af0f45d18bebb71ad0f29af2"
      ],
      "layout": "IPY_MODEL_43c84dbbd4e440a8b7d7ecf741f0b2af"
     }
    },
    "72ff5c0f303f425a8db62e809f67289e": {
     "model_module": "@jupyter-widgets/controls",
     "model_module_version": "1.5.0",
     "model_name": "DescriptionStyleModel",
     "state": {
      "_model_module": "@jupyter-widgets/controls",
      "_model_module_version": "1.5.0",
      "_model_name": "DescriptionStyleModel",
      "_view_count": null,
      "_view_module": "@jupyter-widgets/base",
      "_view_module_version": "1.2.0",
      "_view_name": "StyleView",
      "description_width": ""
     }
    },
    "74a75288b35240fc87329f633c88e44a": {
     "model_module": "@jupyter-widgets/base",
     "model_module_version": "1.2.0",
     "model_name": "LayoutModel",
     "state": {
      "_model_module": "@jupyter-widgets/base",
      "_model_module_version": "1.2.0",
      "_model_name": "LayoutModel",
      "_view_count": null,
      "_view_module": "@jupyter-widgets/base",
      "_view_module_version": "1.2.0",
      "_view_name": "LayoutView",
      "align_content": null,
      "align_items": null,
      "align_self": null,
      "border": null,
      "bottom": null,
      "display": null,
      "flex": null,
      "flex_flow": null,
      "grid_area": null,
      "grid_auto_columns": null,
      "grid_auto_flow": null,
      "grid_auto_rows": null,
      "grid_column": null,
      "grid_gap": null,
      "grid_row": null,
      "grid_template_areas": null,
      "grid_template_columns": null,
      "grid_template_rows": null,
      "height": null,
      "justify_content": null,
      "justify_items": null,
      "left": null,
      "margin": null,
      "max_height": null,
      "max_width": null,
      "min_height": null,
      "min_width": null,
      "object_fit": null,
      "object_position": null,
      "order": null,
      "overflow": null,
      "overflow_x": null,
      "overflow_y": null,
      "padding": null,
      "right": null,
      "top": null,
      "visibility": null,
      "width": null
     }
    },
    "93a6c958bf954ac79ffdf5e0892924de": {
     "model_module": "@jupyter-widgets/base",
     "model_module_version": "1.2.0",
     "model_name": "LayoutModel",
     "state": {
      "_model_module": "@jupyter-widgets/base",
      "_model_module_version": "1.2.0",
      "_model_name": "LayoutModel",
      "_view_count": null,
      "_view_module": "@jupyter-widgets/base",
      "_view_module_version": "1.2.0",
      "_view_name": "LayoutView",
      "align_content": null,
      "align_items": null,
      "align_self": null,
      "border": null,
      "bottom": null,
      "display": null,
      "flex": null,
      "flex_flow": null,
      "grid_area": null,
      "grid_auto_columns": null,
      "grid_auto_flow": null,
      "grid_auto_rows": null,
      "grid_column": null,
      "grid_gap": null,
      "grid_row": null,
      "grid_template_areas": null,
      "grid_template_columns": null,
      "grid_template_rows": null,
      "height": null,
      "justify_content": null,
      "justify_items": null,
      "left": null,
      "margin": null,
      "max_height": null,
      "max_width": null,
      "min_height": null,
      "min_width": null,
      "object_fit": null,
      "object_position": null,
      "order": null,
      "overflow": null,
      "overflow_x": null,
      "overflow_y": null,
      "padding": null,
      "right": null,
      "top": null,
      "visibility": null,
      "width": null
     }
    },
    "c5ec82f06ed944888e093615c11ef9eb": {
     "model_module": "@jupyter-widgets/controls",
     "model_module_version": "1.5.0",
     "model_name": "HTMLModel",
     "state": {
      "_dom_classes": [],
      "_model_module": "@jupyter-widgets/controls",
      "_model_module_version": "1.5.0",
      "_model_name": "HTMLModel",
      "_view_count": null,
      "_view_module": "@jupyter-widgets/controls",
      "_view_module_version": "1.5.0",
      "_view_name": "HTMLView",
      "description": "",
      "description_tooltip": null,
      "layout": "IPY_MODEL_647f6fda4e4543879994dc6e96343080",
      "placeholder": "​",
      "style": "IPY_MODEL_382354ac2b06481b9c3722c87f0ec20c",
      "value": "Downloading https://raw.githubusercontent.com/stanfordnlp/stanza-resources/main/resources_1.4.1.json: "
     }
    },
    "ca0ceaccb441471fa5aea5b7ff5f8a0e": {
     "model_module": "@jupyter-widgets/controls",
     "model_module_version": "1.5.0",
     "model_name": "HBoxModel",
     "state": {
      "_dom_classes": [],
      "_model_module": "@jupyter-widgets/controls",
      "_model_module_version": "1.5.0",
      "_model_name": "HBoxModel",
      "_view_count": null,
      "_view_module": "@jupyter-widgets/controls",
      "_view_module_version": "1.5.0",
      "_view_name": "HBoxView",
      "box_style": "",
      "children": [
       "IPY_MODEL_309079ce4c794f3bba00a059feb1e4a0",
       "IPY_MODEL_ff87c26d9a2043c29ff1bb6ba9070a7b",
       "IPY_MODEL_f37a00c4e8f84672952c7d63b2d89a9c"
      ],
      "layout": "IPY_MODEL_93a6c958bf954ac79ffdf5e0892924de"
     }
    },
    "d1ae2eff20dc49d3bd0a0a524a6cd751": {
     "model_module": "@jupyter-widgets/base",
     "model_module_version": "1.2.0",
     "model_name": "LayoutModel",
     "state": {
      "_model_module": "@jupyter-widgets/base",
      "_model_module_version": "1.2.0",
      "_model_name": "LayoutModel",
      "_view_count": null,
      "_view_module": "@jupyter-widgets/base",
      "_view_module_version": "1.2.0",
      "_view_name": "LayoutView",
      "align_content": null,
      "align_items": null,
      "align_self": null,
      "border": null,
      "bottom": null,
      "display": null,
      "flex": null,
      "flex_flow": null,
      "grid_area": null,
      "grid_auto_columns": null,
      "grid_auto_flow": null,
      "grid_auto_rows": null,
      "grid_column": null,
      "grid_gap": null,
      "grid_row": null,
      "grid_template_areas": null,
      "grid_template_columns": null,
      "grid_template_rows": null,
      "height": null,
      "justify_content": null,
      "justify_items": null,
      "left": null,
      "margin": null,
      "max_height": null,
      "max_width": null,
      "min_height": null,
      "min_width": null,
      "object_fit": null,
      "object_position": null,
      "order": null,
      "overflow": null,
      "overflow_x": null,
      "overflow_y": null,
      "padding": null,
      "right": null,
      "top": null,
      "visibility": null,
      "width": null
     }
    },
    "e910d42625704bbb9e83e5088b83db28": {
     "model_module": "@jupyter-widgets/base",
     "model_module_version": "1.2.0",
     "model_name": "LayoutModel",
     "state": {
      "_model_module": "@jupyter-widgets/base",
      "_model_module_version": "1.2.0",
      "_model_name": "LayoutModel",
      "_view_count": null,
      "_view_module": "@jupyter-widgets/base",
      "_view_module_version": "1.2.0",
      "_view_name": "LayoutView",
      "align_content": null,
      "align_items": null,
      "align_self": null,
      "border": null,
      "bottom": null,
      "display": null,
      "flex": null,
      "flex_flow": null,
      "grid_area": null,
      "grid_auto_columns": null,
      "grid_auto_flow": null,
      "grid_auto_rows": null,
      "grid_column": null,
      "grid_gap": null,
      "grid_row": null,
      "grid_template_areas": null,
      "grid_template_columns": null,
      "grid_template_rows": null,
      "height": null,
      "justify_content": null,
      "justify_items": null,
      "left": null,
      "margin": null,
      "max_height": null,
      "max_width": null,
      "min_height": null,
      "min_width": null,
      "object_fit": null,
      "object_position": null,
      "order": null,
      "overflow": null,
      "overflow_x": null,
      "overflow_y": null,
      "padding": null,
      "right": null,
      "top": null,
      "visibility": null,
      "width": null
     }
    },
    "f37a00c4e8f84672952c7d63b2d89a9c": {
     "model_module": "@jupyter-widgets/controls",
     "model_module_version": "1.5.0",
     "model_name": "HTMLModel",
     "state": {
      "_dom_classes": [],
      "_model_module": "@jupyter-widgets/controls",
      "_model_module_version": "1.5.0",
      "_model_name": "HTMLModel",
      "_view_count": null,
      "_view_module": "@jupyter-widgets/controls",
      "_view_module_version": "1.5.0",
      "_view_name": "HTMLView",
      "description": "",
      "description_tooltip": null,
      "layout": "IPY_MODEL_d1ae2eff20dc49d3bd0a0a524a6cd751",
      "placeholder": "​",
      "style": "IPY_MODEL_72ff5c0f303f425a8db62e809f67289e",
      "value": " 561M/561M [00:07&lt;00:00, 66.5MB/s]"
     }
    },
    "f4dde8a674184e2dbf32caa17ba33c44": {
     "model_module": "@jupyter-widgets/controls",
     "model_module_version": "1.5.0",
     "model_name": "FloatProgressModel",
     "state": {
      "_dom_classes": [],
      "_model_module": "@jupyter-widgets/controls",
      "_model_module_version": "1.5.0",
      "_model_name": "FloatProgressModel",
      "_view_count": null,
      "_view_module": "@jupyter-widgets/controls",
      "_view_module_version": "1.5.0",
      "_view_name": "ProgressView",
      "bar_style": "success",
      "description": "",
      "description_tooltip": null,
      "layout": "IPY_MODEL_e910d42625704bbb9e83e5088b83db28",
      "max": 28918,
      "min": 0,
      "orientation": "horizontal",
      "style": "IPY_MODEL_536b5afa82d24164b1c035ef34248701",
      "value": 28918
     }
    },
    "ff87c26d9a2043c29ff1bb6ba9070a7b": {
     "model_module": "@jupyter-widgets/controls",
     "model_module_version": "1.5.0",
     "model_name": "FloatProgressModel",
     "state": {
      "_dom_classes": [],
      "_model_module": "@jupyter-widgets/controls",
      "_model_module_version": "1.5.0",
      "_model_name": "FloatProgressModel",
      "_view_count": null,
      "_view_module": "@jupyter-widgets/controls",
      "_view_module_version": "1.5.0",
      "_view_name": "ProgressView",
      "bar_style": "success",
      "description": "",
      "description_tooltip": null,
      "layout": "IPY_MODEL_4a800b0694f34a5aabb769aa2f01c1f6",
      "max": 561333907,
      "min": 0,
      "orientation": "horizontal",
      "style": "IPY_MODEL_5498512f10bd4c319764f4e6f0de8f1b",
      "value": 561333907
     }
    },
    "fff3f3c84c50427bb1f1c4be817d49da": {
     "model_module": "@jupyter-widgets/base",
     "model_module_version": "1.2.0",
     "model_name": "LayoutModel",
     "state": {
      "_model_module": "@jupyter-widgets/base",
      "_model_module_version": "1.2.0",
      "_model_name": "LayoutModel",
      "_view_count": null,
      "_view_module": "@jupyter-widgets/base",
      "_view_module_version": "1.2.0",
      "_view_name": "LayoutView",
      "align_content": null,
      "align_items": null,
      "align_self": null,
      "border": null,
      "bottom": null,
      "display": null,
      "flex": null,
      "flex_flow": null,
      "grid_area": null,
      "grid_auto_columns": null,
      "grid_auto_flow": null,
      "grid_auto_rows": null,
      "grid_column": null,
      "grid_gap": null,
      "grid_row": null,
      "grid_template_areas": null,
      "grid_template_columns": null,
      "grid_template_rows": null,
      "height": null,
      "justify_content": null,
      "justify_items": null,
      "left": null,
      "margin": null,
      "max_height": null,
      "max_width": null,
      "min_height": null,
      "min_width": null,
      "object_fit": null,
      "object_position": null,
      "order": null,
      "overflow": null,
      "overflow_x": null,
      "overflow_y": null,
      "padding": null,
      "right": null,
      "top": null,
      "visibility": null,
      "width": null
     }
    }
   }
  }
 },
 "nbformat": 4,
 "nbformat_minor": 5
}
