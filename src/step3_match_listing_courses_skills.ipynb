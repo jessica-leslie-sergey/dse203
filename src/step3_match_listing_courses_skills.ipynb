{
 "cells": [
  {
   "cell_type": "markdown",
   "id": "c4b57c43-7d08-4034-bce2-640392ab458e",
   "metadata": {
    "id": "c4b57c43-7d08-4034-bce2-640392ab458e"
   },
   "source": [
    "# Notebook 3: Matching between Skills Extracted from Listings and Skills Extracted from Courses\n",
    "\n",
    "Using Jaccard Similarity Measure with 3-gram tokenizer\n",
    "\n",
    "#### This notebook produces the following data into the _output_datasets_ folder:\n",
    "```\n",
    "(SKILL) NODE\t\t\t\t\t\tskill__node.csv\n",
    "skill_id:ID\n",
    "skill_name\n",
    "aliases[]\n",
    ":LABEL = \"SKILL\"\n",
    "\n",
    "[TEACHES] RELATION\t\t\t\t\tteaches__relation.csv\n",
    ":START_ID = course_id\n",
    ":END_ID = skill_id\n",
    ":TYPE = \"TEACHES\"\n",
    "```"
   ]
  },
  {
   "cell_type": "markdown",
   "id": "f1317b51-d777-4c88-8bc4-0506ea91ea44",
   "metadata": {
    "id": "f1317b51-d777-4c88-8bc4-0506ea91ea44"
   },
   "source": [
    "## Imports"
   ]
  },
  {
   "cell_type": "code",
   "execution_count": 1,
   "id": "2f930dd5-6446-4716-a627-9e5c3e26054f",
   "metadata": {
    "id": "2f930dd5-6446-4716-a627-9e5c3e26054f"
   },
   "outputs": [],
   "source": [
    "# %pip install py_stringmatching\n",
    "import pandas as pd\n",
    "import py_stringmatching as sm\n",
    "import math"
   ]
  },
  {
   "cell_type": "markdown",
   "id": "f7576397-f8b8-4ea2-96da-838cc2733e02",
   "metadata": {
    "id": "f7576397-f8b8-4ea2-96da-838cc2733e02"
   },
   "source": [
    "## Read Data"
   ]
  },
  {
   "cell_type": "code",
   "execution_count": 2,
   "id": "e2fa3430-2811-4b61-8ad0-b3b74068ab44",
   "metadata": {
    "colab": {
     "base_uri": "https://localhost:8080/"
    },
    "executionInfo": {
     "elapsed": 965,
     "status": "ok",
     "timestamp": 1670382366825,
     "user": {
      "displayName": "Sergey Gurvich",
      "userId": "03582118786368818507"
     },
     "user_tz": 480
    },
    "id": "e2fa3430-2811-4b61-8ad0-b3b74068ab44",
    "outputId": "dc38019a-fcd7-4130-e00f-9d510a7a38a4"
   },
   "outputs": [],
   "source": [
    "# this cell is to support running the notebook in Google Colab\n",
    "\n",
    "mydrive = \"\"  # this is when we run locally\n",
    "\n",
    "# Google Colab:\n",
    "# from google.colab import drive\n",
    "# drive.mount('/content/drive')\n",
    "# mydrive = \"/content/drive/MyDrive/DSE 203 — etl/DSE203_Project/\"  # this is when we run on COLAB Leslie\n",
    "# mydrive = \"/content/drive/MyDrive/DSE203_Project/\"  # this is when we run on COLAB Sergey\n",
    "\n",
    "input_dir = mydrive+\"input_datasets/\"\n",
    "output_dir = mydrive+\"output_datasets/\"\n",
    "temp_dir = mydrive+\"temp_datasets/\""
   ]
  },
  {
   "cell_type": "code",
   "execution_count": 3,
   "id": "7532854c-e369-4248-b546-85d8ddcdbac0",
   "metadata": {
    "colab": {
     "base_uri": "https://localhost:8080/",
     "height": 424
    },
    "executionInfo": {
     "elapsed": 258,
     "status": "ok",
     "timestamp": 1670382367081,
     "user": {
      "displayName": "Sergey Gurvich",
      "userId": "03582118786368818507"
     },
     "user_tz": 480
    },
    "id": "7532854c-e369-4248-b546-85d8ddcdbac0",
    "outputId": "48ffaf23-d1a1-42b3-b192-f60c41ad71f2"
   },
   "outputs": [
    {
     "data": {
      "text/html": [
       "<div>\n",
       "<style scoped>\n",
       "    .dataframe tbody tr th:only-of-type {\n",
       "        vertical-align: middle;\n",
       "    }\n",
       "\n",
       "    .dataframe tbody tr th {\n",
       "        vertical-align: top;\n",
       "    }\n",
       "\n",
       "    .dataframe thead th {\n",
       "        text-align: right;\n",
       "    }\n",
       "</style>\n",
       "<table border=\"1\" class=\"dataframe\">\n",
       "  <thead>\n",
       "    <tr style=\"text-align: right;\">\n",
       "      <th></th>\n",
       "      <th>listing_skill_id</th>\n",
       "      <th>listing_skill_name</th>\n",
       "    </tr>\n",
       "  </thead>\n",
       "  <tbody>\n",
       "    <tr>\n",
       "      <th>0</th>\n",
       "      <td>0</td>\n",
       "      <td>salesforce</td>\n",
       "    </tr>\n",
       "    <tr>\n",
       "      <th>1</th>\n",
       "      <td>1</td>\n",
       "      <td>mobilesdk</td>\n",
       "    </tr>\n",
       "    <tr>\n",
       "      <th>2</th>\n",
       "      <td>2</td>\n",
       "      <td>salesforce1 platform and lightning components</td>\n",
       "    </tr>\n",
       "    <tr>\n",
       "      <th>3</th>\n",
       "      <td>3</td>\n",
       "      <td>lightning connect</td>\n",
       "    </tr>\n",
       "    <tr>\n",
       "      <th>4</th>\n",
       "      <td>4</td>\n",
       "      <td>apex</td>\n",
       "    </tr>\n",
       "    <tr>\n",
       "      <th>...</th>\n",
       "      <td>...</td>\n",
       "      <td>...</td>\n",
       "    </tr>\n",
       "    <tr>\n",
       "      <th>164</th>\n",
       "      <td>164</td>\n",
       "      <td>reactjs</td>\n",
       "    </tr>\n",
       "    <tr>\n",
       "      <th>165</th>\n",
       "      <td>165</td>\n",
       "      <td>tdd testdriven</td>\n",
       "    </tr>\n",
       "    <tr>\n",
       "      <th>166</th>\n",
       "      <td>166</td>\n",
       "      <td>mvcdesign</td>\n",
       "    </tr>\n",
       "    <tr>\n",
       "      <th>167</th>\n",
       "      <td>167</td>\n",
       "      <td>pdf resume pdfwe</td>\n",
       "    </tr>\n",
       "    <tr>\n",
       "      <th>168</th>\n",
       "      <td>168</td>\n",
       "      <td>skills, knowledge and abilities handson</td>\n",
       "    </tr>\n",
       "  </tbody>\n",
       "</table>\n",
       "<p>169 rows × 2 columns</p>\n",
       "</div>"
      ],
      "text/plain": [
       "     listing_skill_id                             listing_skill_name\n",
       "0                   0                                     salesforce\n",
       "1                   1                                      mobilesdk\n",
       "2                   2  salesforce1 platform and lightning components\n",
       "3                   3                              lightning connect\n",
       "4                   4                                           apex\n",
       "..                ...                                            ...\n",
       "164               164                                        reactjs\n",
       "165               165                                 tdd testdriven\n",
       "166               166                                      mvcdesign\n",
       "167               167                               pdf resume pdfwe\n",
       "168               168        skills, knowledge and abilities handson\n",
       "\n",
       "[169 rows x 2 columns]"
      ]
     },
     "execution_count": 3,
     "metadata": {},
     "output_type": "execute_result"
    }
   ],
   "source": [
    "# read dataset\n",
    "listing_skills_df = pd.read_csv(temp_dir+'listing_skills_TEMP.csv')\n",
    "courses_skills_df = pd.read_csv(temp_dir+'courses_skills_TEMP.csv')\n",
    "\n",
    "listing_skills_df\n",
    "# courses_skills_df"
   ]
  },
  {
   "cell_type": "code",
   "execution_count": 4,
   "id": "d88f51e6-3cd2-4e38-9f53-a809a60abb88",
   "metadata": {
    "colab": {
     "base_uri": "https://localhost:8080/"
    },
    "executionInfo": {
     "elapsed": 11,
     "status": "ok",
     "timestamp": 1670382367082,
     "user": {
      "displayName": "Sergey Gurvich",
      "userId": "03582118786368818507"
     },
     "user_tz": 480
    },
    "id": "d88f51e6-3cd2-4e38-9f53-a809a60abb88",
    "outputId": "043aef95-08df-4341-cf99-67e7910b20ca"
   },
   "outputs": [
    {
     "name": "stdout",
     "output_type": "stream",
     "text": [
      "<class 'pandas.core.frame.DataFrame'>\n",
      "RangeIndex: 233 entries, 0 to 232\n",
      "Data columns (total 2 columns):\n",
      " #   Column             Non-Null Count  Dtype \n",
      "---  ------             --------------  ----- \n",
      " 0   course_skill_id    233 non-null    int64 \n",
      " 1   course_skill_name  233 non-null    object\n",
      "dtypes: int64(1), object(1)\n",
      "memory usage: 3.8+ KB\n"
     ]
    }
   ],
   "source": [
    "# we don't want to throw away NaN, just not to break mapping\n",
    "courses_skills_df.course_skill_name.fillna('no skill', inplace=True)\n",
    "courses_skills_df.info()"
   ]
  },
  {
   "cell_type": "code",
   "execution_count": 5,
   "id": "04a88c88-9f6f-4c5d-8dcd-3ed5ecf18e91",
   "metadata": {
    "colab": {
     "base_uri": "https://localhost:8080/"
    },
    "executionInfo": {
     "elapsed": 7,
     "status": "ok",
     "timestamp": 1670382367083,
     "user": {
      "displayName": "Sergey Gurvich",
      "userId": "03582118786368818507"
     },
     "user_tz": 480
    },
    "id": "04a88c88-9f6f-4c5d-8dcd-3ed5ecf18e91",
    "outputId": "06f8efaf-e9a7-4176-a211-2325e53dda2e"
   },
   "outputs": [
    {
     "name": "stdout",
     "output_type": "stream",
     "text": [
      "<class 'pandas.core.frame.DataFrame'>\n",
      "RangeIndex: 169 entries, 0 to 168\n",
      "Data columns (total 2 columns):\n",
      " #   Column              Non-Null Count  Dtype \n",
      "---  ------              --------------  ----- \n",
      " 0   listing_skill_id    169 non-null    int64 \n",
      " 1   listing_skill_name  169 non-null    object\n",
      "dtypes: int64(1), object(1)\n",
      "memory usage: 2.8+ KB\n"
     ]
    }
   ],
   "source": [
    "# we don't want to throw away NaN, just not to break mapping\n",
    "listing_skills_df.listing_skill_name.fillna('no skill', inplace=True)\n",
    "listing_skills_df.info()"
   ]
  },
  {
   "cell_type": "markdown",
   "id": "9defd81d-372c-4ece-a7dd-9d435c469427",
   "metadata": {
    "id": "9defd81d-372c-4ece-a7dd-9d435c469427"
   },
   "source": [
    "## Matching: Using Jaccard Similarity Measure with 3-gram tokenizer"
   ]
  },
  {
   "cell_type": "code",
   "execution_count": 6,
   "id": "76df13e5-2c91-46de-b417-a920213c71ec",
   "metadata": {
    "id": "76df13e5-2c91-46de-b417-a920213c71ec"
   },
   "outputs": [],
   "source": [
    "jaccard = sm.Jaccard()\n",
    "qval=3\n",
    "qgram_tokenizer = sm.QgramTokenizer(qval)\n",
    "\n",
    "def calc_boundaries_jac_qg(s1, t):\n",
    "    '''\n",
    "    Calculate threshold boundaries for q-gram tokenizer and Jaccard similarity measure.\n",
    "    Returns: list of [lower_boundary, upper_boundary] in amount of tokens (words)\n",
    "    '''\n",
    "    \n",
    "    s1_tokens_length = len(qgram_tokenizer.tokenize(str(s1)))\n",
    "    min_l = t*s1_tokens_length\n",
    "    max_l = (1/t)*s1_tokens_length\n",
    "    return [math.floor(min_l), math.ceil(max_l)]\n",
    "\n",
    "def calc_jaccard_score_qg(s1, s2):\n",
    "    '''\n",
    "    Calculate Jaccard similarity score between 2 strings s1 and s2 with white q-gram tokenizer\n",
    "    '''\n",
    "    s1_tokens = qgram_tokenizer.tokenize(str(s1).lower())  # lowering just in case we forgot to do it before\n",
    "    s2_tokens = qgram_tokenizer.tokenize(str(s2).lower())  # lowering just in case we forgot to do it before\n",
    "    \n",
    "    score = jaccard.get_sim_score(s1_tokens, s2_tokens)\n",
    "    return score"
   ]
  },
  {
   "cell_type": "code",
   "execution_count": 7,
   "id": "fd4d6b1f-7d55-4e7e-8c92-ffdb71c3d8a6",
   "metadata": {
    "colab": {
     "base_uri": "https://localhost:8080/",
     "height": 206
    },
    "executionInfo": {
     "elapsed": 761,
     "status": "ok",
     "timestamp": 1670382367839,
     "user": {
      "displayName": "Sergey Gurvich",
      "userId": "03582118786368818507"
     },
     "user_tz": 480
    },
    "id": "fd4d6b1f-7d55-4e7e-8c92-ffdb71c3d8a6",
    "outputId": "81bf2d01-85be-41c3-aba0-7f42de41e4b9"
   },
   "outputs": [
    {
     "data": {
      "text/html": [
       "<div>\n",
       "<style scoped>\n",
       "    .dataframe tbody tr th:only-of-type {\n",
       "        vertical-align: middle;\n",
       "    }\n",
       "\n",
       "    .dataframe tbody tr th {\n",
       "        vertical-align: top;\n",
       "    }\n",
       "\n",
       "    .dataframe thead th {\n",
       "        text-align: right;\n",
       "    }\n",
       "</style>\n",
       "<table border=\"1\" class=\"dataframe\">\n",
       "  <thead>\n",
       "    <tr style=\"text-align: right;\">\n",
       "      <th></th>\n",
       "      <th>course_skill_id</th>\n",
       "      <th>course_skill_name</th>\n",
       "      <th>n_tokens</th>\n",
       "    </tr>\n",
       "  </thead>\n",
       "  <tbody>\n",
       "    <tr>\n",
       "      <th>0</th>\n",
       "      <td>0</td>\n",
       "      <td>statistical analysis</td>\n",
       "      <td>22</td>\n",
       "    </tr>\n",
       "    <tr>\n",
       "      <th>1</th>\n",
       "      <td>1</td>\n",
       "      <td>jupyter notebook</td>\n",
       "      <td>18</td>\n",
       "    </tr>\n",
       "    <tr>\n",
       "      <th>2</th>\n",
       "      <td>2</td>\n",
       "      <td>data analysis</td>\n",
       "      <td>15</td>\n",
       "    </tr>\n",
       "    <tr>\n",
       "      <th>3</th>\n",
       "      <td>3</td>\n",
       "      <td>trading</td>\n",
       "      <td>9</td>\n",
       "    </tr>\n",
       "    <tr>\n",
       "      <th>4</th>\n",
       "      <td>4</td>\n",
       "      <td>computer programming</td>\n",
       "      <td>22</td>\n",
       "    </tr>\n",
       "  </tbody>\n",
       "</table>\n",
       "</div>"
      ],
      "text/plain": [
       "   course_skill_id     course_skill_name  n_tokens\n",
       "0                0  statistical analysis        22\n",
       "1                1      jupyter notebook        18\n",
       "2                2         data analysis        15\n",
       "3                3               trading         9\n",
       "4                4  computer programming        22"
      ]
     },
     "execution_count": 7,
     "metadata": {},
     "output_type": "execute_result"
    }
   ],
   "source": [
    "# calculate number of tokens for each string in orgNames\n",
    "courses_skills_df['n_tokens'] = courses_skills_df.course_skill_name.apply(lambda x: len(qgram_tokenizer.tokenize(str(x))))\n",
    "courses_skills_df.head(5)"
   ]
  },
  {
   "cell_type": "code",
   "execution_count": 8,
   "id": "46a3ca68-cc0b-474b-a8e4-1edacde69978",
   "metadata": {
    "id": "46a3ca68-cc0b-474b-a8e4-1edacde69978"
   },
   "outputs": [],
   "source": [
    "listing_skill_id_list = listing_skills_df.listing_skill_id.to_list()\n",
    "listing_skill_name_list = listing_skills_df.listing_skill_name.to_list()"
   ]
  },
  {
   "cell_type": "code",
   "execution_count": 9,
   "id": "369f9d41-7d0a-4dd3-b749-2770f5346c18",
   "metadata": {
    "colab": {
     "base_uri": "https://localhost:8080/"
    },
    "executionInfo": {
     "elapsed": 4181265,
     "status": "ok",
     "timestamp": 1670386549097,
     "user": {
      "displayName": "Sergey Gurvich",
      "userId": "03582118786368818507"
     },
     "user_tz": 480
    },
    "id": "369f9d41-7d0a-4dd3-b749-2770f5346c18",
    "outputId": "2bdae170-dc21-48e0-83eb-ee4bb8ac8e4d"
   },
   "outputs": [
    {
     "name": "stdout",
     "output_type": "stream",
     "text": [
      "168. skills, knowledge and abilities handson    Matching with 60 records.CPU times: user 465 ms, sys: 40.2 ms, total: 505 ms\n",
      "Wall time: 435 ms\n"
     ]
    }
   ],
   "source": [
    "%%time\n",
    "t = 0.6\n",
    "# this df will hold the final results patent_string | list_of_matches\n",
    "final_df = pd.DataFrame(columns = ['listing_skill_id', 'listing_skill_name', 'course_skill_names', 'course_skill_ids'])\n",
    "\n",
    "# for current_string in patent_strings_list:\n",
    "for listing_skill_id, listing_skill_name in zip(listing_skill_id_list, listing_skill_name_list):\n",
    "\n",
    "    # calculate threshold for count filter:\n",
    "    boundaries = calc_boundaries_jac_qg(listing_skill_name, t)\n",
    "\n",
    "    # Pruning: apply filtering based on the boundaries\n",
    "    df_to_process = courses_skills_df[(courses_skills_df.n_tokens>=boundaries[0]) & (courses_skills_df.n_tokens<=boundaries[1])].copy()\n",
    "    \n",
    "    # just print to see the progress\n",
    "    print(f'\\r{listing_skill_id}. {listing_skill_name}    Matching with {len(df_to_process)} records.', end=\"\")\n",
    "    \n",
    "    # calculate similarity measure score for each string in filtered df\n",
    "    df_to_process['sim_score'] = df_to_process.course_skill_name.apply(lambda x: calc_jaccard_score_qg(x, listing_skill_name))\n",
    "\n",
    "    # this will hold the list of matches for given string\n",
    "    temp_df = df_to_process[df_to_process.sim_score>t].sort_values('sim_score', ascending=False)\n",
    "    matched_course_skill_name_list = temp_df.course_skill_name.to_list()\n",
    "    matched_course_skill_id_list = temp_df.course_skill_id.to_list()\n",
    "    \n",
    "    # convert to df with row patent_string | list_of_matches\n",
    "    int_df = pd.DataFrame(data = [[str(listing_skill_id), listing_skill_name, matched_course_skill_name_list, matched_course_skill_id_list]], \n",
    "                          columns = ['listing_skill_id', 'listing_skill_name', 'course_skill_names', 'course_skill_ids'])\n",
    "\n",
    "    # append to the final df\n",
    "    final_df = pd.concat([final_df, int_df])"
   ]
  },
  {
   "cell_type": "code",
   "execution_count": 10,
   "id": "7c7e26b5-097d-44d6-8631-14c98e51320f",
   "metadata": {
    "colab": {
     "base_uri": "https://localhost:8080/",
     "height": 424
    },
    "executionInfo": {
     "elapsed": 376,
     "status": "ok",
     "timestamp": 1670386549452,
     "user": {
      "displayName": "Sergey Gurvich",
      "userId": "03582118786368818507"
     },
     "user_tz": 480
    },
    "id": "7c7e26b5-097d-44d6-8631-14c98e51320f",
    "outputId": "c608c90e-662d-487b-fa32-26f7f04880c2"
   },
   "outputs": [
    {
     "data": {
      "text/html": [
       "<div>\n",
       "<style scoped>\n",
       "    .dataframe tbody tr th:only-of-type {\n",
       "        vertical-align: middle;\n",
       "    }\n",
       "\n",
       "    .dataframe tbody tr th {\n",
       "        vertical-align: top;\n",
       "    }\n",
       "\n",
       "    .dataframe thead th {\n",
       "        text-align: right;\n",
       "    }\n",
       "</style>\n",
       "<table border=\"1\" class=\"dataframe\">\n",
       "  <thead>\n",
       "    <tr style=\"text-align: right;\">\n",
       "      <th></th>\n",
       "      <th>listing_skill_id</th>\n",
       "      <th>listing_skill_name</th>\n",
       "      <th>course_skill_names</th>\n",
       "      <th>course_skill_ids</th>\n",
       "    </tr>\n",
       "  </thead>\n",
       "  <tbody>\n",
       "    <tr>\n",
       "      <th>0</th>\n",
       "      <td>0</td>\n",
       "      <td>salesforce</td>\n",
       "      <td>[]</td>\n",
       "      <td>[]</td>\n",
       "    </tr>\n",
       "    <tr>\n",
       "      <th>0</th>\n",
       "      <td>1</td>\n",
       "      <td>mobilesdk</td>\n",
       "      <td>[]</td>\n",
       "      <td>[]</td>\n",
       "    </tr>\n",
       "    <tr>\n",
       "      <th>0</th>\n",
       "      <td>2</td>\n",
       "      <td>salesforce1 platform and lightning components</td>\n",
       "      <td>[]</td>\n",
       "      <td>[]</td>\n",
       "    </tr>\n",
       "    <tr>\n",
       "      <th>0</th>\n",
       "      <td>3</td>\n",
       "      <td>lightning connect</td>\n",
       "      <td>[]</td>\n",
       "      <td>[]</td>\n",
       "    </tr>\n",
       "    <tr>\n",
       "      <th>0</th>\n",
       "      <td>4</td>\n",
       "      <td>apex</td>\n",
       "      <td>[]</td>\n",
       "      <td>[]</td>\n",
       "    </tr>\n",
       "    <tr>\n",
       "      <th>...</th>\n",
       "      <td>...</td>\n",
       "      <td>...</td>\n",
       "      <td>...</td>\n",
       "      <td>...</td>\n",
       "    </tr>\n",
       "    <tr>\n",
       "      <th>0</th>\n",
       "      <td>164</td>\n",
       "      <td>reactjs</td>\n",
       "      <td>[]</td>\n",
       "      <td>[]</td>\n",
       "    </tr>\n",
       "    <tr>\n",
       "      <th>0</th>\n",
       "      <td>165</td>\n",
       "      <td>tdd testdriven</td>\n",
       "      <td>[]</td>\n",
       "      <td>[]</td>\n",
       "    </tr>\n",
       "    <tr>\n",
       "      <th>0</th>\n",
       "      <td>166</td>\n",
       "      <td>mvcdesign</td>\n",
       "      <td>[]</td>\n",
       "      <td>[]</td>\n",
       "    </tr>\n",
       "    <tr>\n",
       "      <th>0</th>\n",
       "      <td>167</td>\n",
       "      <td>pdf resume pdfwe</td>\n",
       "      <td>[]</td>\n",
       "      <td>[]</td>\n",
       "    </tr>\n",
       "    <tr>\n",
       "      <th>0</th>\n",
       "      <td>168</td>\n",
       "      <td>skills, knowledge and abilities handson</td>\n",
       "      <td>[]</td>\n",
       "      <td>[]</td>\n",
       "    </tr>\n",
       "  </tbody>\n",
       "</table>\n",
       "<p>169 rows × 4 columns</p>\n",
       "</div>"
      ],
      "text/plain": [
       "   listing_skill_id                             listing_skill_name  \\\n",
       "0                 0                                     salesforce   \n",
       "0                 1                                      mobilesdk   \n",
       "0                 2  salesforce1 platform and lightning components   \n",
       "0                 3                              lightning connect   \n",
       "0                 4                                           apex   \n",
       "..              ...                                            ...   \n",
       "0               164                                        reactjs   \n",
       "0               165                                 tdd testdriven   \n",
       "0               166                                      mvcdesign   \n",
       "0               167                               pdf resume pdfwe   \n",
       "0               168        skills, knowledge and abilities handson   \n",
       "\n",
       "   course_skill_names course_skill_ids  \n",
       "0                  []               []  \n",
       "0                  []               []  \n",
       "0                  []               []  \n",
       "0                  []               []  \n",
       "0                  []               []  \n",
       "..                ...              ...  \n",
       "0                  []               []  \n",
       "0                  []               []  \n",
       "0                  []               []  \n",
       "0                  []               []  \n",
       "0                  []               []  \n",
       "\n",
       "[169 rows x 4 columns]"
      ]
     },
     "execution_count": 10,
     "metadata": {},
     "output_type": "execute_result"
    }
   ],
   "source": [
    "final_df"
   ]
  },
  {
   "cell_type": "code",
   "execution_count": 11,
   "id": "b73e1198-b2fc-46de-9cca-406cbe70590d",
   "metadata": {
    "colab": {
     "base_uri": "https://localhost:8080/",
     "height": 424
    },
    "executionInfo": {
     "elapsed": 5,
     "status": "ok",
     "timestamp": 1670386549452,
     "user": {
      "displayName": "Sergey Gurvich",
      "userId": "03582118786368818507"
     },
     "user_tz": 480
    },
    "id": "b73e1198-b2fc-46de-9cca-406cbe70590d",
    "outputId": "4c5f6af5-0b3c-4442-b882-c2814e6fce35"
   },
   "outputs": [
    {
     "data": {
      "text/html": [
       "<div>\n",
       "<style scoped>\n",
       "    .dataframe tbody tr th:only-of-type {\n",
       "        vertical-align: middle;\n",
       "    }\n",
       "\n",
       "    .dataframe tbody tr th {\n",
       "        vertical-align: top;\n",
       "    }\n",
       "\n",
       "    .dataframe thead th {\n",
       "        text-align: right;\n",
       "    }\n",
       "</style>\n",
       "<table border=\"1\" class=\"dataframe\">\n",
       "  <thead>\n",
       "    <tr style=\"text-align: right;\">\n",
       "      <th></th>\n",
       "      <th>listing_skill_id</th>\n",
       "      <th>listing_skill_name</th>\n",
       "      <th>course_skill_names</th>\n",
       "      <th>course_skill_ids</th>\n",
       "    </tr>\n",
       "  </thead>\n",
       "  <tbody>\n",
       "    <tr>\n",
       "      <th>0</th>\n",
       "      <td>18</td>\n",
       "      <td>python</td>\n",
       "      <td>[python]</td>\n",
       "      <td>[6]</td>\n",
       "    </tr>\n",
       "    <tr>\n",
       "      <th>0</th>\n",
       "      <td>20</td>\n",
       "      <td>javascript</td>\n",
       "      <td>[javascripts]</td>\n",
       "      <td>[118]</td>\n",
       "    </tr>\n",
       "    <tr>\n",
       "      <th>0</th>\n",
       "      <td>23</td>\n",
       "      <td>java</td>\n",
       "      <td>[java]</td>\n",
       "      <td>[34]</td>\n",
       "    </tr>\n",
       "    <tr>\n",
       "      <th>0</th>\n",
       "      <td>31</td>\n",
       "      <td>analytics</td>\n",
       "      <td>[analytics]</td>\n",
       "      <td>[163]</td>\n",
       "    </tr>\n",
       "    <tr>\n",
       "      <th>0</th>\n",
       "      <td>37</td>\n",
       "      <td>selenium</td>\n",
       "      <td>[selenium]</td>\n",
       "      <td>[77]</td>\n",
       "    </tr>\n",
       "    <tr>\n",
       "      <th>0</th>\n",
       "      <td>118</td>\n",
       "      <td>finance</td>\n",
       "      <td>[finance]</td>\n",
       "      <td>[12]</td>\n",
       "    </tr>\n",
       "    <tr>\n",
       "      <th>0</th>\n",
       "      <td>150</td>\n",
       "      <td>ui</td>\n",
       "      <td>[ui]</td>\n",
       "      <td>[75]</td>\n",
       "    </tr>\n",
       "  </tbody>\n",
       "</table>\n",
       "</div>"
      ],
      "text/plain": [
       "  listing_skill_id listing_skill_name course_skill_names course_skill_ids\n",
       "0               18             python           [python]              [6]\n",
       "0               20         javascript      [javascripts]            [118]\n",
       "0               23               java             [java]             [34]\n",
       "0               31          analytics        [analytics]            [163]\n",
       "0               37           selenium         [selenium]             [77]\n",
       "0              118            finance          [finance]             [12]\n",
       "0              150                 ui               [ui]             [75]"
      ]
     },
     "execution_count": 11,
     "metadata": {},
     "output_type": "execute_result"
    }
   ],
   "source": [
    "# lets look what was matched:\n",
    "final_df[final_df.course_skill_names.str.len()>0]"
   ]
  },
  {
   "cell_type": "code",
   "execution_count": 12,
   "id": "6ed39c87-e26a-49dc-9001-876054e71c1e",
   "metadata": {
    "id": "6ed39c87-e26a-49dc-9001-876054e71c1e"
   },
   "outputs": [],
   "source": [
    "# for aliases attribute, we'll make a list of all matches\n",
    "final_df['all_skills_matched'] = final_df['listing_skill_name'].apply(lambda x: x.split(':'))+final_df['course_skill_names']\n",
    "final_df.all_skills_matched = final_df.all_skills_matched.apply((set)).apply(list)\n",
    "final_df['all_skills_matched_str'] = final_df.all_skills_matched.apply(lambda x: \";\".join(x))\n",
    "# final_df[final_df.course_skill_names.str.len()>0]"
   ]
  },
  {
   "cell_type": "code",
   "execution_count": 13,
   "id": "c43135b1-d94e-4318-812c-900bcf5e9c18",
   "metadata": {
    "id": "c43135b1-d94e-4318-812c-900bcf5e9c18"
   },
   "outputs": [],
   "source": [
    "final_df.to_csv(temp_dir+'matched_listing_courses_skills__TEMP.csv', index=False)"
   ]
  },
  {
   "cell_type": "markdown",
   "id": "b3e94f51-101e-46a1-a35c-96119a4e952f",
   "metadata": {
    "id": "b3e94f51-101e-46a1-a35c-96119a4e952f"
   },
   "source": [
    "## Create Nodes table for SKILL"
   ]
  },
  {
   "cell_type": "code",
   "execution_count": 14,
   "id": "1e554fc3-2710-4396-acde-9bbe29a29a6c",
   "metadata": {
    "colab": {
     "base_uri": "https://localhost:8080/"
    },
    "executionInfo": {
     "elapsed": 161,
     "status": "ok",
     "timestamp": 1670386550066,
     "user": {
      "displayName": "Sergey Gurvich",
      "userId": "03582118786368818507"
     },
     "user_tz": 480
    },
    "id": "1e554fc3-2710-4396-acde-9bbe29a29a6c",
    "outputId": "e9e6db2d-b577-4db8-f4c5-5fca1044aebd"
   },
   "outputs": [
    {
     "name": "stderr",
     "output_type": "stream",
     "text": [
      "/Users/sergeygurvich/anaconda3/envs/textprocessing/lib/python3.7/site-packages/ipykernel_launcher.py:3: SettingWithCopyWarning: \n",
      "A value is trying to be set on a copy of a slice from a DataFrame.\n",
      "Try using .loc[row_indexer,col_indexer] = value instead\n",
      "\n",
      "See the caveats in the documentation: https://pandas.pydata.org/pandas-docs/stable/user_guide/indexing.html#returning-a-view-versus-a-copy\n",
      "  This is separate from the ipykernel package so we can avoid doing imports until\n"
     ]
    }
   ],
   "source": [
    "skill_node_df = final_df[['listing_skill_id', 'listing_skill_name', 'all_skills_matched_str']]\n",
    "skill_node_df.columns = ['skill_id:ID', 'skill_name', 'aliases[]']\n",
    "skill_node_df[':LABEL']=\"SKILL\"\n",
    "skill_node_df.to_csv(output_dir+'skill__node.csv', index=False)"
   ]
  },
  {
   "cell_type": "markdown",
   "id": "93b88cc5-b929-41e9-8f9e-53c5565d495e",
   "metadata": {
    "id": "93b88cc5-b929-41e9-8f9e-53c5565d495e"
   },
   "source": [
    "## Create Relationships table for COURSE (course_id) - TEACHES - SKILL (listing_skill_id, not course_skill_id)"
   ]
  },
  {
   "cell_type": "code",
   "execution_count": 15,
   "id": "5cfbc7e8-e986-4aa5-876d-3adc93640dff",
   "metadata": {
    "id": "5cfbc7e8-e986-4aa5-876d-3adc93640dff"
   },
   "outputs": [],
   "source": [
    "# read courses\n",
    "# courses_df = pd.read_csv(output_dir+\"course__node.csv\")\n",
    "# courses_df.head(5)"
   ]
  },
  {
   "cell_type": "code",
   "execution_count": 16,
   "id": "1708519f-b7a3-4a2d-8aeb-048db8f2416c",
   "metadata": {
    "colab": {
     "base_uri": "https://localhost:8080/",
     "height": 206
    },
    "executionInfo": {
     "elapsed": 4,
     "status": "ok",
     "timestamp": 1670386550067,
     "user": {
      "displayName": "Sergey Gurvich",
      "userId": "03582118786368818507"
     },
     "user_tz": 480
    },
    "id": "1708519f-b7a3-4a2d-8aeb-048db8f2416c",
    "outputId": "8a6d757a-b00b-4d58-d285-315a254624c7"
   },
   "outputs": [
    {
     "data": {
      "text/html": [
       "<div>\n",
       "<style scoped>\n",
       "    .dataframe tbody tr th:only-of-type {\n",
       "        vertical-align: middle;\n",
       "    }\n",
       "\n",
       "    .dataframe tbody tr th {\n",
       "        vertical-align: top;\n",
       "    }\n",
       "\n",
       "    .dataframe thead th {\n",
       "        text-align: right;\n",
       "    }\n",
       "</style>\n",
       "<table border=\"1\" class=\"dataframe\">\n",
       "  <thead>\n",
       "    <tr style=\"text-align: right;\">\n",
       "      <th></th>\n",
       "      <th>listing_skill_id</th>\n",
       "      <th>listing_skill_name</th>\n",
       "      <th>course_skill_names</th>\n",
       "      <th>course_skill_ids</th>\n",
       "      <th>all_skills_matched</th>\n",
       "      <th>all_skills_matched_str</th>\n",
       "    </tr>\n",
       "  </thead>\n",
       "  <tbody>\n",
       "    <tr>\n",
       "      <th>0</th>\n",
       "      <td>18</td>\n",
       "      <td>python</td>\n",
       "      <td>[python]</td>\n",
       "      <td>[6]</td>\n",
       "      <td>[python]</td>\n",
       "      <td>python</td>\n",
       "    </tr>\n",
       "    <tr>\n",
       "      <th>0</th>\n",
       "      <td>20</td>\n",
       "      <td>javascript</td>\n",
       "      <td>[javascripts]</td>\n",
       "      <td>[118]</td>\n",
       "      <td>[javascript, javascripts]</td>\n",
       "      <td>javascript;javascripts</td>\n",
       "    </tr>\n",
       "    <tr>\n",
       "      <th>0</th>\n",
       "      <td>23</td>\n",
       "      <td>java</td>\n",
       "      <td>[java]</td>\n",
       "      <td>[34]</td>\n",
       "      <td>[java]</td>\n",
       "      <td>java</td>\n",
       "    </tr>\n",
       "    <tr>\n",
       "      <th>0</th>\n",
       "      <td>31</td>\n",
       "      <td>analytics</td>\n",
       "      <td>[analytics]</td>\n",
       "      <td>[163]</td>\n",
       "      <td>[analytics]</td>\n",
       "      <td>analytics</td>\n",
       "    </tr>\n",
       "    <tr>\n",
       "      <th>0</th>\n",
       "      <td>37</td>\n",
       "      <td>selenium</td>\n",
       "      <td>[selenium]</td>\n",
       "      <td>[77]</td>\n",
       "      <td>[selenium]</td>\n",
       "      <td>selenium</td>\n",
       "    </tr>\n",
       "  </tbody>\n",
       "</table>\n",
       "</div>"
      ],
      "text/plain": [
       "  listing_skill_id listing_skill_name course_skill_names course_skill_ids  \\\n",
       "0               18             python           [python]              [6]   \n",
       "0               20         javascript      [javascripts]            [118]   \n",
       "0               23               java             [java]             [34]   \n",
       "0               31          analytics        [analytics]            [163]   \n",
       "0               37           selenium         [selenium]             [77]   \n",
       "\n",
       "          all_skills_matched  all_skills_matched_str  \n",
       "0                   [python]                  python  \n",
       "0  [javascript, javascripts]  javascript;javascripts  \n",
       "0                     [java]                    java  \n",
       "0                [analytics]               analytics  \n",
       "0                 [selenium]                selenium  "
      ]
     },
     "execution_count": 16,
     "metadata": {},
     "output_type": "execute_result"
    }
   ],
   "source": [
    "# read matched listing_skills with course_skills \n",
    "matched_course_skills_df = final_df[final_df.course_skill_names.str.len()>0]\n",
    "matched_course_skills_df.head(5)"
   ]
  },
  {
   "cell_type": "code",
   "execution_count": 17,
   "id": "78ce67ec-9672-44a2-a790-03170dcc59c8",
   "metadata": {
    "colab": {
     "base_uri": "https://localhost:8080/",
     "height": 206
    },
    "executionInfo": {
     "elapsed": 239,
     "status": "ok",
     "timestamp": 1670386550303,
     "user": {
      "displayName": "Sergey Gurvich",
      "userId": "03582118786368818507"
     },
     "user_tz": 480
    },
    "id": "78ce67ec-9672-44a2-a790-03170dcc59c8",
    "outputId": "24182a74-0672-4e3e-a7d3-1001e6b1add2"
   },
   "outputs": [
    {
     "data": {
      "text/html": [
       "<div>\n",
       "<style scoped>\n",
       "    .dataframe tbody tr th:only-of-type {\n",
       "        vertical-align: middle;\n",
       "    }\n",
       "\n",
       "    .dataframe tbody tr th {\n",
       "        vertical-align: top;\n",
       "    }\n",
       "\n",
       "    .dataframe thead th {\n",
       "        text-align: right;\n",
       "    }\n",
       "</style>\n",
       "<table border=\"1\" class=\"dataframe\">\n",
       "  <thead>\n",
       "    <tr style=\"text-align: right;\">\n",
       "      <th></th>\n",
       "      <th>listing_skill_id</th>\n",
       "      <th>listing_skill_name</th>\n",
       "      <th>course_skill_names</th>\n",
       "      <th>course_skill_ids</th>\n",
       "      <th>all_skills_matched</th>\n",
       "      <th>all_skills_matched_str</th>\n",
       "    </tr>\n",
       "  </thead>\n",
       "  <tbody>\n",
       "    <tr>\n",
       "      <th>0</th>\n",
       "      <td>18</td>\n",
       "      <td>python</td>\n",
       "      <td>[python]</td>\n",
       "      <td>6</td>\n",
       "      <td>[python]</td>\n",
       "      <td>python</td>\n",
       "    </tr>\n",
       "    <tr>\n",
       "      <th>0</th>\n",
       "      <td>20</td>\n",
       "      <td>javascript</td>\n",
       "      <td>[javascripts]</td>\n",
       "      <td>118</td>\n",
       "      <td>[javascript, javascripts]</td>\n",
       "      <td>javascript;javascripts</td>\n",
       "    </tr>\n",
       "    <tr>\n",
       "      <th>0</th>\n",
       "      <td>23</td>\n",
       "      <td>java</td>\n",
       "      <td>[java]</td>\n",
       "      <td>34</td>\n",
       "      <td>[java]</td>\n",
       "      <td>java</td>\n",
       "    </tr>\n",
       "    <tr>\n",
       "      <th>0</th>\n",
       "      <td>31</td>\n",
       "      <td>analytics</td>\n",
       "      <td>[analytics]</td>\n",
       "      <td>163</td>\n",
       "      <td>[analytics]</td>\n",
       "      <td>analytics</td>\n",
       "    </tr>\n",
       "    <tr>\n",
       "      <th>0</th>\n",
       "      <td>37</td>\n",
       "      <td>selenium</td>\n",
       "      <td>[selenium]</td>\n",
       "      <td>77</td>\n",
       "      <td>[selenium]</td>\n",
       "      <td>selenium</td>\n",
       "    </tr>\n",
       "  </tbody>\n",
       "</table>\n",
       "</div>"
      ],
      "text/plain": [
       "  listing_skill_id listing_skill_name course_skill_names course_skill_ids  \\\n",
       "0               18             python           [python]                6   \n",
       "0               20         javascript      [javascripts]              118   \n",
       "0               23               java             [java]               34   \n",
       "0               31          analytics        [analytics]              163   \n",
       "0               37           selenium         [selenium]               77   \n",
       "\n",
       "          all_skills_matched  all_skills_matched_str  \n",
       "0                   [python]                  python  \n",
       "0  [javascript, javascripts]  javascript;javascripts  \n",
       "0                     [java]                    java  \n",
       "0                [analytics]               analytics  \n",
       "0                 [selenium]                selenium  "
      ]
     },
     "execution_count": 17,
     "metadata": {},
     "output_type": "execute_result"
    }
   ],
   "source": [
    "matched_course_skills_exploded_df = matched_course_skills_df.explode('course_skill_ids')\n",
    "matched_course_skills_exploded_df.head(5)"
   ]
  },
  {
   "cell_type": "code",
   "execution_count": 18,
   "id": "29e45efb-4535-4cc7-b32d-bfd8d7652e86",
   "metadata": {
    "colab": {
     "base_uri": "https://localhost:8080/",
     "height": 206
    },
    "executionInfo": {
     "elapsed": 6,
     "status": "ok",
     "timestamp": 1670386550304,
     "user": {
      "displayName": "Sergey Gurvich",
      "userId": "03582118786368818507"
     },
     "user_tz": 480
    },
    "id": "29e45efb-4535-4cc7-b32d-bfd8d7652e86",
    "outputId": "c76b5be9-06d6-4217-ecd4-ebd5bd402d6b"
   },
   "outputs": [
    {
     "data": {
      "text/html": [
       "<div>\n",
       "<style scoped>\n",
       "    .dataframe tbody tr th:only-of-type {\n",
       "        vertical-align: middle;\n",
       "    }\n",
       "\n",
       "    .dataframe tbody tr th {\n",
       "        vertical-align: top;\n",
       "    }\n",
       "\n",
       "    .dataframe thead th {\n",
       "        text-align: right;\n",
       "    }\n",
       "</style>\n",
       "<table border=\"1\" class=\"dataframe\">\n",
       "  <thead>\n",
       "    <tr style=\"text-align: right;\">\n",
       "      <th></th>\n",
       "      <th>course_id</th>\n",
       "      <th>course_skill_id</th>\n",
       "    </tr>\n",
       "  </thead>\n",
       "  <tbody>\n",
       "    <tr>\n",
       "      <th>0</th>\n",
       "      <td>0</td>\n",
       "      <td>0</td>\n",
       "    </tr>\n",
       "    <tr>\n",
       "      <th>1</th>\n",
       "      <td>0</td>\n",
       "      <td>1</td>\n",
       "    </tr>\n",
       "    <tr>\n",
       "      <th>2</th>\n",
       "      <td>0</td>\n",
       "      <td>2</td>\n",
       "    </tr>\n",
       "    <tr>\n",
       "      <th>3</th>\n",
       "      <td>6</td>\n",
       "      <td>2</td>\n",
       "    </tr>\n",
       "    <tr>\n",
       "      <th>4</th>\n",
       "      <td>19</td>\n",
       "      <td>2</td>\n",
       "    </tr>\n",
       "  </tbody>\n",
       "</table>\n",
       "</div>"
      ],
      "text/plain": [
       "   course_id  course_skill_id\n",
       "0          0                0\n",
       "1          0                1\n",
       "2          0                2\n",
       "3          6                2\n",
       "4         19                2"
      ]
     },
     "execution_count": 18,
     "metadata": {},
     "output_type": "execute_result"
    }
   ],
   "source": [
    "# read relation between courses and course_skills\n",
    "courses_skills_relation_df = pd.read_csv(temp_dir+\"courses_skills_relationship_TEMP.csv\")\n",
    "courses_skills_relation_df.head(5)"
   ]
  },
  {
   "cell_type": "code",
   "execution_count": 19,
   "id": "172b89c4-a789-4a94-b94c-993dd556ff9a",
   "metadata": {
    "colab": {
     "base_uri": "https://localhost:8080/",
     "height": 424
    },
    "executionInfo": {
     "elapsed": 6,
     "status": "ok",
     "timestamp": 1670386550304,
     "user": {
      "displayName": "Sergey Gurvich",
      "userId": "03582118786368818507"
     },
     "user_tz": 480
    },
    "id": "172b89c4-a789-4a94-b94c-993dd556ff9a",
    "outputId": "7be50b4f-c8c0-4fb4-a14f-0dc46696614e"
   },
   "outputs": [
    {
     "data": {
      "text/html": [
       "<div>\n",
       "<style scoped>\n",
       "    .dataframe tbody tr th:only-of-type {\n",
       "        vertical-align: middle;\n",
       "    }\n",
       "\n",
       "    .dataframe tbody tr th {\n",
       "        vertical-align: top;\n",
       "    }\n",
       "\n",
       "    .dataframe thead th {\n",
       "        text-align: right;\n",
       "    }\n",
       "</style>\n",
       "<table border=\"1\" class=\"dataframe\">\n",
       "  <thead>\n",
       "    <tr style=\"text-align: right;\">\n",
       "      <th></th>\n",
       "      <th>course_id</th>\n",
       "      <th>course_skill_id</th>\n",
       "      <th>listing_skill_id</th>\n",
       "      <th>listing_skill_name</th>\n",
       "      <th>course_skill_names</th>\n",
       "      <th>course_skill_ids</th>\n",
       "      <th>all_skills_matched</th>\n",
       "      <th>all_skills_matched_str</th>\n",
       "    </tr>\n",
       "  </thead>\n",
       "  <tbody>\n",
       "    <tr>\n",
       "      <th>0</th>\n",
       "      <td>0</td>\n",
       "      <td>0</td>\n",
       "      <td>NaN</td>\n",
       "      <td>NaN</td>\n",
       "      <td>NaN</td>\n",
       "      <td>NaN</td>\n",
       "      <td>NaN</td>\n",
       "      <td>NaN</td>\n",
       "    </tr>\n",
       "    <tr>\n",
       "      <th>1</th>\n",
       "      <td>0</td>\n",
       "      <td>1</td>\n",
       "      <td>NaN</td>\n",
       "      <td>NaN</td>\n",
       "      <td>NaN</td>\n",
       "      <td>NaN</td>\n",
       "      <td>NaN</td>\n",
       "      <td>NaN</td>\n",
       "    </tr>\n",
       "    <tr>\n",
       "      <th>2</th>\n",
       "      <td>0</td>\n",
       "      <td>2</td>\n",
       "      <td>NaN</td>\n",
       "      <td>NaN</td>\n",
       "      <td>NaN</td>\n",
       "      <td>NaN</td>\n",
       "      <td>NaN</td>\n",
       "      <td>NaN</td>\n",
       "    </tr>\n",
       "    <tr>\n",
       "      <th>3</th>\n",
       "      <td>6</td>\n",
       "      <td>2</td>\n",
       "      <td>NaN</td>\n",
       "      <td>NaN</td>\n",
       "      <td>NaN</td>\n",
       "      <td>NaN</td>\n",
       "      <td>NaN</td>\n",
       "      <td>NaN</td>\n",
       "    </tr>\n",
       "    <tr>\n",
       "      <th>4</th>\n",
       "      <td>19</td>\n",
       "      <td>2</td>\n",
       "      <td>NaN</td>\n",
       "      <td>NaN</td>\n",
       "      <td>NaN</td>\n",
       "      <td>NaN</td>\n",
       "      <td>NaN</td>\n",
       "      <td>NaN</td>\n",
       "    </tr>\n",
       "    <tr>\n",
       "      <th>...</th>\n",
       "      <td>...</td>\n",
       "      <td>...</td>\n",
       "      <td>...</td>\n",
       "      <td>...</td>\n",
       "      <td>...</td>\n",
       "      <td>...</td>\n",
       "      <td>...</td>\n",
       "      <td>...</td>\n",
       "    </tr>\n",
       "    <tr>\n",
       "      <th>269</th>\n",
       "      <td>19</td>\n",
       "      <td>228</td>\n",
       "      <td>NaN</td>\n",
       "      <td>NaN</td>\n",
       "      <td>NaN</td>\n",
       "      <td>NaN</td>\n",
       "      <td>NaN</td>\n",
       "      <td>NaN</td>\n",
       "    </tr>\n",
       "    <tr>\n",
       "      <th>270</th>\n",
       "      <td>19</td>\n",
       "      <td>229</td>\n",
       "      <td>NaN</td>\n",
       "      <td>NaN</td>\n",
       "      <td>NaN</td>\n",
       "      <td>NaN</td>\n",
       "      <td>NaN</td>\n",
       "      <td>NaN</td>\n",
       "    </tr>\n",
       "    <tr>\n",
       "      <th>271</th>\n",
       "      <td>19</td>\n",
       "      <td>230</td>\n",
       "      <td>NaN</td>\n",
       "      <td>NaN</td>\n",
       "      <td>NaN</td>\n",
       "      <td>NaN</td>\n",
       "      <td>NaN</td>\n",
       "      <td>NaN</td>\n",
       "    </tr>\n",
       "    <tr>\n",
       "      <th>272</th>\n",
       "      <td>19</td>\n",
       "      <td>231</td>\n",
       "      <td>NaN</td>\n",
       "      <td>NaN</td>\n",
       "      <td>NaN</td>\n",
       "      <td>NaN</td>\n",
       "      <td>NaN</td>\n",
       "      <td>NaN</td>\n",
       "    </tr>\n",
       "    <tr>\n",
       "      <th>273</th>\n",
       "      <td>19</td>\n",
       "      <td>232</td>\n",
       "      <td>NaN</td>\n",
       "      <td>NaN</td>\n",
       "      <td>NaN</td>\n",
       "      <td>NaN</td>\n",
       "      <td>NaN</td>\n",
       "      <td>NaN</td>\n",
       "    </tr>\n",
       "  </tbody>\n",
       "</table>\n",
       "<p>274 rows × 8 columns</p>\n",
       "</div>"
      ],
      "text/plain": [
       "     course_id course_skill_id listing_skill_id listing_skill_name  \\\n",
       "0            0               0              NaN                NaN   \n",
       "1            0               1              NaN                NaN   \n",
       "2            0               2              NaN                NaN   \n",
       "3            6               2              NaN                NaN   \n",
       "4           19               2              NaN                NaN   \n",
       "..         ...             ...              ...                ...   \n",
       "269         19             228              NaN                NaN   \n",
       "270         19             229              NaN                NaN   \n",
       "271         19             230              NaN                NaN   \n",
       "272         19             231              NaN                NaN   \n",
       "273         19             232              NaN                NaN   \n",
       "\n",
       "    course_skill_names course_skill_ids all_skills_matched  \\\n",
       "0                  NaN              NaN                NaN   \n",
       "1                  NaN              NaN                NaN   \n",
       "2                  NaN              NaN                NaN   \n",
       "3                  NaN              NaN                NaN   \n",
       "4                  NaN              NaN                NaN   \n",
       "..                 ...              ...                ...   \n",
       "269                NaN              NaN                NaN   \n",
       "270                NaN              NaN                NaN   \n",
       "271                NaN              NaN                NaN   \n",
       "272                NaN              NaN                NaN   \n",
       "273                NaN              NaN                NaN   \n",
       "\n",
       "    all_skills_matched_str  \n",
       "0                      NaN  \n",
       "1                      NaN  \n",
       "2                      NaN  \n",
       "3                      NaN  \n",
       "4                      NaN  \n",
       "..                     ...  \n",
       "269                    NaN  \n",
       "270                    NaN  \n",
       "271                    NaN  \n",
       "272                    NaN  \n",
       "273                    NaN  \n",
       "\n",
       "[274 rows x 8 columns]"
      ]
     },
     "execution_count": 19,
     "metadata": {},
     "output_type": "execute_result"
    }
   ],
   "source": [
    "# we need to merge matched_course_skills_exploded_df and courses_skills_relation_df to get connection between course_id and listing_skill_id\n",
    "course_listing_skill_relation_df = courses_skills_relation_df.merge(matched_course_skills_exploded_df, \n",
    "                                                                    how='outer', \n",
    "                                                                    left_on='course_skill_id', \n",
    "                                                                    right_on='course_skill_ids')\n",
    "\n",
    "# final = JobListing.merge(skills, how='outer', left_on='listing_skills', right_on='job_listing_skill_name')\n",
    "\n",
    "course_listing_skill_relation_df"
   ]
  },
  {
   "cell_type": "code",
   "execution_count": 20,
   "id": "655aa5ca-8365-42e8-adcb-bb8684dcb7a9",
   "metadata": {
    "colab": {
     "base_uri": "https://localhost:8080/",
     "height": 397
    },
    "executionInfo": {
     "elapsed": 411,
     "status": "ok",
     "timestamp": 1670386550710,
     "user": {
      "displayName": "Sergey Gurvich",
      "userId": "03582118786368818507"
     },
     "user_tz": 480
    },
    "id": "655aa5ca-8365-42e8-adcb-bb8684dcb7a9",
    "outputId": "fc29b796-04af-4200-bf02-c11eca7506c2"
   },
   "outputs": [
    {
     "name": "stderr",
     "output_type": "stream",
     "text": [
      "/Users/sergeygurvich/anaconda3/envs/textprocessing/lib/python3.7/site-packages/ipykernel_launcher.py:3: SettingWithCopyWarning: \n",
      "A value is trying to be set on a copy of a slice from a DataFrame.\n",
      "Try using .loc[row_indexer,col_indexer] = value instead\n",
      "\n",
      "See the caveats in the documentation: https://pandas.pydata.org/pandas-docs/stable/user_guide/indexing.html#returning-a-view-versus-a-copy\n",
      "  This is separate from the ipykernel package so we can avoid doing imports until\n",
      "/Users/sergeygurvich/anaconda3/envs/textprocessing/lib/python3.7/site-packages/pandas/util/_decorators.py:311: SettingWithCopyWarning: \n",
      "A value is trying to be set on a copy of a slice from a DataFrame\n",
      "\n",
      "See the caveats in the documentation: https://pandas.pydata.org/pandas-docs/stable/user_guide/indexing.html#returning-a-view-versus-a-copy\n",
      "  return func(*args, **kwargs)\n"
     ]
    },
    {
     "data": {
      "text/html": [
       "<div>\n",
       "<style scoped>\n",
       "    .dataframe tbody tr th:only-of-type {\n",
       "        vertical-align: middle;\n",
       "    }\n",
       "\n",
       "    .dataframe tbody tr th {\n",
       "        vertical-align: top;\n",
       "    }\n",
       "\n",
       "    .dataframe thead th {\n",
       "        text-align: right;\n",
       "    }\n",
       "</style>\n",
       "<table border=\"1\" class=\"dataframe\">\n",
       "  <thead>\n",
       "    <tr style=\"text-align: right;\">\n",
       "      <th></th>\n",
       "      <th>:START_ID</th>\n",
       "      <th>:END_ID</th>\n",
       "      <th>:TYPE</th>\n",
       "    </tr>\n",
       "  </thead>\n",
       "  <tbody>\n",
       "    <tr>\n",
       "      <th>12</th>\n",
       "      <td>0</td>\n",
       "      <td>18</td>\n",
       "      <td>TEACHES</td>\n",
       "    </tr>\n",
       "    <tr>\n",
       "      <th>13</th>\n",
       "      <td>3</td>\n",
       "      <td>18</td>\n",
       "      <td>TEACHES</td>\n",
       "    </tr>\n",
       "    <tr>\n",
       "      <th>14</th>\n",
       "      <td>4</td>\n",
       "      <td>18</td>\n",
       "      <td>TEACHES</td>\n",
       "    </tr>\n",
       "    <tr>\n",
       "      <th>22</th>\n",
       "      <td>0</td>\n",
       "      <td>118</td>\n",
       "      <td>TEACHES</td>\n",
       "    </tr>\n",
       "    <tr>\n",
       "      <th>23</th>\n",
       "      <td>18</td>\n",
       "      <td>118</td>\n",
       "      <td>TEACHES</td>\n",
       "    </tr>\n",
       "  </tbody>\n",
       "</table>\n",
       "</div>"
      ],
      "text/plain": [
       "    :START_ID :END_ID    :TYPE\n",
       "12          0      18  TEACHES\n",
       "13          3      18  TEACHES\n",
       "14          4      18  TEACHES\n",
       "22          0     118  TEACHES\n",
       "23         18     118  TEACHES"
      ]
     },
     "execution_count": 20,
     "metadata": {},
     "output_type": "execute_result"
    }
   ],
   "source": [
    "course_listing_skill_relation_df = course_listing_skill_relation_df[['course_id', 'listing_skill_id']]\n",
    "course_listing_skill_relation_df.columns = [':START_ID', ':END_ID']\n",
    "course_listing_skill_relation_df[':TYPE']='TEACHES'\n",
    "course_listing_skill_relation_df.dropna(inplace=True)\n",
    "course_listing_skill_relation_df.head(5)"
   ]
  },
  {
   "cell_type": "code",
   "execution_count": 21,
   "id": "94be3c54-833c-4f70-9dc8-e63fe8350139",
   "metadata": {
    "id": "94be3c54-833c-4f70-9dc8-e63fe8350139"
   },
   "outputs": [],
   "source": [
    "course_listing_skill_relation_df.to_csv(output_dir+\"teaches__relation.csv\", index=False)"
   ]
  },
  {
   "cell_type": "code",
   "execution_count": 22,
   "id": "469fb418-0ddf-4ca6-8714-1cd1883cbf0d",
   "metadata": {
    "colab": {
     "base_uri": "https://localhost:8080/"
    },
    "executionInfo": {
     "elapsed": 195,
     "status": "ok",
     "timestamp": 1670387326139,
     "user": {
      "displayName": "Sergey Gurvich",
      "userId": "03582118786368818507"
     },
     "user_tz": 480
    },
    "id": "469fb418-0ddf-4ca6-8714-1cd1883cbf0d",
    "outputId": "13f297de-2c5c-4008-c41d-62ed4b61977b"
   },
   "outputs": [
    {
     "data": {
      "text/plain": [
       "233"
      ]
     },
     "execution_count": 22,
     "metadata": {},
     "output_type": "execute_result"
    }
   ],
   "source": [
    "len(courses_skills_df)"
   ]
  },
  {
   "cell_type": "code",
   "execution_count": null,
   "id": "EMoGDY_uWkPs",
   "metadata": {
    "id": "EMoGDY_uWkPs"
   },
   "outputs": [],
   "source": []
  }
 ],
 "metadata": {
  "colab": {
   "provenance": []
  },
  "kernelspec": {
   "display_name": "Python 3 (ipykernel)",
   "language": "python",
   "name": "python3"
  },
  "language_info": {
   "codemirror_mode": {
    "name": "ipython",
    "version": 3
   },
   "file_extension": ".py",
   "mimetype": "text/x-python",
   "name": "python",
   "nbconvert_exporter": "python",
   "pygments_lexer": "ipython3",
   "version": "3.7.13"
  }
 },
 "nbformat": 4,
 "nbformat_minor": 5
}
